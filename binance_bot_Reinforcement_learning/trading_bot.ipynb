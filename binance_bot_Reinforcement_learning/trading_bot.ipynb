{
 "cells": [
  {
   "cell_type": "code",
   "execution_count": 1,
   "metadata": {},
   "outputs": [],
   "source": [
    "import pandas as pd\n",
    "import time\n",
    "import dateparser\n",
    "import pytz\n",
    "import argparse\n",
    "from datetime import datetime\n",
    "from binance.client import Client\n",
    "import os\n",
    "from binance.exceptions import BinanceAPIException"
   ]
  },
  {
   "cell_type": "code",
   "execution_count": 2,
   "metadata": {},
   "outputs": [],
   "source": [
    "api_key = \"iZHsmlsCReb9S6zVO05Vxy8ONQYK8J3CfshgNiRh3HlRShPULMj8EYBClftHBqi1\"\n",
    "api_secret = \"4IHk54oeSmmoXGQqWNgi24SJ1uHaTSEBfN48nOhYex8ATFFOj2WoWZQfDFD0pzu1\""
   ]
  },
  {
   "cell_type": "code",
   "execution_count": 3,
   "metadata": {},
   "outputs": [],
   "source": [
    "client = Client(api_key, api_secret)\n",
    "tz = pytz.timezone('UTC')\n",
    "buy = {}\n",
    "loss = []\n",
    "quantity = {}"
   ]
  },
  {
   "cell_type": "code",
   "execution_count": 4,
   "metadata": {},
   "outputs": [],
   "source": [
    "def date_to_milliseconds(date_str):\n",
    "    # date_str format: \"January 01, 2018\", \"11 hours ago UTC\", \"now UTC\"\n",
    "    epoch = datetime.utcfromtimestamp(0).replace(tzinfo=pytz.utc)\n",
    "    d = dateparser.parse(date_str)\n",
    "    if d.tzinfo is None or d.tzinfo.utcoffset(d) is None:\n",
    "        d = d.replace(tzinfo=pytz.utc)\n",
    "    return int((d - epoch).total_seconds() * 1000.0)"
   ]
  },
  {
   "cell_type": "code",
   "execution_count": 5,
   "metadata": {},
   "outputs": [],
   "source": [
    "def interval_to_milliseconds(interval):\n",
    "    # interval format: 1m, 3m, 5m, 15m, 30m, 1h, 2h, 4h, 6h, 8h, 1d, 3d, 1w\n",
    "    ms = None\n",
    "    seconds_per_unit = {\n",
    "        \"m\": 60,\n",
    "        \"h\": 60 * 60,\n",
    "        \"d\": 24 * 60 * 60,\n",
    "        \"w\": 7 * 24 * 60 * 60\n",
    "    }\n",
    "    unit = interval[-1]\n",
    "    if unit in seconds_per_unit:\n",
    "        try:\n",
    "            ms = int(interval[:-1]) * seconds_per_unit[unit] * 1000\n",
    "        except ValueError:\n",
    "            pass\n",
    "    return ms"
   ]
  },
  {
   "cell_type": "code",
   "execution_count": 6,
   "metadata": {},
   "outputs": [],
   "source": [
    "def get_historical_klines(symbol, interval, start_str, end_str=None):\n",
    "    \"\"\"Get Historical Klines from Binance\n",
    "    If using offset strings for dates add \"UTC\" to date string e.g. \"now UTC\", \"11 hours ago UTC\", \"1 Dec, 2017\"\n",
    "    :param symbol: Name of symbol pair e.g BNBBTC\n",
    "    :param interval: Biannce Kline interval\n",
    "    :param start_str: Start date string in UTC format\n",
    "    :param end_str: optional - end date string in UTC format\n",
    "    :return: list of Open High Low Close Volume values\n",
    "    \"\"\"\n",
    "    output_data = []\n",
    "    limit = 50\n",
    "    timeframe = interval_to_milliseconds(interval)\n",
    "    start_ts = date_to_milliseconds(start_str)\n",
    "    end_ts = None\n",
    "    if end_str:\n",
    "        end_ts = date_to_milliseconds(end_str)\n",
    "\n",
    "    idx = 0\n",
    "    # it can be difficult to know when a symbol was listed on Binance so allow start time to be before list date\n",
    "    symbol_existed = False\n",
    "    while True:\n",
    "        temp_data = client.get_klines(\n",
    "            symbol=symbol,\n",
    "            interval=interval,\n",
    "            limit=limit,\n",
    "            startTime=start_ts,\n",
    "            endTime=end_ts\n",
    "        )\n",
    "        # handle the case where our start date is before the symbol pair listed on Binance\n",
    "        if not symbol_existed and len(temp_data):\n",
    "            symbol_existed = True\n",
    "        if symbol_existed:\n",
    "            output_data += temp_data\n",
    "            start_ts = temp_data[len(temp_data) - 1][0] + timeframe\n",
    "        else:\n",
    "            start_ts += timeframe\n",
    "        idx += 1\n",
    "        if len(temp_data) < limit:\n",
    "            break\n",
    "        # sleep after every 3rd call to be kind to the API\n",
    "        if idx % 3 == 0:\n",
    "            time.sleep(1)\n",
    "\n",
    "    return output_data\n"
   ]
  },
  {
   "cell_type": "code",
   "execution_count": 7,
   "metadata": {},
   "outputs": [],
   "source": [
    "def get_historic_klines(symbol, start, end, interval):\n",
    "    klines = get_historical_klines(symbol, interval, start, end)\n",
    "    #print(\"Klines\")\n",
    "    #print(klines[-1])\n",
    "    ochl = []\n",
    "    for kline in klines:\n",
    "        time1 = int(kline[0])\n",
    "        open1 = float(kline[1])\n",
    "        high = float(kline[2])\n",
    "        low = float(kline[3])\n",
    "        close = float(kline[4])\n",
    "        volume = float(kline[5])\n",
    "        ochl.append([time1, open1, close, high, low, volume])\n",
    "    #df = pd.DataFrame(ochl)\n",
    "    #print(symbol)\n",
    "    #print(df)\n",
    "    #print(ochl[-1])\n",
    "    '''\n",
    "    fig, ax = plt.subplots()\n",
    "    mpl_finance.candlestick_ochl(ax, ochl, width=1)\n",
    "    ax.set(xlabel='Date', ylabel='Price', title='{} {}-{}'.format(symbol, start, end))\n",
    "    plt.show(block=False)\n",
    "    plt.pause(3)\n",
    "    plt.close()\n",
    "    '''\n",
    "    return ochl\n"
   ]
  },
  {
   "cell_type": "code",
   "execution_count": 12,
   "metadata": {},
   "outputs": [],
   "source": [
    "def Main():\n",
    "    list_of_symbols = ['XMRUSDT', 'LINKUSDT', 'LTCUSDT', 'BNBUSDT', 'EOSUSDT', 'BTCUSDT', 'ETHUSDT', 'XRPUSDT']  # Symbols to be traded\n",
    "    quantity_1 = 5 # any value between 1-4 : 1 =100%, 2=50%, 3 = 33%, 4 = 25%, 5 = 20% and so on...\n",
    "    max_amount = 10000  # Maximum authorized amount\n",
    "    loss_limit = -50  # Maximum loss limit to terminate the trading in dollar\n",
    "    buy_percent = 0.004 # percent at which it should buy, currently 0.15% = 0.15/100 = 0.0015\n",
    "    sell_percent = -0.006 # percent at which it should sell, currently 0.1%\n",
    "    loss_percent = -0.002 # stop loss if price falls, currently -0.3%\n",
    "    transaction = 150 # number of maximum transactions\n",
    "    buy_range = 0.005  # allowed buy upto, currently 1.5%\n",
    "    sleep_time = 20   # according to candle interval 15 for 5 MINUTE, 30 for 30 MINUTE, 45 for 1 HOUR\n",
    "    spent_amount = 0\n",
    "    count = 0\n",
    "    buy_open = [] # to avoid multiple buy at same candle \n",
    "    high ={} \n",
    "    symbols_csv_files = []\n",
    "    while True:\n",
    "        client.get_deposit_address(asset='USDT')  # USDT or BTC\n",
    "\n",
    "        try:\n",
    "            for symbol in list_of_symbols:\n",
    "                \n",
    "                # My modifications\n",
    "                ochl = get_historic_klines(symbol, \"5 days ago UTC\", \"now UTC\", Client.KLINE_INTERVAL_5MINUTE)\n",
    "                open1, close, high1,high_past = ochl[-1][1], ochl[-1][2],ochl[-1][3],ochl[-2][3]\n",
    "                \n",
    "                if symbol not in symbols_csv_files:\n",
    "                    df = pd.DataFrame(ochl, columns=[\"date\", \"open\", \"close\", \"high\", \"low\", \"volume\"])\n",
    "                    \n",
    "                    f_name = str(symbol) + \".csv\"\n",
    "                    for i in df.index:\n",
    "                        df.at[i,'date'] = datetime.fromtimestamp((int(df.at[i,'date']))/1000.0).date()\n",
    "                    symbols_csv_files.append(symbol)\n",
    "                    print(symbol)\n",
    "                    print(df)\n",
    "                    df.to_csv(f_name, columns=[\"date\", \"open\", \"close\", \"high\", \"low\", \"volume\"])\n",
    "                \n",
    "                if symbol in high:\n",
    "                    #print(high1)\n",
    "                    if high1>high_past and open1 not in buy_open:\n",
    "                        high[symbol] = high1\n",
    "                    elif high1>high[symbol]:\n",
    "                        high[symbol]=high1\n",
    "                symbol = str(symbol)\n",
    "                if open1 not in buy_open:        \n",
    "                    if (close  >= (1+buy_percent) * open1) and (symbol not in buy.keys()) and close < (1+buy_range) * open1:\n",
    "                        if spent_amount <= max_amount:\n",
    "                            count += 1\n",
    "                            quantity[symbol] = (max_amount / (quantity_1 * close))\n",
    "                            quantity1 = quantity[symbol]\n",
    "                            buy_open.append(open1)\n",
    "                            high[symbol] = high1\n",
    "                                      \n",
    "                            '''\n",
    "                            client.order_limit_buy(\n",
    "                                symbol=symbol,\n",
    "                                quantity=quantity[symbol],\n",
    "                                price=close  # comment this line to buy at market price\n",
    "                                )\n",
    "                            '''\n",
    "                            spent_amount += close * quantity1\n",
    "                            buy[symbol] = close\n",
    "                            print('Bought ' + symbol + ' at ' + str(close))\n",
    "\n",
    "                            df1 = pd.DataFrame({'Datetime': [datetime.now(tz)], 'Symbol': [symbol], 'Buy/Sell': ['Buy'],\n",
    "                                        'Quantity': [quantity1], 'Price': [close], 'Profit/loss': [0]})\n",
    "                            df1['Datetime'] = df1['Datetime'].apply(lambda x: x.strftime('%Y-%m-%d %H:%M:%S'))\n",
    "                            if not os.path.isfile('Binance.csv'):\n",
    "                                df1.to_csv('Binance.csv', index=False)\n",
    "                            else:\n",
    "                                df1.to_csv('Binance.csv', index=False, mode='a', header=False)\n",
    "\n",
    "                if symbol in buy:\n",
    "                    #print(close, high[symbol], high1)\n",
    "                    if (close <= high[symbol] * (1+sell_percent)) or (close  <= (1+loss_percent) * buy[symbol]):\n",
    "                        '''\n",
    "                        client.order_limit_sell(\n",
    "                          symbol=symbol,\n",
    "                          quantity=quantity[symbol],\n",
    "                          price=close  # comment this line to sell at market price\n",
    "                          )\n",
    "                        '''\n",
    "                        if close <= high[symbol]*(1+sell_percent):\n",
    "                            print('high limit' )\n",
    "                        profit = close - buy[symbol]\n",
    "                        max_amount += profit\n",
    "                        quantity1 = quantity[symbol]\n",
    "                        spent_amount -= quantity1 * buy[symbol]\n",
    "                        total_profit = profit * quantity1\n",
    "                        print(\"SELL \" + symbol + \" at \" + str(close))\n",
    "                        print(\"Profit made \" + str(total_profit))\n",
    "\n",
    "                        df2 = pd.DataFrame({'Datetime': [datetime.now(tz)], 'Symbol': [symbol], 'Buy/Sell': ['Sell'],\n",
    "                                        'Quantity': [quantity1], 'Price': [close], 'Profit/loss': [total_profit]})\n",
    "                        df2['Datetime'] = df2['Datetime'].apply(lambda x: x.strftime('%Y-%m-%d %H:%M:%S'))\n",
    "                        df2.to_csv('Binance.csv', index=False, mode='a', header=False)\n",
    "\n",
    "                        loss.append(total_profit)\n",
    "                        if count >= len(list_of_symbols):\n",
    "                            loss.pop(0)\n",
    "                        buy.pop(symbol)  # Removing the sold symbol\n",
    "\n",
    "                if (loss_limit > sum(loss)) or (count > int(transaction)):\n",
    "                    print(\"Quitting....\")\n",
    "                    raise SystemExit\n",
    "\n",
    "            time.sleep(sleep_time)\n",
    "\n",
    "        except BinanceAPIException as e:\n",
    "            print(e,symbol)\n",
    "        except KeyboardInterrupt:\n",
    "            print(\"Total Profit \" + str(sum(loss)))\n",
    "            break\n",
    "\n",
    "        except SystemExit:\n",
    "            print(\"Exit\")\n",
    "            print(\"Total Profit \" + str(sum(loss)))\n",
    "            break\n"
   ]
  },
  {
   "cell_type": "code",
   "execution_count": 13,
   "metadata": {
    "scrolled": false
   },
   "outputs": [
    {
     "name": "stdout",
     "output_type": "stream",
     "text": [
      "Inside main\n",
      "XMRUSDT\n",
      "            date   open  close   high    low     volume\n",
      "0     2020-05-22  62.19  62.22  62.27  62.19  119.19960\n",
      "1     2020-05-22  62.20  62.12  62.22  62.12  115.91307\n",
      "2     2020-05-22  62.12  62.20  62.20  62.09  255.29778\n",
      "3     2020-05-22  62.22  62.23  62.26  62.18  122.97862\n",
      "4     2020-05-22  62.23  62.36  62.36  62.23  118.53961\n",
      "...          ...    ...    ...    ...    ...        ...\n",
      "1435  2020-05-27  63.35  63.47  63.49  63.35   87.75154\n",
      "1436  2020-05-27  63.49  63.41  63.56  63.40  152.67882\n",
      "1437  2020-05-27  63.36  63.35  63.39  63.28  497.97340\n",
      "1438  2020-05-27  63.39  63.42  63.57  63.38  312.02039\n",
      "1439  2020-05-27  63.44  63.51  63.55  63.44   28.31096\n",
      "\n",
      "[1440 rows x 6 columns]\n",
      "LINKUSDT\n",
      "            date    open   close    high     low    volume\n",
      "0     2020-05-22  3.9680  3.9618  3.9680  3.9618  11740.11\n",
      "1     2020-05-22  3.9618  3.9610  3.9621  3.9541  19804.99\n",
      "2     2020-05-22  3.9619  3.9677  3.9754  3.9619  32496.62\n",
      "3     2020-05-22  3.9679  3.9735  3.9735  3.9637  23718.95\n",
      "4     2020-05-22  3.9740  3.9716  3.9786  3.9708  16106.84\n",
      "...          ...     ...     ...     ...     ...       ...\n",
      "1435  2020-05-27  3.8940  3.8820  3.8940  3.8807  38172.96\n",
      "1436  2020-05-27  3.8829  3.8750  3.8833  3.8733  17824.98\n",
      "1437  2020-05-27  3.8735  3.8799  3.8817  3.8735  12274.39\n",
      "1438  2020-05-27  3.8803  3.8779  3.8825  3.8759  17901.41\n",
      "1439  2020-05-27  3.8778  3.8793  3.8793  3.8778   1071.88\n",
      "\n",
      "[1440 rows x 6 columns]\n",
      "LTCUSDT\n",
      "            date   open  close   high    low      volume\n",
      "0     2020-05-22  43.70  43.68  43.73  43.66  1455.02866\n",
      "1     2020-05-22  43.68  43.64  43.69  43.63   696.49806\n",
      "2     2020-05-22  43.64  43.67  43.70  43.64  1257.86853\n",
      "3     2020-05-22  43.68  43.76  43.76  43.65   483.94984\n",
      "4     2020-05-22  43.77  43.80  43.82  43.75   570.36268\n",
      "...          ...    ...    ...    ...    ...         ...\n",
      "1435  2020-05-27  43.54  43.61  43.66  43.53  4386.73290\n",
      "1436  2020-05-27  43.61  43.52  43.62  43.45  5704.49645\n",
      "1437  2020-05-27  43.53  43.49  43.58  43.48   616.90513\n",
      "1438  2020-05-27  43.51  43.57  43.59  43.50  1039.99897\n",
      "1439  2020-05-27  43.57  43.56  43.57  43.54    34.88227\n",
      "\n",
      "[1440 rows x 6 columns]\n",
      "BNBUSDT\n",
      "            date     open    close     high      low    volume\n",
      "0     2020-05-22  16.5503  16.5332  16.5555  16.5332    497.97\n",
      "1     2020-05-22  16.5335  16.5368  16.5501  16.5279   1399.30\n",
      "2     2020-05-22  16.5367  16.5359  16.5597  16.5350   2532.62\n",
      "3     2020-05-22  16.5354  16.5549  16.5580  16.5300   3271.34\n",
      "4     2020-05-22  16.5547  16.5509  16.5785  16.5500   2996.24\n",
      "...          ...      ...      ...      ...      ...       ...\n",
      "1435  2020-05-27  16.4899  16.4855  16.5100  16.4768  10044.28\n",
      "1436  2020-05-27  16.4906  16.4517  16.4906  16.4413   9659.50\n",
      "1437  2020-05-27  16.4517  16.4524  16.4726  16.4500   5135.12\n",
      "1438  2020-05-27  16.4533  16.4216  16.4533  16.3800  14114.19\n",
      "1439  2020-05-27  16.4127  16.4242  16.4295  16.4046    761.97\n",
      "\n",
      "[1440 rows x 6 columns]\n",
      "EOSUSDT\n",
      "            date    open   close    high     low     volume\n",
      "0     2020-05-22  2.5320  2.5310  2.5331  2.5301    7594.52\n",
      "1     2020-05-22  2.5309  2.5300  2.5321  2.5267   25708.71\n",
      "2     2020-05-22  2.5299  2.5316  2.5349  2.5299   16315.85\n",
      "3     2020-05-22  2.5316  2.5400  2.5400  2.5316  101713.69\n",
      "4     2020-05-22  2.5405  2.5382  2.5419  2.5377   34240.20\n",
      "...          ...     ...     ...     ...     ...        ...\n",
      "1435  2020-05-27  2.5513  2.5515  2.5551  2.5498   37532.22\n",
      "1436  2020-05-27  2.5522  2.5454  2.5522  2.5438   27466.86\n",
      "1437  2020-05-27  2.5456  2.5449  2.5474  2.5433   11145.81\n",
      "1438  2020-05-27  2.5451  2.5493  2.5512  2.5448   23355.45\n",
      "1439  2020-05-27  2.5489  2.5501  2.5512  2.5482    5432.39\n",
      "\n",
      "[1440 rows x 6 columns]\n",
      "BTCUSDT\n",
      "            date     open    close     high      low      volume\n",
      "0     2020-05-22  9158.22  9145.41  9165.64  9144.45  195.221602\n",
      "1     2020-05-22  9145.15  9154.30  9161.34  9145.00  182.117139\n",
      "2     2020-05-22  9154.95  9150.00  9163.10  9149.99  227.489300\n",
      "3     2020-05-22  9150.00  9167.99  9167.99  9150.00  116.487787\n",
      "4     2020-05-22  9167.99  9172.83  9177.54  9166.44  165.492866\n",
      "...          ...      ...      ...      ...      ...         ...\n",
      "1435  2020-05-27  9142.81  9135.01  9160.00  9135.00  586.380374\n",
      "1436  2020-05-27  9135.00  9116.32  9135.17  9116.29  458.601478\n",
      "1437  2020-05-27  9116.85  9119.28  9129.54  9113.25  208.337830\n",
      "1438  2020-05-27  9119.52  9127.86  9134.99  9116.90  284.399049\n",
      "1439  2020-05-27  9127.86  9137.52  9140.00  9127.00  243.029384\n",
      "\n",
      "[1440 rows x 6 columns]\n",
      "ETHUSDT\n",
      "            date    open   close    high     low      volume\n",
      "0     2020-05-22  203.01  202.73  203.09  202.70  1259.44237\n",
      "1     2020-05-22  202.72  202.88  202.90  202.60   975.29513\n",
      "2     2020-05-22  202.88  202.74  203.00  202.69  1004.21514\n",
      "3     2020-05-22  202.72  203.32  203.35  202.72  4034.07846\n",
      "4     2020-05-22  203.32  203.43  203.60  203.28  2375.53234\n",
      "...          ...     ...     ...     ...     ...         ...\n",
      "1435  2020-05-27  206.38  206.53  206.70  206.35  5748.78905\n",
      "1436  2020-05-27  206.53  206.04  206.59  206.04  1981.62059\n",
      "1437  2020-05-27  206.06  205.94  206.20  205.91  1964.31772\n",
      "1438  2020-05-27  205.93  206.47  206.62  205.90  3232.27319\n",
      "1439  2020-05-27  206.46  206.54  206.63  206.46   557.02702\n",
      "\n",
      "[1440 rows x 6 columns]\n",
      "XRPUSDT\n",
      "            date     open    close     high      low    volume\n",
      "0     2020-05-22  0.20026  0.20029  0.20040  0.20020   77651.5\n",
      "1     2020-05-22  0.20028  0.20036  0.20040  0.20025  162971.5\n",
      "2     2020-05-22  0.20036  0.20056  0.20067  0.20036  283109.2\n",
      "3     2020-05-22  0.20058  0.20108  0.20108  0.20054  548157.9\n",
      "4     2020-05-22  0.20107  0.20104  0.20118  0.20097  451406.8\n",
      "...          ...      ...      ...      ...      ...       ...\n",
      "1435  2020-05-27  0.19897  0.19861  0.19900  0.19858  875130.3\n",
      "1436  2020-05-27  0.19860  0.19838  0.19862  0.19832  465704.6\n",
      "1437  2020-05-27  0.19838  0.19845  0.19859  0.19838  168856.5\n",
      "1438  2020-05-27  0.19846  0.19881  0.19896  0.19846  393632.4\n",
      "1439  2020-05-27  0.19885  0.19894  0.19894  0.19874  142471.0\n",
      "\n",
      "[1440 rows x 6 columns]\n",
      "Total Profit 0\n"
     ]
    }
   ],
   "source": [
    "if __name__ == \"__main__\":\n",
    "    print(\"Inside main\")\n",
    "    Main()"
   ]
  },
  {
   "cell_type": "code",
   "execution_count": 10,
   "metadata": {},
   "outputs": [
    {
     "name": "stderr",
     "output_type": "stream",
     "text": [
      "Using TensorFlow backend.\n"
     ]
    }
   ],
   "source": [
    "import lxml.html as lh\n",
    "import time\n",
    "import urllib.request\n",
    "import argparse\n",
    "import urllib.request, urllib.parse, urllib.error\n",
    "import datetime\n",
    "import pytz\n",
    "from selenium import webdriver\n",
    "from selenium.common.exceptions import StaleElementReferenceException\n",
    "import os\n",
    "import coloredlogs\n",
    "import json\n",
    "import ssl\n",
    "from docopt import docopt\n",
    "from trading_bot.ops import get_state\n",
    "from trading_bot.agent import Agent\n",
    "from trading_bot.methods import evaluate_model\n",
    "from trading_bot.utils import (\n",
    "    get_stock_data,\n",
    "    format_currency,\n",
    "    format_position,\n",
    "    show_eval_result,\n",
    "    switch_k_backend_device\n",
    ")"
   ]
  },
  {
   "cell_type": "code",
   "execution_count": 11,
   "metadata": {},
   "outputs": [],
   "source": [
    "tz = pytz.timezone('Asia/Kolkata')\n",
    "ctx = ssl.create_default_context()\n",
    "ctx.check_hostname = False\n",
    "ctx.verify_mode = ssl.CERT_NONE"
   ]
  },
  {
   "cell_type": "code",
   "execution_count": 12,
   "metadata": {},
   "outputs": [],
   "source": [
    "def Real(url):\n",
    "    uh = urllib.request.urlopen(url, context=ctx)\n",
    "    data = uh.read().decode()\n",
    "    info = json.loads(data)\n",
    "    live = info['price'];\n",
    "    time.sleep(1)\n",
    "    return float(live)"
   ]
  },
  {
   "cell_type": "code",
   "execution_count": 13,
   "metadata": {},
   "outputs": [],
   "source": [
    "def main(args):\n",
    "    count = 0\n",
    "    total_profit = 0\n",
    "    t=0\n",
    "    history = []\n",
    "    reward = 0\n",
    "    price = []\n",
    "    window_size =5\n",
    "    time_now = datetime.datetime.now(tz).time()\n",
    "    url = 'https://api.binance.com/api/v1/ticker/price?symbol={}'.format(args.ticker)\n",
    "    live = Real(url)\n",
    "    print(live)\n",
    "\n",
    "    while(count < 10):\n",
    "        url = 'https://api.binance.com/api/v1/ticker/price?symbol={}'.format(args.ticker)\n",
    "        live = Real(url)\n",
    "        count+=1        \n",
    "        price.append(live)\n",
    "        if count < window_size:\n",
    "           continue\n",
    "        model_name='model_double-dqn_GOOG_50'  \n",
    "        print(live)\n",
    "        initial_offset = price[1] - price[0]\n",
    "        state = get_state(price, 0, window_size + 1)\n",
    "        next_state = get_state(price, t + 1, window_size + 1)\n",
    "        agent = Agent(state_size=window_size, pretrained=True, model_name=model_name)\n",
    "        agent.inventory = []\n",
    "        profit = evaluate_model(agent,state,next_state, price, t, total_profit, history, reward, window_size=window_size)\n",
    "        show_eval_result(model_name, profit, initial_offset)\n",
    "        t+=1\n",
    "        state = next_state"
   ]
  },
  {
   "cell_type": "code",
   "execution_count": 14,
   "metadata": {},
   "outputs": [],
   "source": [
    "def evaluate_model(agent, state, next_state, data, t, total_profit, history, reward, window_size, debug=False):\n",
    "    print(\"t\")\n",
    "    print(t)\n",
    "        # select an action\n",
    "    action = agent.act(state, is_eval=True)\n",
    "\n",
    "        # BUY\n",
    "    if action == 1:\n",
    "        agent.inventory.append(data[t])\n",
    "\n",
    "        history.append((data[t], \"BUY\"))\n",
    "        if debug:\n",
    "            logging.debug(\"Buy at: {}\".format(format_currency(data[t])))\n",
    "\n",
    "        # SELL\n",
    "    elif action == 2 and len(agent.inventory) > 0:\n",
    "        bought_price = agent.inventory.pop(0)\n",
    "        delta = data[t] - bought_price\n",
    "        reward = delta #max(delta, 0)\n",
    "        total_profit += delta\n",
    "\n",
    "        history.append((data[t], \"SELL\"))\n",
    "        if debug:\n",
    "            logging.debug(\"Sell at: {} | Position: {}\".format(\n",
    "                    format_currency(data[t]), format_position(data[t] - bought_price)))\n",
    "        # HOLD\n",
    "    else:\n",
    "        history.append((data[t], \"HOLD\"))\n",
    "\n",
    "#        done = (t == data_length - 1)\n",
    "    agent.memory.append((state, action, reward, next_state))\n",
    "\n",
    "    return total_profit\n"
   ]
  },
  {
   "cell_type": "code",
   "execution_count": 25,
   "metadata": {
    "scrolled": false
   },
   "outputs": [
    {
     "name": "stderr",
     "output_type": "stream",
     "text": [
      "2020-05-26 11:34:03 darkdevil root[17113] DEBUG switching to TensorFlow for CPU\n"
     ]
    },
    {
     "name": "stdout",
     "output_type": "stream",
     "text": [
      "8928.87\n",
      "8927.83\n"
     ]
    },
    {
     "name": "stderr",
     "output_type": "stream",
     "text": [
      "2020-05-26 11:34:11 darkdevil root[17113] INFO model_double-dqn_GOOG_50: USELESS\n",
      "\n"
     ]
    },
    {
     "name": "stdout",
     "output_type": "stream",
     "text": [
      "t\n",
      "0\n",
      "8928.13\n"
     ]
    },
    {
     "name": "stderr",
     "output_type": "stream",
     "text": [
      "2020-05-26 11:34:13 darkdevil root[17113] INFO model_double-dqn_GOOG_50: USELESS\n",
      "\n"
     ]
    },
    {
     "name": "stdout",
     "output_type": "stream",
     "text": [
      "t\n",
      "1\n",
      "8928.13\n"
     ]
    },
    {
     "name": "stderr",
     "output_type": "stream",
     "text": [
      "2020-05-26 11:34:15 darkdevil root[17113] INFO model_double-dqn_GOOG_50: USELESS\n",
      "\n"
     ]
    },
    {
     "name": "stdout",
     "output_type": "stream",
     "text": [
      "t\n",
      "2\n",
      "8926.16\n"
     ]
    },
    {
     "name": "stderr",
     "output_type": "stream",
     "text": [
      "2020-05-26 11:34:17 darkdevil root[17113] INFO model_double-dqn_GOOG_50: USELESS\n",
      "\n"
     ]
    },
    {
     "name": "stdout",
     "output_type": "stream",
     "text": [
      "t\n",
      "3\n",
      "8927.44\n"
     ]
    },
    {
     "name": "stderr",
     "output_type": "stream",
     "text": [
      "2020-05-26 11:34:19 darkdevil root[17113] INFO model_double-dqn_GOOG_50: USELESS\n",
      "\n"
     ]
    },
    {
     "name": "stdout",
     "output_type": "stream",
     "text": [
      "t\n",
      "4\n",
      "8927.27\n"
     ]
    },
    {
     "name": "stderr",
     "output_type": "stream",
     "text": [
      "2020-05-26 11:34:21 darkdevil root[17113] INFO model_double-dqn_GOOG_50: USELESS\n",
      "\n"
     ]
    },
    {
     "name": "stdout",
     "output_type": "stream",
     "text": [
      "t\n",
      "5\n"
     ]
    }
   ],
   "source": [
    "\n",
    "coloredlogs.install(level=\"DEBUG\")\n",
    "switch_k_backend_device()\n",
    "args = argparse.Namespace(ticker='BTCUSDT')\n",
    "try:\n",
    "    main(args)\n",
    "except KeyboardInterrupt:\n",
    "    print(\"Aborted\")    "
   ]
  },
  {
   "cell_type": "code",
   "execution_count": null,
   "metadata": {},
   "outputs": [],
   "source": []
  },
  {
   "cell_type": "code",
   "execution_count": null,
   "metadata": {},
   "outputs": [],
   "source": []
  }
 ],
 "metadata": {
  "kernelspec": {
   "display_name": "Python 3",
   "language": "python",
   "name": "python3"
  },
  "language_info": {
   "codemirror_mode": {
    "name": "ipython",
    "version": 3
   },
   "file_extension": ".py",
   "mimetype": "text/x-python",
   "name": "python",
   "nbconvert_exporter": "python",
   "pygments_lexer": "ipython3",
   "version": "3.7.6"
  }
 },
 "nbformat": 4,
 "nbformat_minor": 4
}

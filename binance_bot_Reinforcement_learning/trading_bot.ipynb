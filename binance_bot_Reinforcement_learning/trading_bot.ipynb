{
 "cells": [
  {
   "cell_type": "code",
   "execution_count": 1,
   "metadata": {},
   "outputs": [],
   "source": [
    "import pandas as pd\n",
    "import time\n",
    "import dateparser\n",
    "import pytz\n",
    "import argparse\n",
    "from datetime import datetime\n",
    "from binance.client import Client\n",
    "import os\n",
    "from binance.exceptions import BinanceAPIException"
   ]
  },
  {
   "cell_type": "code",
   "execution_count": 2,
   "metadata": {},
   "outputs": [],
   "source": [
    "api_key = \"iZHsmlsCReb9S6zVO05Vxy8ONQYK8J3CfshgNiRh3HlRShPULMj8EYBClftHBqi1\"\n",
    "api_secret = \"4IHk54oeSmmoXGQqWNgi24SJ1uHaTSEBfN48nOhYex8ATFFOj2WoWZQfDFD0pzu1\""
   ]
  },
  {
   "cell_type": "code",
   "execution_count": 3,
   "metadata": {},
   "outputs": [],
   "source": [
    "client = Client(api_key, api_secret)\n",
    "tz = pytz.timezone('UTC')\n",
    "buy = {}\n",
    "loss = []\n",
    "quantity = {}"
   ]
  },
  {
   "cell_type": "code",
   "execution_count": 4,
   "metadata": {},
   "outputs": [],
   "source": [
    "def date_to_milliseconds(date_str):\n",
    "    # date_str format: \"January 01, 2018\", \"11 hours ago UTC\", \"now UTC\"\n",
    "    epoch = datetime.utcfromtimestamp(0).replace(tzinfo=pytz.utc)\n",
    "    d = dateparser.parse(date_str)\n",
    "    if d.tzinfo is None or d.tzinfo.utcoffset(d) is None:\n",
    "        d = d.replace(tzinfo=pytz.utc)\n",
    "    return int((d - epoch).total_seconds() * 1000.0)"
   ]
  },
  {
   "cell_type": "code",
   "execution_count": 5,
   "metadata": {},
   "outputs": [],
   "source": [
    "def interval_to_milliseconds(interval):\n",
    "    # interval format: 1m, 3m, 5m, 15m, 30m, 1h, 2h, 4h, 6h, 8h, 1d, 3d, 1w\n",
    "    ms = None\n",
    "    seconds_per_unit = {\n",
    "        \"m\": 60,\n",
    "        \"h\": 60 * 60,\n",
    "        \"d\": 24 * 60 * 60,\n",
    "        \"w\": 7 * 24 * 60 * 60\n",
    "    }\n",
    "    unit = interval[-1]\n",
    "    if unit in seconds_per_unit:\n",
    "        try:\n",
    "            ms = int(interval[:-1]) * seconds_per_unit[unit] * 1000\n",
    "        except ValueError:\n",
    "            pass\n",
    "    return ms"
   ]
  },
  {
   "cell_type": "code",
   "execution_count": 6,
   "metadata": {},
   "outputs": [],
   "source": [
    "def get_historical_klines(symbol, interval, start_str, end_str=None):\n",
    "    \"\"\"Get Historical Klines from Binance\n",
    "    If using offset strings for dates add \"UTC\" to date string e.g. \"now UTC\", \"11 hours ago UTC\", \"1 Dec, 2017\"\n",
    "    :param symbol: Name of symbol pair e.g BNBBTC\n",
    "    :param interval: Biannce Kline interval\n",
    "    :param start_str: Start date string in UTC format\n",
    "    :param end_str: optional - end date string in UTC format\n",
    "    :return: list of Open High Low Close Volume values\n",
    "    \"\"\"\n",
    "    output_data = []\n",
    "    limit = 50\n",
    "    timeframe = interval_to_milliseconds(interval)\n",
    "    start_ts = date_to_milliseconds(start_str)\n",
    "    end_ts = None\n",
    "    if end_str:\n",
    "        end_ts = date_to_milliseconds(end_str)\n",
    "\n",
    "    idx = 0\n",
    "    # it can be difficult to know when a symbol was listed on Binance so allow start time to be before list date\n",
    "    symbol_existed = False\n",
    "    while True:\n",
    "        temp_data = client.get_klines(\n",
    "            symbol=symbol,\n",
    "            interval=interval,\n",
    "            limit=limit,\n",
    "            startTime=start_ts,\n",
    "            endTime=end_ts\n",
    "        )\n",
    "        # handle the case where our start date is before the symbol pair listed on Binance\n",
    "        if not symbol_existed and len(temp_data):\n",
    "            symbol_existed = True\n",
    "        if symbol_existed:\n",
    "            output_data += temp_data\n",
    "            start_ts = temp_data[len(temp_data) - 1][0] + timeframe\n",
    "        else:\n",
    "            start_ts += timeframe\n",
    "        idx += 1\n",
    "        if len(temp_data) < limit:\n",
    "            break\n",
    "        # sleep after every 3rd call to be kind to the API\n",
    "        if idx % 3 == 0:\n",
    "            time.sleep(1)\n",
    "\n",
    "    return output_data\n"
   ]
  },
  {
   "cell_type": "code",
   "execution_count": 7,
   "metadata": {},
   "outputs": [],
   "source": [
    "def get_historic_klines(symbol, start, end, interval):\n",
    "    klines = get_historical_klines(symbol, interval, start, end)\n",
    "    #print(\"Klines\")\n",
    "    #print(klines[-1])\n",
    "    ochl = []\n",
    "    for kline in klines:\n",
    "        time1 = int(kline[0])\n",
    "        open1 = float(kline[1])\n",
    "        high = float(kline[2])\n",
    "        low = float(kline[3])\n",
    "        close = float(kline[4])\n",
    "        volume = float(kline[5])\n",
    "        ochl.append([time1, open1, close, high, low, volume])\n",
    "    #df = pd.DataFrame(ochl)\n",
    "    #print(symbol)\n",
    "    #print(df)\n",
    "    #print(ochl[-1])\n",
    "    '''\n",
    "    fig, ax = plt.subplots()\n",
    "    mpl_finance.candlestick_ochl(ax, ochl, width=1)\n",
    "    ax.set(xlabel='Date', ylabel='Price', title='{} {}-{}'.format(symbol, start, end))\n",
    "    plt.show(block=False)\n",
    "    plt.pause(3)\n",
    "    plt.close()\n",
    "    '''\n",
    "    return ochl\n"
   ]
  },
  {
   "cell_type": "code",
   "execution_count": 8,
   "metadata": {},
   "outputs": [],
   "source": [
    "def Main():\n",
    "    list_of_symbols = ['XMRUSDT', 'LINKUSDT', 'LTCUSDT', 'BNBUSDT', 'EOSUSDT', 'BTCUSDT', 'ETHUSDT', 'XRPUSDT']  # Symbols to be traded\n",
    "    quantity_1 = 5 # any value between 1-4 : 1 =100%, 2=50%, 3 = 33%, 4 = 25%, 5 = 20% and so on...\n",
    "    max_amount = 10000  # Maximum authorized amount\n",
    "    loss_limit = -50  # Maximum loss limit to terminate the trading in dollar\n",
    "    buy_percent = 0.004 # percent at which it should buy, currently 0.15% = 0.15/100 = 0.0015\n",
    "    sell_percent = -0.006 # percent at which it should sell, currently 0.1%\n",
    "    loss_percent = -0.002 # stop loss if price falls, currently -0.3%\n",
    "    transaction = 150 # number of maximum transactions\n",
    "    buy_range = 0.005  # allowed buy upto, currently 1.5%\n",
    "    sleep_time = 20   # according to candle interval 15 for 5 MINUTE, 30 for 30 MINUTE, 45 for 1 HOUR\n",
    "    spent_amount = 0\n",
    "    count = 0\n",
    "    buy_open = [] # to avoid multiple buy at same candle \n",
    "    high ={} \n",
    "    symbols_csv_files = []\n",
    "    while True:\n",
    "        client.get_deposit_address(asset='USDT')  # USDT or BTC\n",
    "\n",
    "        try:\n",
    "            for symbol in list_of_symbols:\n",
    "                \n",
    "                # My modifications\n",
    "                ochl = get_historic_klines(symbol, \"Jan 1, 2017\", \"May 1, 2020\", Client.KLINE_INTERVAL_1DAY)\n",
    "                open1, close, high1,high_past = ochl[-1][1], ochl[-1][2],ochl[-1][3],ochl[-2][3]\n",
    "                \n",
    "                if symbol not in symbols_csv_files:\n",
    "                    df = pd.DataFrame(ochl, columns=[\"date\", \"open\", \"close\", \"high\", \"low\", \"volume\"])\n",
    "                    \n",
    "                    f_name = str(symbol) + \".csv\"\n",
    "                    for i in df.index:\n",
    "                        df.at[i,'date'] = datetime.fromtimestamp((int(df.at[i,'date']))/1000.0).date()\n",
    "                    symbols_csv_files.append(symbol)\n",
    "                    print(symbol)\n",
    "                    print(df)\n",
    "                    df.to_csv(f_name, columns=[\"date\", \"open\", \"close\", \"high\", \"low\", \"volume\"])\n",
    "                \n",
    "                if symbol in high:\n",
    "                    #print(high1)\n",
    "                    if high1>high_past and open1 not in buy_open:\n",
    "                        high[symbol] = high1\n",
    "                    elif high1>high[symbol]:\n",
    "                        high[symbol]=high1\n",
    "                symbol = str(symbol)\n",
    "                if open1 not in buy_open:        \n",
    "                    if (close  >= (1+buy_percent) * open1) and (symbol not in buy.keys()) and close < (1+buy_range) * open1:\n",
    "                        if spent_amount <= max_amount:\n",
    "                            count += 1\n",
    "                            quantity[symbol] = (max_amount / (quantity_1 * close))\n",
    "                            quantity1 = quantity[symbol]\n",
    "                            buy_open.append(open1)\n",
    "                            high[symbol] = high1\n",
    "                                      \n",
    "                            '''\n",
    "                            client.order_limit_buy(\n",
    "                                symbol=symbol,\n",
    "                                quantity=quantity[symbol],\n",
    "                                price=close  # comment this line to buy at market price\n",
    "                                )\n",
    "                            '''\n",
    "                            spent_amount += close * quantity1\n",
    "                            buy[symbol] = close\n",
    "                            print('Bought ' + symbol + ' at ' + str(close))\n",
    "\n",
    "                            df1 = pd.DataFrame({'Datetime': [datetime.now(tz)], 'Symbol': [symbol], 'Buy/Sell': ['Buy'],\n",
    "                                        'Quantity': [quantity1], 'Price': [close], 'Profit/loss': [0]})\n",
    "                            df1['Datetime'] = df1['Datetime'].apply(lambda x: x.strftime('%Y-%m-%d %H:%M:%S'))\n",
    "                            if not os.path.isfile('Binance.csv'):\n",
    "                                df1.to_csv('Binance.csv', index=False)\n",
    "                            else:\n",
    "                                df1.to_csv('Binance.csv', index=False, mode='a', header=False)\n",
    "\n",
    "                if symbol in buy:\n",
    "                    #print(close, high[symbol], high1)\n",
    "                    if (close <= high[symbol] * (1+sell_percent)) or (close  <= (1+loss_percent) * buy[symbol]):\n",
    "                        '''\n",
    "                        client.order_limit_sell(\n",
    "                          symbol=symbol,\n",
    "                          quantity=quantity[symbol],\n",
    "                          price=close  # comment this line to sell at market price\n",
    "                          )\n",
    "                        '''\n",
    "                        if close <= high[symbol]*(1+sell_percent):\n",
    "                            print('high limit' )\n",
    "                        profit = close - buy[symbol]\n",
    "                        max_amount += profit\n",
    "                        quantity1 = quantity[symbol]\n",
    "                        spent_amount -= quantity1 * buy[symbol]\n",
    "                        total_profit = profit * quantity1\n",
    "                        print(\"SELL \" + symbol + \" at \" + str(close))\n",
    "                        print(\"Profit made \" + str(total_profit))\n",
    "\n",
    "                        df2 = pd.DataFrame({'Datetime': [datetime.now(tz)], 'Symbol': [symbol], 'Buy/Sell': ['Sell'],\n",
    "                                        'Quantity': [quantity1], 'Price': [close], 'Profit/loss': [total_profit]})\n",
    "                        df2['Datetime'] = df2['Datetime'].apply(lambda x: x.strftime('%Y-%m-%d %H:%M:%S'))\n",
    "                        df2.to_csv('Binance.csv', index=False, mode='a', header=False)\n",
    "\n",
    "                        loss.append(total_profit)\n",
    "                        if count >= len(list_of_symbols):\n",
    "                            loss.pop(0)\n",
    "                        buy.pop(symbol)  # Removing the sold symbol\n",
    "\n",
    "                if (loss_limit > sum(loss)) or (count > int(transaction)):\n",
    "                    print(\"Quitting....\")\n",
    "                    raise SystemExit\n",
    "\n",
    "            time.sleep(sleep_time)\n",
    "\n",
    "        except BinanceAPIException as e:\n",
    "            print(e,symbol)\n",
    "        except KeyboardInterrupt:\n",
    "            print(\"Total Profit \" + str(sum(loss)))\n",
    "            break\n",
    "\n",
    "        except SystemExit:\n",
    "            print(\"Exit\")\n",
    "            print(\"Total Profit \" + str(sum(loss)))\n",
    "            break\n"
   ]
  },
  {
   "cell_type": "code",
   "execution_count": 9,
   "metadata": {
    "scrolled": false
   },
   "outputs": [
    {
     "name": "stdout",
     "output_type": "stream",
     "text": [
      "Inside main\n",
      "XMRUSDT\n",
      "           date   open  close   high    low        volume\n",
      "0    2019-03-15  51.99  52.10  52.22  48.67    4908.53770\n",
      "1    2019-03-16  52.10  53.35  54.89  52.10    8103.46093\n",
      "2    2019-03-17  53.56  52.36  53.57  51.54    3314.97426\n",
      "3    2019-03-18  52.38  52.06  53.01  51.27    4037.80163\n",
      "4    2019-03-19  51.93  52.90  54.00  51.61    6567.87086\n",
      "..          ...    ...    ...    ...    ...           ...\n",
      "409  2020-04-27  61.36  62.36  62.48  60.91   56186.86538\n",
      "410  2020-04-28  62.40  62.07  63.83  61.22   81842.32202\n",
      "411  2020-04-29  62.05  66.32  66.89  61.63  125685.27454\n",
      "412  2020-04-30  66.31  62.28  68.42  61.11  125526.44439\n",
      "413  2020-05-01  62.26  63.45  65.00  62.20   49802.91724\n",
      "\n",
      "[414 rows x 6 columns]\n",
      "LINKUSDT\n",
      "           date    open   close    high     low       volume\n",
      "0    2019-01-16  0.5355  0.4895  0.5355  0.4668   1343660.31\n",
      "1    2019-01-17  0.4895  0.4756  0.4953  0.4639   1411725.35\n",
      "2    2019-01-18  0.4762  0.4894  0.5112  0.4601    984417.59\n",
      "3    2019-01-19  0.4908  0.4831  0.5000  0.4673    735443.20\n",
      "4    2019-01-20  0.4803  0.4834  0.4920  0.4590    677499.56\n",
      "..          ...     ...     ...     ...     ...          ...\n",
      "467  2020-04-27  3.7212  3.6383  3.7385  3.4621  11371929.86\n",
      "468  2020-04-28  3.6373  3.6413  3.7354  3.5554   7379317.23\n",
      "469  2020-04-29  3.6422  3.8879  3.9918  3.6300  15125283.54\n",
      "470  2020-04-30  3.8881  3.7025  3.9741  3.6200  13545136.02\n",
      "471  2020-05-01  3.7014  3.7571  3.9162  3.7003   8084328.36\n",
      "\n",
      "[472 rows x 6 columns]\n",
      "LTCUSDT\n",
      "           date    open   close    high     low        volume\n",
      "0    2017-12-13  272.00  290.01  330.00  260.00  9.565160e+03\n",
      "1    2017-12-14  290.01  272.40  302.72  252.00  9.631984e+03\n",
      "2    2017-12-15  272.40  294.00  314.21  239.99  1.657978e+04\n",
      "3    2017-12-16  294.00  293.97  305.00  285.00  9.102100e+03\n",
      "4    2017-12-17  293.01  311.40  328.80  290.00  1.468226e+04\n",
      "..          ...     ...     ...     ...     ...           ...\n",
      "866  2020-04-27   44.54   44.46   45.23   43.16  4.435707e+05\n",
      "867  2020-04-28   44.47   45.69   46.13   43.42  5.900125e+05\n",
      "868  2020-04-29   45.69   48.81   49.91   45.64  1.198087e+06\n",
      "869  2020-04-30   48.81   46.33   50.80   45.59  1.404190e+06\n",
      "870  2020-05-01   46.33   47.07   48.27   46.30  4.997580e+05\n",
      "\n",
      "[871 rows x 6 columns]\n",
      "BNBUSDT\n",
      "           date     open    close     high      low      volume\n",
      "0    2017-11-06   1.5000   1.5710   1.7990   0.5000   120615.34\n",
      "1    2017-11-07   1.5710   1.8000   1.8000   1.5389   134129.73\n",
      "2    2017-11-08   1.7901   1.9889   1.9900   1.7479   347290.26\n",
      "3    2017-11-09   1.9781   1.9900   2.1997   1.9000   287037.20\n",
      "4    2017-11-10   1.9900   1.7133   2.0200   1.6019   484658.90\n",
      "..          ...      ...      ...      ...      ...         ...\n",
      "903  2020-04-27  16.3645  16.4229  16.5600  16.0630  2937287.36\n",
      "904  2020-04-28  16.4199  16.3400  16.4900  16.1125  2838511.43\n",
      "905  2020-04-29  16.3354  17.3667  17.5171  16.3000  3817656.70\n",
      "906  2020-04-30  17.3754  16.9542  18.1377  16.5000  4127322.51\n",
      "907  2020-05-01  16.9510  17.4660  17.8551  16.9381  3805293.67\n",
      "\n",
      "[908 rows x 6 columns]\n",
      "EOSUSDT\n",
      "           date     open    close     high      low       volume\n",
      "0    2018-05-28  12.4900  11.4788  12.6500  11.2800   3494258.32\n",
      "1    2018-05-29  11.4853  12.1112  12.4650  10.7000   6709192.34\n",
      "2    2018-05-30  12.1113  11.8968  12.8200  11.6206   6514864.18\n",
      "3    2018-05-31  11.8712  12.2353  12.7400  11.8116   6540020.80\n",
      "4    2018-06-01  12.2351  12.2048  12.3889  11.8354   5946136.88\n",
      "..          ...      ...      ...      ...      ...          ...\n",
      "700  2020-04-27   2.7375   2.7430   2.8172   2.6801  12013467.24\n",
      "701  2020-04-28   2.7430   2.7614   2.7747   2.6874   8622299.02\n",
      "702  2020-04-29   2.7609   3.0059   3.0890   2.7551  21932316.85\n",
      "703  2020-04-30   3.0058   2.8220   3.1187   2.7477  19748582.59\n",
      "704  2020-05-01   2.8208   2.8731   2.9296   2.8195   8743612.12\n",
      "\n",
      "[705 rows x 6 columns]\n",
      "BTCUSDT\n",
      "           date     open    close     high      low         volume\n",
      "0    2017-08-17  4261.48  4285.08  4485.39  4200.74     795.150377\n",
      "1    2017-08-18  4285.08  4108.37  4371.52  3938.77    1199.888264\n",
      "2    2017-08-19  4108.37  4139.98  4184.69  3850.00     381.309763\n",
      "3    2017-08-20  4120.98  4086.29  4211.08  4032.62     467.083022\n",
      "4    2017-08-21  4069.13  4016.00  4119.62  3911.79     691.743060\n",
      "..          ...      ...      ...      ...      ...            ...\n",
      "984  2020-04-27  7693.10  7774.62  7792.02  7606.00   65441.339576\n",
      "985  2020-04-28  7773.51  7738.98  7780.00  7659.12   46302.752638\n",
      "986  2020-04-29  7738.58  8778.57  8952.89  7710.05  183546.887514\n",
      "987  2020-04-30  8778.58  8620.00  9460.00  8401.00  206277.214124\n",
      "988  2020-05-01  8620.00  8826.96  9059.18  8613.56   91468.815059\n",
      "\n",
      "[989 rows x 6 columns]\n",
      "ETHUSDT\n",
      "           date    open   close    high     low        volume\n",
      "0    2017-08-17  301.13  302.00  312.18  298.00  7.030710e+03\n",
      "1    2017-08-18  302.00  293.96  311.79  283.94  9.537846e+03\n",
      "2    2017-08-19  293.31  290.91  299.90  278.00  2.146198e+03\n",
      "3    2017-08-20  289.41  299.10  300.53  282.85  2.510139e+03\n",
      "4    2017-08-21  299.10  323.29  346.52  294.60  5.219445e+03\n",
      "..          ...     ...     ...     ...     ...           ...\n",
      "984  2020-04-27  197.39  196.34  199.05  189.29  8.966274e+05\n",
      "985  2020-04-28  196.33  196.24  198.50  192.36  6.368299e+05\n",
      "986  2020-04-29  196.24  215.36  218.77  196.22  1.620423e+06\n",
      "987  2020-04-30  215.40  206.08  227.30  202.00  1.749691e+06\n",
      "988  2020-05-01  206.07  212.02  217.14  205.91  7.949140e+05\n",
      "\n",
      "[989 rows x 6 columns]\n",
      "XRPUSDT\n",
      "           date     open    close     high      low        volume\n",
      "0    2018-05-04  0.50000  0.88990  1.50000  0.50000  2.089021e+07\n",
      "1    2018-05-05  0.88980  0.90280  0.93500  0.88800  1.681617e+07\n",
      "2    2018-05-06  0.90280  0.86483  0.91800  0.83774  1.600204e+07\n",
      "3    2018-05-07  0.86482  0.82490  0.86886  0.80000  1.730349e+07\n",
      "4    2018-05-08  0.82490  0.80667  0.84802  0.79200  1.297130e+07\n",
      "..          ...      ...      ...      ...      ...           ...\n",
      "724  2020-04-27  0.19620  0.19747  0.19979  0.19407  1.045367e+08\n",
      "725  2020-04-28  0.19750  0.21416  0.21806  0.19459  2.448433e+08\n",
      "726  2020-04-29  0.21415  0.22648  0.23075  0.20981  2.920967e+08\n",
      "727  2020-04-30  0.22644  0.21135  0.23590  0.20816  3.140883e+08\n",
      "728  2020-05-01  0.21135  0.21786  0.22418  0.21117  1.603398e+08\n",
      "\n",
      "[729 rows x 6 columns]\n",
      "Total Profit 0\n"
     ]
    }
   ],
   "source": [
    "if __name__ == \"__main__\":\n",
    "    print(\"Inside main\")\n",
    "    Main()"
   ]
  },
  {
   "cell_type": "code",
   "execution_count": 10,
   "metadata": {},
   "outputs": [
    {
     "name": "stderr",
     "output_type": "stream",
     "text": [
      "Using TensorFlow backend.\n"
     ]
    }
   ],
   "source": [
    "import lxml.html as lh\n",
    "import time\n",
    "import urllib.request\n",
    "import argparse\n",
    "import urllib.request, urllib.parse, urllib.error\n",
    "import datetime\n",
    "import pytz\n",
    "from selenium import webdriver\n",
    "from selenium.common.exceptions import StaleElementReferenceException\n",
    "import os\n",
    "import coloredlogs\n",
    "import json\n",
    "import ssl\n",
    "from docopt import docopt\n",
    "from trading_bot.ops import get_state\n",
    "from trading_bot.agent import Agent\n",
    "from trading_bot.methods import evaluate_model\n",
    "from trading_bot.utils import (\n",
    "    get_stock_data,\n",
    "    format_currency,\n",
    "    format_position,\n",
    "    show_eval_result,\n",
    "    switch_k_backend_device\n",
    ")"
   ]
  },
  {
   "cell_type": "code",
   "execution_count": 11,
   "metadata": {},
   "outputs": [],
   "source": [
    "tz = pytz.timezone('Asia/Kolkata')\n",
    "ctx = ssl.create_default_context()\n",
    "ctx.check_hostname = False\n",
    "ctx.verify_mode = ssl.CERT_NONE"
   ]
  },
  {
   "cell_type": "code",
   "execution_count": 12,
   "metadata": {},
   "outputs": [],
   "source": [
    "def Real(url):\n",
    "    uh = urllib.request.urlopen(url, context=ctx)\n",
    "    data = uh.read().decode()\n",
    "    info = json.loads(data)\n",
    "    live = info['price'];\n",
    "    time.sleep(1)\n",
    "    return float(live)"
   ]
  },
  {
   "cell_type": "code",
   "execution_count": 13,
   "metadata": {},
   "outputs": [],
   "source": [
    "def main(args):\n",
    "    count = 0\n",
    "    total_profit = 0\n",
    "    t=0\n",
    "    history = []\n",
    "    reward = 0\n",
    "    price = []\n",
    "    window_size =5\n",
    "    time_now = datetime.datetime.now(tz).time()\n",
    "    url = 'https://api.binance.com/api/v1/ticker/price?symbol={}'.format(args.ticker)\n",
    "    live = Real(url)\n",
    "    print(live)\n",
    "\n",
    "    while(count < 10):\n",
    "        url = 'https://api.binance.com/api/v1/ticker/price?symbol={}'.format(args.ticker)\n",
    "        live = Real(url)\n",
    "        count+=1        \n",
    "        price.append(live)\n",
    "        if count < window_size:\n",
    "           continue\n",
    "        model_name='model_double-dqn_GOOG_50'  \n",
    "        print(live)\n",
    "        initial_offset = price[1] - price[0]\n",
    "        state = get_state(price, 0, window_size + 1)\n",
    "        next_state = get_state(price, t + 1, window_size + 1)\n",
    "        agent = Agent(state_size=window_size, pretrained=True, model_name=model_name)\n",
    "        agent.inventory = []\n",
    "        profit = evaluate_model(agent,state,next_state, price, t, total_profit, history, reward, window_size=window_size)\n",
    "        show_eval_result(model_name, profit, initial_offset)\n",
    "        t+=1\n",
    "        state = next_state"
   ]
  },
  {
   "cell_type": "code",
   "execution_count": 14,
   "metadata": {},
   "outputs": [],
   "source": [
    "def evaluate_model(agent, state, next_state, data, t, total_profit, history, reward, window_size, debug=False):\n",
    "    print(\"t\")\n",
    "    print(t)\n",
    "        # select an action\n",
    "    action = agent.act(state, is_eval=True)\n",
    "\n",
    "        # BUY\n",
    "    if action == 1:\n",
    "        agent.inventory.append(data[t])\n",
    "\n",
    "        history.append((data[t], \"BUY\"))\n",
    "        if debug:\n",
    "            logging.debug(\"Buy at: {}\".format(format_currency(data[t])))\n",
    "\n",
    "        # SELL\n",
    "    elif action == 2 and len(agent.inventory) > 0:\n",
    "        bought_price = agent.inventory.pop(0)\n",
    "        delta = data[t] - bought_price\n",
    "        reward = delta #max(delta, 0)\n",
    "        total_profit += delta\n",
    "\n",
    "        history.append((data[t], \"SELL\"))\n",
    "        if debug:\n",
    "            logging.debug(\"Sell at: {} | Position: {}\".format(\n",
    "                    format_currency(data[t]), format_position(data[t] - bought_price)))\n",
    "        # HOLD\n",
    "    else:\n",
    "        history.append((data[t], \"HOLD\"))\n",
    "\n",
    "#        done = (t == data_length - 1)\n",
    "    agent.memory.append((state, action, reward, next_state))\n",
    "\n",
    "    return total_profit\n"
   ]
  },
  {
   "cell_type": "code",
   "execution_count": 25,
   "metadata": {
    "scrolled": false
   },
   "outputs": [
    {
     "name": "stderr",
     "output_type": "stream",
     "text": [
      "2020-05-26 11:34:03 darkdevil root[17113] DEBUG switching to TensorFlow for CPU\n"
     ]
    },
    {
     "name": "stdout",
     "output_type": "stream",
     "text": [
      "8928.87\n",
      "8927.83\n"
     ]
    },
    {
     "name": "stderr",
     "output_type": "stream",
     "text": [
      "2020-05-26 11:34:11 darkdevil root[17113] INFO model_double-dqn_GOOG_50: USELESS\n",
      "\n"
     ]
    },
    {
     "name": "stdout",
     "output_type": "stream",
     "text": [
      "t\n",
      "0\n",
      "8928.13\n"
     ]
    },
    {
     "name": "stderr",
     "output_type": "stream",
     "text": [
      "2020-05-26 11:34:13 darkdevil root[17113] INFO model_double-dqn_GOOG_50: USELESS\n",
      "\n"
     ]
    },
    {
     "name": "stdout",
     "output_type": "stream",
     "text": [
      "t\n",
      "1\n",
      "8928.13\n"
     ]
    },
    {
     "name": "stderr",
     "output_type": "stream",
     "text": [
      "2020-05-26 11:34:15 darkdevil root[17113] INFO model_double-dqn_GOOG_50: USELESS\n",
      "\n"
     ]
    },
    {
     "name": "stdout",
     "output_type": "stream",
     "text": [
      "t\n",
      "2\n",
      "8926.16\n"
     ]
    },
    {
     "name": "stderr",
     "output_type": "stream",
     "text": [
      "2020-05-26 11:34:17 darkdevil root[17113] INFO model_double-dqn_GOOG_50: USELESS\n",
      "\n"
     ]
    },
    {
     "name": "stdout",
     "output_type": "stream",
     "text": [
      "t\n",
      "3\n",
      "8927.44\n"
     ]
    },
    {
     "name": "stderr",
     "output_type": "stream",
     "text": [
      "2020-05-26 11:34:19 darkdevil root[17113] INFO model_double-dqn_GOOG_50: USELESS\n",
      "\n"
     ]
    },
    {
     "name": "stdout",
     "output_type": "stream",
     "text": [
      "t\n",
      "4\n",
      "8927.27\n"
     ]
    },
    {
     "name": "stderr",
     "output_type": "stream",
     "text": [
      "2020-05-26 11:34:21 darkdevil root[17113] INFO model_double-dqn_GOOG_50: USELESS\n",
      "\n"
     ]
    },
    {
     "name": "stdout",
     "output_type": "stream",
     "text": [
      "t\n",
      "5\n"
     ]
    }
   ],
   "source": [
    "\n",
    "coloredlogs.install(level=\"DEBUG\")\n",
    "switch_k_backend_device()\n",
    "args = argparse.Namespace(ticker='BTCUSDT')\n",
    "try:\n",
    "    main(args)\n",
    "except KeyboardInterrupt:\n",
    "    print(\"Aborted\")    "
   ]
  },
  {
   "cell_type": "code",
   "execution_count": null,
   "metadata": {},
   "outputs": [],
   "source": []
  },
  {
   "cell_type": "code",
   "execution_count": null,
   "metadata": {},
   "outputs": [],
   "source": []
  }
 ],
 "metadata": {
  "kernelspec": {
   "display_name": "Python 3",
   "language": "python",
   "name": "python3"
  },
  "language_info": {
   "codemirror_mode": {
    "name": "ipython",
    "version": 3
   },
   "file_extension": ".py",
   "mimetype": "text/x-python",
   "name": "python",
   "nbconvert_exporter": "python",
   "pygments_lexer": "ipython3",
   "version": "3.7.6"
  }
 },
 "nbformat": 4,
 "nbformat_minor": 4
}

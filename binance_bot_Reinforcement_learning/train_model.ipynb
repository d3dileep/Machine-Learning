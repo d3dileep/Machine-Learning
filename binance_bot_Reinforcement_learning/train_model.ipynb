{
 "cells": [
  {
   "cell_type": "code",
   "execution_count": 1,
   "metadata": {
    "scrolled": false
   },
   "outputs": [
    {
     "name": "stderr",
     "output_type": "stream",
     "text": [
      "Using TensorFlow backend.\n",
      "2020-05-26 20:25:22 darkdevil root[6893] DEBUG switching to TensorFlow for CPU\n",
      "Episode 1/50: 100%|██████████| 849/849 [02:40<00:00,  5.29it/s]\n"
     ]
    },
    {
     "name": "stdout",
     "output_type": "stream",
     "text": [
      "[[0.5 0.5 0.5 0.5 0.5 0.5 0.5 0.5 0.5 0.5]]\n"
     ]
    },
    {
     "name": "stderr",
     "output_type": "stream",
     "text": [
      "2020-05-26 20:28:14 darkdevil root[6893] INFO Episode 1/50 - Train Position: +$31091.26  Val Position: -$1160.78  Train Loss: 59.5301)\n",
      "Episode 2/50: 100%|██████████| 849/849 [02:42<00:00,  5.23it/s]\n"
     ]
    },
    {
     "name": "stdout",
     "output_type": "stream",
     "text": [
      "[[0.5 0.5 0.5 0.5 0.5 0.5 0.5 0.5 0.5 0.5]]\n"
     ]
    },
    {
     "name": "stderr",
     "output_type": "stream",
     "text": [
      "2020-05-26 20:31:06 darkdevil root[6893] INFO Episode 2/50 - Train Position: -$8931.99  Val Position: USELESS  Train Loss: 66.9033\n",
      "Episode 3/50: 100%|██████████| 849/849 [02:42<00:00,  5.23it/s]\n"
     ]
    },
    {
     "name": "stdout",
     "output_type": "stream",
     "text": [
      "[[0.5 0.5 0.5 0.5 0.5 0.5 0.5 0.5 0.5 0.5]]\n"
     ]
    },
    {
     "name": "stderr",
     "output_type": "stream",
     "text": [
      "2020-05-26 20:33:59 darkdevil root[6893] INFO Episode 3/50 - Train Position: +$7428.64  Val Position: +$2723.54  Train Loss: 61.5007)\n",
      "Episode 4/50: 100%|██████████| 849/849 [02:41<00:00,  5.27it/s]\n"
     ]
    },
    {
     "name": "stdout",
     "output_type": "stream",
     "text": [
      "[[0.5 0.5 0.5 0.5 0.5 0.5 0.5 0.5 0.5 0.5]]\n"
     ]
    },
    {
     "name": "stderr",
     "output_type": "stream",
     "text": [
      "2020-05-26 20:36:50 darkdevil root[6893] INFO Episode 4/50 - Train Position: +$25741.71  Val Position: +$8844.89  Train Loss: 62.7158)\n",
      "Episode 5/50: 100%|██████████| 849/849 [02:43<00:00,  5.20it/s]\n"
     ]
    },
    {
     "name": "stdout",
     "output_type": "stream",
     "text": [
      "[[0.5 0.5 0.5 0.5 0.5 0.5 0.5 0.5 0.5 0.5]]\n"
     ]
    },
    {
     "name": "stderr",
     "output_type": "stream",
     "text": [
      "2020-05-26 20:39:44 darkdevil root[6893] INFO Episode 5/50 - Train Position: +$31388.83  Val Position: -$12028.72  Train Loss: 65.0979)\n",
      "Episode 6/50: 100%|██████████| 849/849 [02:37<00:00,  5.38it/s]\n"
     ]
    },
    {
     "name": "stdout",
     "output_type": "stream",
     "text": [
      "[[0.5 0.5 0.5 0.5 0.5 0.5 0.5 0.5 0.5 0.5]]\n"
     ]
    },
    {
     "name": "stderr",
     "output_type": "stream",
     "text": [
      "2020-05-26 20:42:32 darkdevil root[6893] INFO Episode 6/50 - Train Position: +$2497.15  Val Position: -$1327.33  Train Loss: 65.4856)\n",
      "Episode 7/50: 100%|██████████| 849/849 [02:45<00:00,  5.14it/s]\n"
     ]
    },
    {
     "name": "stdout",
     "output_type": "stream",
     "text": [
      "[[0.5 0.5 0.5 0.5 0.5 0.5 0.5 0.5 0.5 0.5]]\n"
     ]
    },
    {
     "name": "stderr",
     "output_type": "stream",
     "text": [
      "2020-05-26 20:45:28 darkdevil root[6893] INFO Episode 7/50 - Train Position: +$14006.34  Val Position: +$9267.41  Train Loss: 63.5208)\n",
      "Episode 8/50: 100%|██████████| 849/849 [02:41<00:00,  5.27it/s]\n"
     ]
    },
    {
     "name": "stdout",
     "output_type": "stream",
     "text": [
      "[[0.5 0.5 0.5 0.5 0.5 0.5 0.5 0.5 0.5 0.5]]\n"
     ]
    },
    {
     "name": "stderr",
     "output_type": "stream",
     "text": [
      "2020-05-26 20:48:19 darkdevil root[6893] INFO Episode 8/50 - Train Position: +$40556.78  Val Position: +$578.17  Train Loss: 63.6145)\n",
      "Episode 9/50: 100%|██████████| 849/849 [02:38<00:00,  5.35it/s]\n"
     ]
    },
    {
     "name": "stdout",
     "output_type": "stream",
     "text": [
      "[[0.5 0.5 0.5 0.5 0.5 0.5 0.5 0.5 0.5 0.5]]\n"
     ]
    },
    {
     "name": "stderr",
     "output_type": "stream",
     "text": [
      "2020-05-26 20:51:08 darkdevil root[6893] INFO Episode 9/50 - Train Position: +$61973.63  Val Position: +$5702.18  Train Loss: 64.6507)\n",
      "Episode 10/50: 100%|██████████| 849/849 [02:41<00:00,  5.26it/s]\n"
     ]
    },
    {
     "name": "stdout",
     "output_type": "stream",
     "text": [
      "[[0.5 0.5 0.5 0.5 0.5 0.5 0.5 0.5 0.5 0.5]]\n"
     ]
    },
    {
     "name": "stderr",
     "output_type": "stream",
     "text": [
      "2020-05-26 20:54:00 darkdevil root[6893] INFO Episode 10/50 - Train Position: +$15714.79  Val Position: +$1405.47  Train Loss: 65.2933)\n",
      "Episode 11/50: 100%|██████████| 849/849 [02:44<00:00,  5.16it/s]\n"
     ]
    },
    {
     "name": "stdout",
     "output_type": "stream",
     "text": [
      "[[0.5 0.5 0.5 0.5 0.5 0.5 0.5 0.5 0.5 0.5]]\n"
     ]
    },
    {
     "name": "stderr",
     "output_type": "stream",
     "text": [
      "2020-05-26 20:56:55 darkdevil root[6893] INFO Episode 11/50 - Train Position: +$47503.41  Val Position: USELESS  Train Loss: 63.9841\n",
      "Episode 12/50: 100%|██████████| 849/849 [02:41<00:00,  5.26it/s]\n"
     ]
    },
    {
     "name": "stdout",
     "output_type": "stream",
     "text": [
      "[[0.5 0.5 0.5 0.5 0.5 0.5 0.5 0.5 0.5 0.5]]\n"
     ]
    },
    {
     "name": "stderr",
     "output_type": "stream",
     "text": [
      "2020-05-26 20:59:46 darkdevil root[6893] INFO Episode 12/50 - Train Position: +$34980.75  Val Position: -$551.00  Train Loss: 61.4942)\n",
      "Episode 13/50: 100%|██████████| 849/849 [02:42<00:00,  5.23it/s]\n"
     ]
    },
    {
     "name": "stdout",
     "output_type": "stream",
     "text": [
      "[[0.5 0.5 0.5 0.5 0.5 0.5 0.5 0.5 0.5 0.5]]\n"
     ]
    },
    {
     "name": "stderr",
     "output_type": "stream",
     "text": [
      "2020-05-26 21:02:39 darkdevil root[6893] INFO Episode 13/50 - Train Position: -$188.26  Val Position: -$16061.53  Train Loss: 63.3211)\n",
      "Episode 14/50: 100%|██████████| 849/849 [02:44<00:00,  5.15it/s]\n"
     ]
    },
    {
     "name": "stdout",
     "output_type": "stream",
     "text": [
      "[[0.5 0.5 0.5 0.5 0.5 0.5 0.5 0.5 0.5 0.5]]\n"
     ]
    },
    {
     "name": "stderr",
     "output_type": "stream",
     "text": [
      "2020-05-26 21:05:34 darkdevil root[6893] INFO Episode 14/50 - Train Position: +$8523.69  Val Position: -$3386.07  Train Loss: 61.5125)\n",
      "Episode 15/50: 100%|██████████| 849/849 [02:39<00:00,  5.32it/s]\n"
     ]
    },
    {
     "name": "stdout",
     "output_type": "stream",
     "text": [
      "[[0.5 0.5 0.5 0.5 0.5 0.5 0.5 0.5 0.5 0.5]]\n"
     ]
    },
    {
     "name": "stderr",
     "output_type": "stream",
     "text": [
      "2020-05-26 21:08:24 darkdevil root[6893] INFO Episode 15/50 - Train Position: +$4809.88  Val Position: USELESS  Train Loss: 59.4368\n",
      "Episode 16/50: 100%|██████████| 849/849 [02:39<00:00,  5.31it/s]\n"
     ]
    },
    {
     "name": "stdout",
     "output_type": "stream",
     "text": [
      "[[0.5 0.5 0.5 0.5 0.5 0.5 0.5 0.5 0.5 0.5]]\n"
     ]
    },
    {
     "name": "stderr",
     "output_type": "stream",
     "text": [
      "2020-05-26 21:11:14 darkdevil root[6893] INFO Episode 16/50 - Train Position: +$25193.85  Val Position: +$2948.23  Train Loss: 57.2913)\n",
      "Episode 17/50: 100%|██████████| 849/849 [02:43<00:00,  5.19it/s]\n"
     ]
    },
    {
     "name": "stdout",
     "output_type": "stream",
     "text": [
      "[[0.5 0.5 0.5 0.5 0.5 0.5 0.5 0.5 0.5 0.5]]\n"
     ]
    },
    {
     "name": "stderr",
     "output_type": "stream",
     "text": [
      "2020-05-26 21:14:08 darkdevil root[6893] INFO Episode 17/50 - Train Position: +$13815.15  Val Position: -$270.31  Train Loss: 55.8295)\n",
      "Episode 18/50: 100%|██████████| 849/849 [02:40<00:00,  5.31it/s]\n"
     ]
    },
    {
     "name": "stdout",
     "output_type": "stream",
     "text": [
      "[[0.5 0.5 0.5 0.5 0.5 0.5 0.5 0.5 0.5 0.5]]\n"
     ]
    },
    {
     "name": "stderr",
     "output_type": "stream",
     "text": [
      "2020-05-26 21:16:58 darkdevil root[6893] INFO Episode 18/50 - Train Position: +$17582.07  Val Position: -$7147.64  Train Loss: 56.8865)\n",
      "Episode 19/50: 100%|██████████| 849/849 [02:40<00:00,  5.29it/s]\n"
     ]
    },
    {
     "name": "stdout",
     "output_type": "stream",
     "text": [
      "[[0.5 0.5 0.5 0.5 0.5 0.5 0.5 0.5 0.5 0.5]]\n"
     ]
    },
    {
     "name": "stderr",
     "output_type": "stream",
     "text": [
      "2020-05-26 21:19:49 darkdevil root[6893] INFO Episode 19/50 - Train Position: +$54677.16  Val Position: -$2383.79  Train Loss: 55.3077)\n",
      "Episode 20/50: 100%|██████████| 849/849 [02:38<00:00,  5.37it/s]\n"
     ]
    },
    {
     "name": "stdout",
     "output_type": "stream",
     "text": [
      "[[0.5 0.5 0.5 0.5 0.5 0.5 0.5 0.5 0.5 0.5]]\n"
     ]
    },
    {
     "name": "stderr",
     "output_type": "stream",
     "text": [
      "2020-05-26 21:22:38 darkdevil root[6893] INFO Episode 20/50 - Train Position: +$21903.70  Val Position: +$2772.38  Train Loss: 53.7489)\n",
      "Episode 21/50: 100%|██████████| 849/849 [02:44<00:00,  5.17it/s]\n"
     ]
    },
    {
     "name": "stdout",
     "output_type": "stream",
     "text": [
      "[[0.5 0.5 0.5 0.5 0.5 0.5 0.5 0.5 0.5 0.5]]\n"
     ]
    },
    {
     "name": "stderr",
     "output_type": "stream",
     "text": [
      "2020-05-26 21:25:33 darkdevil root[6893] INFO Episode 21/50 - Train Position: +$30261.34  Val Position: +$5210.93  Train Loss: 54.5986)\n",
      "Episode 22/50: 100%|██████████| 849/849 [02:43<00:00,  5.21it/s]\n"
     ]
    },
    {
     "name": "stdout",
     "output_type": "stream",
     "text": [
      "[[0.5 0.5 0.5 0.5 0.5 0.5 0.5 0.5 0.5 0.5]]\n"
     ]
    },
    {
     "name": "stderr",
     "output_type": "stream",
     "text": [
      "2020-05-26 21:28:26 darkdevil root[6893] INFO Episode 22/50 - Train Position: -$1401.03  Val Position: +$3470.58  Train Loss: 53.6321)\n",
      "Episode 23/50: 100%|██████████| 849/849 [02:39<00:00,  5.32it/s]\n"
     ]
    },
    {
     "name": "stdout",
     "output_type": "stream",
     "text": [
      "[[0.5 0.5 0.5 0.5 0.5 0.5 0.5 0.5 0.5 0.5]]\n"
     ]
    },
    {
     "name": "stderr",
     "output_type": "stream",
     "text": [
      "2020-05-26 21:31:16 darkdevil root[6893] INFO Episode 23/50 - Train Position: -$24067.11  Val Position: +$5456.52  Train Loss: 53.5955)\n",
      "Episode 24/50: 100%|██████████| 849/849 [02:38<00:00,  5.35it/s]\n"
     ]
    },
    {
     "name": "stdout",
     "output_type": "stream",
     "text": [
      "[[0.5 0.5 0.5 0.5 0.5 0.5 0.5 0.5 0.5 0.5]]\n"
     ]
    },
    {
     "name": "stderr",
     "output_type": "stream",
     "text": [
      "2020-05-26 21:34:05 darkdevil root[6893] INFO Episode 24/50 - Train Position: -$1361.72  Val Position: +$3608.25  Train Loss: 51.2547)\n",
      "Episode 25/50: 100%|██████████| 849/849 [02:36<00:00,  5.44it/s]\n"
     ]
    },
    {
     "name": "stdout",
     "output_type": "stream",
     "text": [
      "[[0.5 0.5 0.5 0.5 0.5 0.5 0.5 0.5 0.5 0.5]]\n"
     ]
    },
    {
     "name": "stderr",
     "output_type": "stream",
     "text": [
      "2020-05-26 21:36:51 darkdevil root[6893] INFO Episode 25/50 - Train Position: -$21980.43  Val Position: +$12961.50  Train Loss: 50.4959)\n",
      "Episode 26/50: 100%|██████████| 849/849 [02:35<00:00,  5.46it/s]\n"
     ]
    },
    {
     "name": "stdout",
     "output_type": "stream",
     "text": [
      "[[0.5 0.5 0.5 0.5 0.5 0.5 0.5 0.5 0.5 0.5]]\n"
     ]
    },
    {
     "name": "stderr",
     "output_type": "stream",
     "text": [
      "2020-05-26 21:39:37 darkdevil root[6893] INFO Episode 26/50 - Train Position: +$11754.02  Val Position: +$1876.75  Train Loss: 54.3294)\n",
      "Episode 27/50: 100%|██████████| 849/849 [02:38<00:00,  5.37it/s]\n"
     ]
    },
    {
     "name": "stdout",
     "output_type": "stream",
     "text": [
      "[[0.5 0.5 0.5 0.5 0.5 0.5 0.5 0.5 0.5 0.5]]\n"
     ]
    },
    {
     "name": "stderr",
     "output_type": "stream",
     "text": [
      "2020-05-26 21:42:25 darkdevil root[6893] INFO Episode 27/50 - Train Position: -$15674.88  Val Position: +$6913.64  Train Loss: 51.8667)\n",
      "Episode 28/50: 100%|██████████| 849/849 [02:37<00:00,  5.38it/s]\n"
     ]
    },
    {
     "name": "stdout",
     "output_type": "stream",
     "text": [
      "[[0.5 0.5 0.5 0.5 0.5 0.5 0.5 0.5 0.5 0.5]]\n"
     ]
    },
    {
     "name": "stderr",
     "output_type": "stream",
     "text": [
      "2020-05-26 21:45:13 darkdevil root[6893] INFO Episode 28/50 - Train Position: -$17395.67  Val Position: +$10841.60  Train Loss: 51.9572)\n",
      "Episode 29/50: 100%|██████████| 849/849 [02:40<00:00,  5.28it/s]\n"
     ]
    },
    {
     "name": "stdout",
     "output_type": "stream",
     "text": [
      "[[0.5 0.5 0.5 0.5 0.5 0.5 0.5 0.5 0.5 0.5]]\n"
     ]
    },
    {
     "name": "stderr",
     "output_type": "stream",
     "text": [
      "2020-05-26 21:48:04 darkdevil root[6893] INFO Episode 29/50 - Train Position: +$32678.02  Val Position: -$10623.38  Train Loss: 52.8292)\n",
      "Episode 30/50: 100%|██████████| 849/849 [02:37<00:00,  5.38it/s]\n"
     ]
    },
    {
     "name": "stdout",
     "output_type": "stream",
     "text": [
      "[[0.5 0.5 0.5 0.5 0.5 0.5 0.5 0.5 0.5 0.5]]\n"
     ]
    },
    {
     "name": "stderr",
     "output_type": "stream",
     "text": [
      "2020-05-26 21:50:53 darkdevil root[6893] INFO Episode 30/50 - Train Position: -$15764.51  Val Position: +$17520.29  Train Loss: 53.5622)\n",
      "Episode 31/50: 100%|██████████| 849/849 [02:37<00:00,  5.39it/s]\n"
     ]
    },
    {
     "name": "stdout",
     "output_type": "stream",
     "text": [
      "[[0.5 0.5 0.5 0.5 0.5 0.5 0.5 0.5 0.5 0.5]]\n"
     ]
    },
    {
     "name": "stderr",
     "output_type": "stream",
     "text": [
      "2020-05-26 21:53:41 darkdevil root[6893] INFO Episode 31/50 - Train Position: -$17382.08  Val Position: -$1258.37  Train Loss: 54.0639)\n",
      "Episode 32/50: 100%|██████████| 849/849 [02:41<00:00,  5.25it/s]\n"
     ]
    },
    {
     "name": "stdout",
     "output_type": "stream",
     "text": [
      "[[0.5 0.5 0.5 0.5 0.5 0.5 0.5 0.5 0.5 0.5]]\n"
     ]
    },
    {
     "name": "stderr",
     "output_type": "stream",
     "text": [
      "2020-05-26 21:56:33 darkdevil root[6893] INFO Episode 32/50 - Train Position: +$4659.80  Val Position: +$8133.53  Train Loss: 52.2977)\n",
      "Episode 33/50: 100%|██████████| 849/849 [02:41<00:00,  5.26it/s]\n"
     ]
    },
    {
     "name": "stdout",
     "output_type": "stream",
     "text": [
      "[[0.5 0.5 0.5 0.5 0.5 0.5 0.5 0.5 0.5 0.5]]\n"
     ]
    },
    {
     "name": "stderr",
     "output_type": "stream",
     "text": [
      "2020-05-26 21:59:24 darkdevil root[6893] INFO Episode 33/50 - Train Position: -$44651.67  Val Position: -$4195.04  Train Loss: 53.1836)\n",
      "Episode 34/50: 100%|██████████| 849/849 [02:48<00:00,  5.05it/s]\n"
     ]
    },
    {
     "name": "stdout",
     "output_type": "stream",
     "text": [
      "[[0.5 0.5 0.5 0.5 0.5 0.5 0.5 0.5 0.5 0.5]]\n"
     ]
    },
    {
     "name": "stderr",
     "output_type": "stream",
     "text": [
      "2020-05-26 22:02:23 darkdevil root[6893] INFO Episode 34/50 - Train Position: -$37695.12  Val Position: +$16850.71  Train Loss: 51.3865)\n",
      "Episode 35/50: 100%|██████████| 849/849 [02:39<00:00,  5.32it/s]\n"
     ]
    },
    {
     "name": "stdout",
     "output_type": "stream",
     "text": [
      "[[0.5 0.5 0.5 0.5 0.5 0.5 0.5 0.5 0.5 0.5]]\n"
     ]
    },
    {
     "name": "stderr",
     "output_type": "stream",
     "text": [
      "2020-05-26 22:05:13 darkdevil root[6893] INFO Episode 35/50 - Train Position: -$8898.57  Val Position: -$47.65  Train Loss: 51.5109)\n",
      "Episode 36/50: 100%|██████████| 849/849 [02:40<00:00,  5.30it/s]\n"
     ]
    },
    {
     "name": "stdout",
     "output_type": "stream",
     "text": [
      "[[0.5 0.5 0.5 0.5 0.5 0.5 0.5 0.5 0.5 0.5]]\n"
     ]
    },
    {
     "name": "stderr",
     "output_type": "stream",
     "text": [
      "2020-05-26 22:08:03 darkdevil root[6893] INFO Episode 36/50 - Train Position: -$67964.21  Val Position: +$654.01  Train Loss: 49.2073)\n",
      "Episode 37/50: 100%|██████████| 849/849 [02:33<00:00,  5.54it/s]\n"
     ]
    },
    {
     "name": "stdout",
     "output_type": "stream",
     "text": [
      "[[0.5 0.5 0.5 0.5 0.5 0.5 0.5 0.5 0.5 0.5]]\n"
     ]
    },
    {
     "name": "stderr",
     "output_type": "stream",
     "text": [
      "2020-05-26 22:10:47 darkdevil root[6893] INFO Episode 37/50 - Train Position: -$36550.59  Val Position: -$1875.43  Train Loss: 50.6348)\n",
      "Episode 38/50: 100%|██████████| 849/849 [02:41<00:00,  5.26it/s]\n"
     ]
    },
    {
     "name": "stdout",
     "output_type": "stream",
     "text": [
      "[[0.5 0.5 0.5 0.5 0.5 0.5 0.5 0.5 0.5 0.5]]\n"
     ]
    },
    {
     "name": "stderr",
     "output_type": "stream",
     "text": [
      "2020-05-26 22:13:38 darkdevil root[6893] INFO Episode 38/50 - Train Position: -$23916.16  Val Position: +$1461.95  Train Loss: 49.7071)\n",
      "Episode 39/50: 100%|██████████| 849/849 [02:39<00:00,  5.33it/s]\n"
     ]
    },
    {
     "name": "stdout",
     "output_type": "stream",
     "text": [
      "[[0.5 0.5 0.5 0.5 0.5 0.5 0.5 0.5 0.5 0.5]]\n"
     ]
    },
    {
     "name": "stderr",
     "output_type": "stream",
     "text": [
      "2020-05-26 22:16:28 darkdevil root[6893] INFO Episode 39/50 - Train Position: -$17924.64  Val Position: +$114.73  Train Loss: 49.3126)\n",
      "Episode 40/50: 100%|██████████| 849/849 [02:37<00:00,  5.38it/s]\n"
     ]
    },
    {
     "name": "stdout",
     "output_type": "stream",
     "text": [
      "[[0.5 0.5 0.5 0.5 0.5 0.5 0.5 0.5 0.5 0.5]]\n"
     ]
    },
    {
     "name": "stderr",
     "output_type": "stream",
     "text": [
      "2020-05-26 22:19:16 darkdevil root[6893] INFO Episode 40/50 - Train Position: -$42488.09  Val Position: +$953.84  Train Loss: 48.1111)\n",
      "Episode 41/50: 100%|██████████| 849/849 [02:40<00:00,  5.30it/s]\n"
     ]
    },
    {
     "name": "stdout",
     "output_type": "stream",
     "text": [
      "[[0.5 0.5 0.5 0.5 0.5 0.5 0.5 0.5 0.5 0.5]]\n"
     ]
    },
    {
     "name": "stderr",
     "output_type": "stream",
     "text": [
      "2020-05-26 22:22:06 darkdevil root[6893] INFO Episode 41/50 - Train Position: -$51638.02  Val Position: +$15263.53  Train Loss: 44.9782)\n",
      "Episode 42/50: 100%|██████████| 849/849 [02:39<00:00,  5.31it/s]\n"
     ]
    },
    {
     "name": "stdout",
     "output_type": "stream",
     "text": [
      "[[0.5 0.5 0.5 0.5 0.5 0.5 0.5 0.5 0.5 0.5]]\n"
     ]
    },
    {
     "name": "stderr",
     "output_type": "stream",
     "text": [
      "2020-05-26 22:24:56 darkdevil root[6893] INFO Episode 42/50 - Train Position: -$46972.97  Val Position: -$4439.53  Train Loss: 48.2011)\n",
      "Episode 43/50: 100%|██████████| 849/849 [02:42<00:00,  5.24it/s]\n"
     ]
    },
    {
     "name": "stdout",
     "output_type": "stream",
     "text": [
      "[[0.5 0.5 0.5 0.5 0.5 0.5 0.5 0.5 0.5 0.5]]\n"
     ]
    },
    {
     "name": "stderr",
     "output_type": "stream",
     "text": [
      "2020-05-26 22:27:49 darkdevil root[6893] INFO Episode 43/50 - Train Position: +$14337.75  Val Position: -$1875.78  Train Loss: 44.5941)\n",
      "Episode 44/50: 100%|██████████| 849/849 [02:52<00:00,  4.92it/s]\n"
     ]
    },
    {
     "name": "stdout",
     "output_type": "stream",
     "text": [
      "[[0.5 0.5 0.5 0.5 0.5 0.5 0.5 0.5 0.5 0.5]]\n"
     ]
    },
    {
     "name": "stderr",
     "output_type": "stream",
     "text": [
      "2020-05-26 22:30:52 darkdevil root[6893] INFO Episode 44/50 - Train Position: -$34176.71  Val Position: +$9189.09  Train Loss: 47.1806)\n",
      "Episode 45/50: 100%|██████████| 849/849 [02:45<00:00,  5.12it/s]\n"
     ]
    },
    {
     "name": "stdout",
     "output_type": "stream",
     "text": [
      "[[0.5 0.5 0.5 0.5 0.5 0.5 0.5 0.5 0.5 0.5]]\n"
     ]
    },
    {
     "name": "stderr",
     "output_type": "stream",
     "text": [
      "2020-05-26 22:33:48 darkdevil root[6893] INFO Episode 45/50 - Train Position: -$44878.39  Val Position: +$16692.46  Train Loss: 46.6684)\n",
      "Episode 46/50: 100%|██████████| 849/849 [02:47<00:00,  5.08it/s]\n"
     ]
    },
    {
     "name": "stdout",
     "output_type": "stream",
     "text": [
      "[[0.5 0.5 0.5 0.5 0.5 0.5 0.5 0.5 0.5 0.5]]\n"
     ]
    },
    {
     "name": "stderr",
     "output_type": "stream",
     "text": [
      "2020-05-26 22:36:45 darkdevil root[6893] INFO Episode 46/50 - Train Position: -$47376.49  Val Position: +$405.30  Train Loss: 48.7744)\n",
      "Episode 47/50: 100%|██████████| 849/849 [02:44<00:00,  5.15it/s]\n"
     ]
    },
    {
     "name": "stdout",
     "output_type": "stream",
     "text": [
      "[[0.5 0.5 0.5 0.5 0.5 0.5 0.5 0.5 0.5 0.5]]\n"
     ]
    },
    {
     "name": "stderr",
     "output_type": "stream",
     "text": [
      "2020-05-26 22:39:40 darkdevil root[6893] INFO Episode 47/50 - Train Position: -$36588.75  Val Position: +$4893.24  Train Loss: 48.3066)\n",
      "Episode 48/50: 100%|██████████| 849/849 [02:45<00:00,  5.13it/s]\n"
     ]
    },
    {
     "name": "stdout",
     "output_type": "stream",
     "text": [
      "[[0.5 0.5 0.5 0.5 0.5 0.5 0.5 0.5 0.5 0.5]]\n"
     ]
    },
    {
     "name": "stderr",
     "output_type": "stream",
     "text": [
      "2020-05-26 22:42:36 darkdevil root[6893] INFO Episode 48/50 - Train Position: -$39117.48  Val Position: +$14938.26  Train Loss: 48.9447)\n",
      "Episode 49/50: 100%|██████████| 849/849 [02:51<00:00,  4.95it/s]\n"
     ]
    },
    {
     "name": "stdout",
     "output_type": "stream",
     "text": [
      "[[0.5 0.5 0.5 0.5 0.5 0.5 0.5 0.5 0.5 0.5]]\n"
     ]
    },
    {
     "name": "stderr",
     "output_type": "stream",
     "text": [
      "2020-05-26 22:45:38 darkdevil root[6893] INFO Episode 49/50 - Train Position: -$37538.44  Val Position: +$20381.09  Train Loss: 47.8199)\n",
      "Episode 50/50: 100%|██████████| 849/849 [02:44<00:00,  5.15it/s]\n"
     ]
    },
    {
     "name": "stdout",
     "output_type": "stream",
     "text": [
      "[[0.5 0.5 0.5 0.5 0.5 0.5 0.5 0.5 0.5 0.5]]\n"
     ]
    },
    {
     "name": "stderr",
     "output_type": "stream",
     "text": [
      "2020-05-26 22:48:33 darkdevil root[6893] INFO Episode 50/50 - Train Position: -$49822.68  Val Position: -$7085.14  Train Loss: 46.1497)\n"
     ]
    },
    {
     "name": "stdout",
     "output_type": "stream",
     "text": [
      "TRAINING THE MODEL COMPLETED!!!\n"
     ]
    }
   ],
   "source": [
    "\"\"\"\n",
    "Script for training Stock Trading Bot.\n",
    "\n",
    "Usage:\n",
    "  train.py <train-stock> <val-stock> [--strategy=<strategy>]\n",
    "    [--window-size=<window-size>] [--batch-size=<batch-size>]\n",
    "    [--episode-count=<episode-count>] [--model-name=<model-name>]\n",
    "    [--pretrained] [--debug]\n",
    "\n",
    "Options:\n",
    "  --strategy=<strategy>             Q-learning strategy to use for training the network. Options:\n",
    "                                      `dqn` i.e. Vanilla DQN,\n",
    "                                      `t-dqn` i.e. DQN with fixed target distribution,\n",
    "                                      `double-dqn` i.e. DQN with separate network for value estimation. [default: t-dqn]\n",
    "  --window-size=<window-size>       Size of the n-day window stock data representation\n",
    "                                    used as the feature vector. [default: 10]\n",
    "  --batch-size=<batch-size>         Number of samples to train on in one mini-batch\n",
    "                                    during training. [default: 32]\n",
    "  --episode-count=<episode-count>   Number of trading episodes to use for training. [default: 50]\n",
    "  --model-name=<model-name>         Name of the pretrained model to use. [default: model_debug]\n",
    "  --pretrained                      Specifies whether to continue training a previously\n",
    "                                    trained model (reads `model-name`).\n",
    "  --debug                           Specifies whether to use verbose logs during eval operation.\n",
    "\"\"\"\n",
    "\n",
    "import logging\n",
    "import coloredlogs\n",
    "from docopt import docopt\n",
    "from trading_bot.agent import Agent\n",
    "from trading_bot.methods import train_model, evaluate_model\n",
    "from trading_bot.utils import (\n",
    "    get_stock_data,\n",
    "    format_currency,\n",
    "    format_position,\n",
    "    show_train_result,\n",
    "    switch_k_backend_device\n",
    ")\n",
    "\n",
    "def main(train_stock, val_stock, window_size, batch_size, ep_count,\n",
    "         strategy=\"t-dqn\", model_name=\"model_double-dqn_GOOG_50\", pretrained=False,\n",
    "         debug=False):\n",
    "    \"\"\" Trains the stock trading bot using Deep Q-Learning.\n",
    "    Please see https://arxiv.org/abs/1312.5602 for more details.\n",
    "\n",
    "    Args: [python train.py --help]\n",
    "    \"\"\"\n",
    "    agent = Agent(window_size, strategy=strategy, pretrained=pretrained, model_name=model_name)\n",
    "    \n",
    "    train_data = get_stock_data(train_stock)\n",
    "    val_data = get_stock_data(val_stock)\n",
    "\n",
    "    initial_offset = val_data[1] - val_data[0]\n",
    "\n",
    "    for episode in range(1, ep_count + 1):\n",
    "        train_result = train_model(agent, episode, train_data, ep_count=ep_count,\n",
    "                                   batch_size=batch_size, window_size=window_size)\n",
    "        val_result, _ = evaluate_model(agent, val_data, window_size, debug)\n",
    "        show_train_result(train_result, val_result, initial_offset)\n",
    "\n",
    "if __name__ == \"__main__\":\n",
    "    coloredlogs.install(level=\"DEBUG\")\n",
    "    switch_k_backend_device()\n",
    "    train_stock = \"data/BTCUSDT_TRAINING.csv\"\n",
    "    val_stock = \"data/BTCUSDT_TESTING.csv\"\n",
    "    strategy = \"double-dqn\"\n",
    "    model_name = \"model_double-dqn_GOOG_50\"\n",
    "    window_size = 10\n",
    "    batch_size = 32\n",
    "    ep_count = 50\n",
    "    pretrained = False\n",
    "    debug = False\n",
    "    try:\n",
    "        main(train_stock, val_stock, window_size, batch_size,\n",
    "             ep_count, strategy=strategy, model_name=model_name, \n",
    "             pretrained=pretrained, debug=debug)\n",
    "        print(\"TRAINING THE MODEL COMPLETED!!!\")\n",
    "    except KeyboardInterrupt:\n",
    "        print(\"Aborted!\")"
   ]
  }
 ],
 "metadata": {
  "kernelspec": {
   "display_name": "Python 3",
   "language": "python",
   "name": "python3"
  },
  "language_info": {
   "codemirror_mode": {
    "name": "ipython",
    "version": 3
   },
   "file_extension": ".py",
   "mimetype": "text/x-python",
   "name": "python",
   "nbconvert_exporter": "python",
   "pygments_lexer": "ipython3",
   "version": "3.7.6"
  }
 },
 "nbformat": 4,
 "nbformat_minor": 4
}

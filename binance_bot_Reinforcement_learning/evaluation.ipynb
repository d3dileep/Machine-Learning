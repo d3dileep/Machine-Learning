{
 "cells": [
  {
   "cell_type": "code",
   "execution_count": 5,
   "metadata": {},
   "outputs": [
    {
     "name": "stderr",
     "output_type": "stream",
     "text": [
      "2020-05-26 14:44:30 darkdevil root[16782] DEBUG switching to TensorFlow for CPU\n"
     ]
    },
    {
     "name": "stdout",
     "output_type": "stream",
     "text": [
      "[[0.5 0.5 0.5 0.5 0.5 0.5 0.5 0.5 0.5 0.5]]\n"
     ]
    },
    {
     "name": "stderr",
     "output_type": "stream",
     "text": [
      "2020-05-26 14:44:41 darkdevil root[16782] INFO model_double-dqn_GOOG_50: -$28195.98\n",
      "\n"
     ]
    }
   ],
   "source": [
    "\"\"\"\n",
    "Script for evaluating Stock Trading Bot.\n",
    "\n",
    "Usage:\n",
    "  eval.py <eval-stock> [--window-size=<window-size>] [--model-name=<model-name>] [--debug]\n",
    "\n",
    "Options:\n",
    "  --window-size=<window-size>   Size of the n-day window stock data representation used as the feature vector. [default: 10]\n",
    "  --model-name=<model-name>     Name of the pretrained model to use (will eval all models in `models/` if unspecified).\n",
    "  --debug                       Specifies whether to use verbose logs during eval operation.\n",
    "\"\"\"\n",
    "\n",
    "import os\n",
    "import coloredlogs\n",
    "from docopt import docopt\n",
    "import time\n",
    "from trading_bot.agent import Agent\n",
    "from trading_bot.methods import evaluate_model\n",
    "from trading_bot.utils import (\n",
    "    get_stock_data,\n",
    "    format_currency,\n",
    "    format_position,\n",
    "    show_eval_result,\n",
    "    switch_k_backend_device\n",
    ")\n",
    "\n",
    "\n",
    "def main(eval_stock, window_size, model_name, debug):\n",
    "    \"\"\" Evaluates the stock trading bot.\n",
    "    Please see https://arxiv.org/abs/1312.5602 for more details.\n",
    "\n",
    "    Args: [python eval.py --help]\n",
    "    \"\"\"    \n",
    "    data = get_stock_data(eval_stock)\n",
    "    initial_offset = data[1] - data[0]\n",
    "#    print(data)\n",
    "#    print(initial_offset)\n",
    "#    time.sleep(20)\n",
    "    # Single Model Evaluation\n",
    "    if model_name is not None:\n",
    "        agent = Agent(window_size, pretrained=True, model_name=model_name)\n",
    "        profit, _ = evaluate_model(agent, data, window_size, debug)\n",
    "        show_eval_result(model_name, profit, initial_offset)\n",
    "        \n",
    "    # Multiple Model Evaluation\n",
    "    else:\n",
    "        for model in os.listdir(\"models\"):\n",
    "            if os.path.isfile(os.path.join(\"models\", model)):\n",
    "                agent = Agent(window_size, pretrained=True, model_name=model)\n",
    "                profit = evaluate_model(agent, data, window_size, debug)\n",
    "                show_eval_result(model, profit, initial_offset)\n",
    "                del agent\n",
    "\n",
    "if __name__ == \"__main__\":\n",
    "    \n",
    "    coloredlogs.install(level=\"DEBUG\")\n",
    "    switch_k_backend_device()\n",
    "    eval_stock = \"data/BTCUSDT_TESTING.csv\"\n",
    "    window_size = 10\n",
    "    model_name = \"model_double-dqn_GOOG_50\"\n",
    "    debug = False\n",
    "    try:\n",
    "        main(eval_stock, window_size, model_name, debug)\n",
    "    except KeyboardInterrupt:\n",
    "        print(\"Aborted\")"
   ]
  },
  {
   "cell_type": "code",
   "execution_count": null,
   "metadata": {},
   "outputs": [],
   "source": []
  }
 ],
 "metadata": {
  "kernelspec": {
   "display_name": "Python 3",
   "language": "python",
   "name": "python3"
  },
  "language_info": {
   "codemirror_mode": {
    "name": "ipython",
    "version": 3
   },
   "file_extension": ".py",
   "mimetype": "text/x-python",
   "name": "python",
   "nbconvert_exporter": "python",
   "pygments_lexer": "ipython3",
   "version": "3.7.6"
  }
 },
 "nbformat": 4,
 "nbformat_minor": 4
}

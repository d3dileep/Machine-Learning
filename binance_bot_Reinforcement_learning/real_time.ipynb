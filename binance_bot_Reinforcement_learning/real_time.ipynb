{
 "cells": [
  {
   "cell_type": "code",
   "execution_count": 105,
   "metadata": {},
   "outputs": [],
   "source": [
    "import lxml.html as lh\n",
    "import time\n",
    "import urllib.request\n",
    "import argparse\n",
    "import urllib.request, urllib.parse, urllib.error\n",
    "from datetime import datetime\n",
    "import dateparser\n",
    "import argparse\n",
    "import pytz\n",
    "from selenium import webdriver\n",
    "from selenium.common.exceptions import StaleElementReferenceException\n",
    "import os\n",
    "import coloredlogs\n",
    "import json\n",
    "import ssl\n",
    "from docopt import docopt\n",
    "from trading_bot.ops import get_state\n",
    "from trading_bot.agent import Agent\n",
    "from trading_bot.methods import train_model, evaluate_model\n",
    "from trading_bot.utils import (\n",
    "    get_stock_data,\n",
    "    format_currency,\n",
    "    format_position,\n",
    "    show_eval_result,\n",
    "    show_train_result,\n",
    "    switch_k_backend_device\n",
    ")\n",
    "\n",
    "from binance.client import Client\n",
    "from binance.exceptions import BinanceAPIException\n",
    "import pandas as pd"
   ]
  },
  {
   "cell_type": "code",
   "execution_count": 106,
   "metadata": {},
   "outputs": [
    {
     "name": "stderr",
     "output_type": "stream",
     "text": [
      "2020-05-28 14:26:53 darkdevil urllib3.connectionpool[11651] DEBUG Starting new HTTPS connection (1): api.binance.com:443\n",
      "2020-05-28 14:26:54 darkdevil urllib3.connectionpool[11651] DEBUG https://api.binance.com:443 \"GET /api/v1/ping HTTP/1.1\" 200 None\n",
      "2020-05-28 14:26:54 darkdevil urllib3.connectionpool[11651] DEBUG https://api.binance.com:443 \"GET /wapi/v3/depositAddress.html?asset=USDT&timestamp=1590656214034&signature=762400de3b7b3b4abe4bdbc09ce66196f59ab291b57223d05a3da4a456c48ac5 HTTP/1.1\" 200 182\n"
     ]
    },
    {
     "data": {
      "text/plain": [
       "{'address': '0x7468874b3df2712761f9a851b662e5ed7376472a',\n",
       " 'success': True,\n",
       " 'addressTag': '',\n",
       " 'asset': 'USDT',\n",
       " 'url': 'https://etherscan.io/address/0x7468874b3df2712761f9a851b662e5ed7376472a'}"
      ]
     },
     "execution_count": 106,
     "metadata": {},
     "output_type": "execute_result"
    }
   ],
   "source": [
    "tz = pytz.timezone('Asia/Kolkata')\n",
    "ctx = ssl.create_default_context()\n",
    "ctx.check_hostname = False\n",
    "ctx.verify_mode = ssl.CERT_NONE\n",
    "api_key = \"JB80jU6aTMYXcLapXKPc2Rmnn12CUcm3l7RlnYAT7w8esCFAKYOTmd4bAMWxB33U\"\n",
    "api_secret = \"FsbKTSb7lCGLpQWoBad9Jobe8xpi177c2KrQ6Q31e86dUA5WgUqaliqHsILk7n5s\"\n",
    "client = Client(api_key, api_secret)\n",
    "client.get_deposit_address(asset='USDT')"
   ]
  },
  {
   "cell_type": "code",
   "execution_count": 107,
   "metadata": {},
   "outputs": [],
   "source": [
    "def train(train_stock, val_stock, window_size, batch_size, ep_count,\n",
    "         strategy=\"t-dqn\", model_name=\"model_double-dqn_GOOG_50\", pretrained=False,\n",
    "         debug=False):\n",
    "    \"\"\" Trains the stock trading bot using Deep Q-Learning.\n",
    "    Please see https://arxiv.org/abs/1312.5602 for more details.\n",
    "    Args: [python train.py --help]\n",
    "    \"\"\"\n",
    "    agent = Agent(window_size, strategy=strategy, pretrained=pretrained, model_name=model_name)\n",
    "    \n",
    "    train_data = get_stock_data(train_stock)\n",
    "    val_data = get_stock_data(val_stock)\n",
    "\n",
    "    initial_offset = val_data[1] - val_data[0]\n",
    "\n",
    "    for episode in range(1, ep_count + 1):\n",
    "        train_result = train_model(agent, episode, train_data, ep_count=ep_count,\n",
    "                                   batch_size=batch_size, window_size=window_size)\n",
    "        val_result, _ = evaluate_model(agent, val_data, window_size, debug)\n",
    "        show_train_result(train_result, val_result, initial_offset)\n",
    "    print(\"Training the model completed!!\")"
   ]
  },
  {
   "cell_type": "code",
   "execution_count": 108,
   "metadata": {},
   "outputs": [],
   "source": [
    "def date_to_milliseconds(date_str):\n",
    "    \"\"\"Convert UTC date to milliseconds\n",
    "    If using offset strings add \"UTC\" to date string e.g. \"now UTC\", \"11 hours ago UTC\"\n",
    "    :param date_str: date in readable format, i.e. \"January 01, 2018\", \"11 hours ago UTC\", \"now UTC\"\n",
    "    :type date_str: str\n",
    "    \"\"\"\n",
    "    epoch = datetime.utcfromtimestamp(0).replace(tzinfo=pytz.utc)\n",
    "    d = dateparser.parse(date_str)\n",
    "    if d.tzinfo is None or d.tzinfo.utcoffset(d) is None:\n",
    "        d = d.replace(tzinfo=pytz.utc)\n",
    "    return int((d - epoch).total_seconds() * 1000.0)"
   ]
  },
  {
   "cell_type": "code",
   "execution_count": 109,
   "metadata": {},
   "outputs": [],
   "source": [
    "def interval_to_milliseconds(interval):\n",
    "    \"\"\"Convert a Binance interval string to milliseconds\n",
    "    For clarification see document or mail d3dileep@gmail.com\n",
    "    :param interval: Binance interval string 1m, 3m, 5m, 15m, 30m, 1h, 2h, 4h, 6h, 8h, 12h, 1d, 3d, 1w\n",
    "    :type interval: str\n",
    "    :return:\n",
    "         None if unit not one of m, h, d or w\n",
    "         None if string not in correct format\n",
    "         int value of interval in milliseconds\n",
    "    \"\"\"\n",
    "    ms = None\n",
    "    seconds_per_unit = {\n",
    "        \"m\": 60,\n",
    "        \"h\": 60 * 60,\n",
    "        \"d\": 24 * 60 * 60,\n",
    "        \"w\": 7 * 24 * 60 * 60\n",
    "    }\n",
    "\n",
    "    unit = interval[-1]\n",
    "    if unit in seconds_per_unit:\n",
    "        try:\n",
    "            ms = int(interval[:-1]) * seconds_per_unit[unit] * 1000\n",
    "        except ValueError:\n",
    "            pass\n",
    "    return ms\n"
   ]
  },
  {
   "cell_type": "code",
   "execution_count": 110,
   "metadata": {},
   "outputs": [],
   "source": [
    "def get_historical_klines(symbol, interval, start_str, end_str=None):\n",
    "    \"\"\"Get Historical Klines from Binance\n",
    "    If using offset strings for dates add \"UTC\" to date string e.g. \"now UTC\", \"11 hours ago UTC\", \"1 Dec, 2017\"\n",
    "    :param symbol: Name of symbol pair e.g BNBBTC\n",
    "    :param interval: Biannce Kline interval\n",
    "    :param start_str: Start date string in UTC format\n",
    "    :param end_str: optional - end date string in UTC format\n",
    "    :return: list of Open High Low Close Volume values\n",
    "    \"\"\"\n",
    "    output_data = []\n",
    "    limit = 50\n",
    "    timeframe = interval_to_milliseconds(interval)\n",
    "    start_ts = date_to_milliseconds(start_str)\n",
    "    end_ts = None\n",
    "    if end_str:\n",
    "        end_ts = date_to_milliseconds(end_str)\n",
    "\n",
    "    idx = 0\n",
    "    # it can be difficult to know when a symbol was listed on Binance so allow start time to be before list date\n",
    "    symbol_existed = False\n",
    "    while True:\n",
    "        temp_data = client.get_klines(\n",
    "            symbol=symbol,\n",
    "            interval=interval,\n",
    "            limit=limit,\n",
    "            startTime=start_ts,\n",
    "            endTime=end_ts\n",
    "        )\n",
    "        # handle the case where our start date is before the symbol pair listed on Binance\n",
    "        if not symbol_existed and len(temp_data):\n",
    "            symbol_existed = True\n",
    "        if symbol_existed:\n",
    "            output_data += temp_data\n",
    "            start_ts = temp_data[len(temp_data) - 1][0] + timeframe\n",
    "        else:\n",
    "            start_ts += timeframe\n",
    "        idx += 1\n",
    "        if len(temp_data) < limit:\n",
    "            break\n",
    "        # sleep after every 3rd call to be kind to the API\n",
    "        if idx % 3 == 0:\n",
    "            time.sleep(1)\n",
    "\n",
    "    return output_data\n"
   ]
  },
  {
   "cell_type": "code",
   "execution_count": 111,
   "metadata": {},
   "outputs": [],
   "source": [
    "def get_historic_klines(symbol, start, end, interval):\n",
    "    klines = get_historical_klines(symbol, interval, start, end)\n",
    "    #print(klines[-1])\n",
    "    ochl = []\n",
    "    for kline in klines:\n",
    "        time1 = int(kline[0])\n",
    "        open1 = float(kline[1])\n",
    "        high = float(kline[2])\n",
    "        low = float(kline[3])\n",
    "        close = float(kline[4])\n",
    "        volume = float(kline[5])\n",
    "        ochl.append([time1, open1, close, high, low, volume])\n",
    "    #print(ochl[-1])\n",
    "    '''\n",
    "    fig, ax = plt.subplots()\n",
    "    mpl_finance.candlestick_ochl(ax, ochl, width=1)\n",
    "    ax.set(xlabel='Date', ylabel='Price', title='{} {}-{}'.format(symbol, start, end))\n",
    "    plt.show(block=False)\n",
    "    plt.pause(3)\n",
    "    plt.close()\n",
    "    '''\n",
    "    return ochl"
   ]
  },
  {
   "cell_type": "code",
   "execution_count": 112,
   "metadata": {},
   "outputs": [],
   "source": [
    "def make_csv_file(symbol):\n",
    "    ochl = get_historic_klines(symbol, \"5 days ago UTC\", \"now UTC\", Client.KLINE_INTERVAL_5MINUTE)\n",
    "    print(ochl)\n",
    "    df = pd.DataFrame(ochl, columns=[\"Date\", \"Open\", \"Close\", \"High\", \"Low\", \"Volume\"])                \n",
    "    f_name = str(symbol)\n",
    "    for i in df.index:\n",
    "        df.at[i,'Date'] = datetime.fromtimestamp((int(df.at[i,'Date']))/1000.0).date()\n",
    "    df.iloc[1:1001].to_csv(f_name+\"_TRAINING.csv\", columns=[\"Date\", \"Open\", \"Close\", \"High\", \"Low\", \"Volume\"])\n",
    "    df.iloc[1001:1440].to_csv(f_name+\"_TESTING.csv\", columns=[\"Date\", \"Open\", \"Close\", \"High\", \"Low\", \"Volume\"])"
   ]
  },
  {
   "cell_type": "code",
   "execution_count": 113,
   "metadata": {},
   "outputs": [],
   "source": [
    "def Real(client):\n",
    "    live = float(client.get_symbol_ticker(symbol='BTCUSDT')['price']);\n",
    "    time.sleep(1)\n",
    "    return live"
   ]
  },
  {
   "cell_type": "code",
   "execution_count": 114,
   "metadata": {},
   "outputs": [],
   "source": [
    "def evaluate_model1(agent, data, window_size, debug):\n",
    "    count = 0\n",
    "    while count < window_size:\n",
    "        live = Real(client)\n",
    "        data.append(live)\n",
    "        count += 1\n",
    "    total_profit = 0\n",
    "    history = []\n",
    "    agent.inventory = []\n",
    "    state = get_state(data, 0, window_size + 1)\n",
    "    number_of_buys = 0\n",
    "    t = 0\n",
    "    while True:\n",
    "        live = Real(client)\n",
    "        data.append(live)\n",
    "        reward = 0\n",
    "        next_state = get_state(data, t + 1, window_size + 1)\n",
    "        \n",
    "        action = agent.act(state, is_eval=True)\n",
    "\n",
    "        print(\"Live Price: \",live)\n",
    "        if action == 1 and number_of_buys < 10:\n",
    "            agent.inventory.append(data[t+window_size-1])\n",
    "            history.append((data[t+window_size-1], \"BUY\"))\n",
    "            number_of_buys += 1\n",
    "            if debug:\n",
    "                logging.debug(\"Buy at: {}\".format(format_currency(data[t+window_size-1])))\n",
    "        \n",
    "        elif action == 2 and len(agent.inventory) > 0:\n",
    "            if agent.inventory != []:\n",
    "                m = 0\n",
    "                for i in agent.inventory:\n",
    "                    temp = data[t+window_size-1] - i\n",
    "                    if temp > 0 and temp > m:\n",
    "                        rem = i\n",
    "                        m = temp\n",
    "                if m > 0:\n",
    "                    pft = m\n",
    "                    agent.inventory.remove(rem)\n",
    "                    delta = pft\n",
    "                    reward = delta #max(delta, 0)\n",
    "                    total_profit += delta\n",
    "\n",
    "                    history.append((data[t+window_size-1], \"SELL\"))\n",
    "                    if debug:\n",
    "                        logging.debug(\"Sell at: {} | Position: {}\".format(\n",
    "                            format_currency(data[t+window_size-1]), format_position(delta)))\n",
    "        \n",
    "        else:\n",
    "            history.append((data[t], \"HOLD\"))\n",
    "            if False:\n",
    "                logging.debug(\"Hold at: {}\".format(format_currency(data[t+window_size-1])))\n",
    "        \n",
    "        done = (t == (100 - 1))\n",
    "        agent.memory.append((state, action, reward, next_state, done))\n",
    "\n",
    "        state = next_state\n",
    "        t += 1\n",
    "        print(agent.inventory)\n",
    "        if agent.inventory == [] and number_of_buys >= 10:\n",
    "            return total_profit, history"
   ]
  },
  {
   "cell_type": "code",
   "execution_count": 118,
   "metadata": {},
   "outputs": [],
   "source": [
    "def main(args):\n",
    "    price = []\n",
    "    window_size = 10\n",
    "    time_now = datetime.now(tz).time()\n",
    "    model_name='model_double-dqn_GOOG_50_10'\n",
    "\n",
    "    agent = Agent(window_size, pretrained=True, model_name=model_name)\n",
    "    profit, history = evaluate_model1(agent, price, window_size, debug=True)\n",
    "    print(\"Profit:\", profit)\n",
    "    buys = sells = holds = 0\n",
    "    for i in history:\n",
    "        if i[1] == \"BUY\":\n",
    "            buys += 1\n",
    "        elif i[1] == \"SELL\":\n",
    "            sells += 1\n",
    "        elif i[1] == \"HOLD\":\n",
    "            holds += 1\n",
    "    print(\"BUYS Percentage:\", (buys/len(history)) * 100)\n",
    "    print(\"SELLS Percentage:\", (sells/len(history)) * 100)\n",
    "    print(\"HOLDS Percentage:\", (holds/len(history)) * 100)"
   ]
  },
  {
   "cell_type": "code",
   "execution_count": 119,
   "metadata": {
    "scrolled": true
   },
   "outputs": [
    {
     "name": "stderr",
     "output_type": "stream",
     "text": [
      "2020-05-28 15:14:40 darkdevil root[11651] DEBUG switching to TensorFlow for CPU\n",
      "2020-05-28 15:14:40 darkdevil urllib3.connectionpool[11651] DEBUG Resetting dropped connection: api.binance.com\n",
      "2020-05-28 15:14:41 darkdevil urllib3.connectionpool[11651] DEBUG https://api.binance.com:443 \"GET /api/v3/ticker/price?symbol=BTCUSDT HTTP/1.1\" 200 None\n",
      "2020-05-28 15:14:42 darkdevil urllib3.connectionpool[11651] DEBUG https://api.binance.com:443 \"GET /api/v3/ticker/price?symbol=BTCUSDT HTTP/1.1\" 200 None\n",
      "2020-05-28 15:14:44 darkdevil urllib3.connectionpool[11651] DEBUG https://api.binance.com:443 \"GET /api/v3/ticker/price?symbol=BTCUSDT HTTP/1.1\" 200 None\n",
      "2020-05-28 15:14:45 darkdevil urllib3.connectionpool[11651] DEBUG https://api.binance.com:443 \"GET /api/v3/ticker/price?symbol=BTCUSDT HTTP/1.1\" 200 None\n",
      "2020-05-28 15:14:47 darkdevil urllib3.connectionpool[11651] DEBUG https://api.binance.com:443 \"GET /api/v3/ticker/price?symbol=BTCUSDT HTTP/1.1\" 200 None\n",
      "2020-05-28 15:14:48 darkdevil urllib3.connectionpool[11651] DEBUG https://api.binance.com:443 \"GET /api/v3/ticker/price?symbol=BTCUSDT HTTP/1.1\" 200 None\n",
      "2020-05-28 15:14:49 darkdevil urllib3.connectionpool[11651] DEBUG https://api.binance.com:443 \"GET /api/v3/ticker/price?symbol=BTCUSDT HTTP/1.1\" 200 None\n",
      "2020-05-28 15:14:51 darkdevil urllib3.connectionpool[11651] DEBUG https://api.binance.com:443 \"GET /api/v3/ticker/price?symbol=BTCUSDT HTTP/1.1\" 200 None\n",
      "2020-05-28 15:14:52 darkdevil urllib3.connectionpool[11651] DEBUG https://api.binance.com:443 \"GET /api/v3/ticker/price?symbol=BTCUSDT HTTP/1.1\" 200 None\n",
      "2020-05-28 15:14:54 darkdevil urllib3.connectionpool[11651] DEBUG https://api.binance.com:443 \"GET /api/v3/ticker/price?symbol=BTCUSDT HTTP/1.1\" 200 None\n",
      "2020-05-28 15:14:55 darkdevil urllib3.connectionpool[11651] DEBUG https://api.binance.com:443 \"GET /api/v3/ticker/price?symbol=BTCUSDT HTTP/1.1\" 200 None\n",
      "2020-05-28 15:14:56 darkdevil root[11651] DEBUG Buy at: $9192.43\n"
     ]
    },
    {
     "name": "stdout",
     "output_type": "stream",
     "text": [
      "Live Price:  9192.68\n",
      "[9192.43]\n"
     ]
    },
    {
     "name": "stderr",
     "output_type": "stream",
     "text": [
      "2020-05-28 15:14:57 darkdevil urllib3.connectionpool[11651] DEBUG https://api.binance.com:443 \"GET /api/v3/ticker/price?symbol=BTCUSDT HTTP/1.1\" 200 None\n"
     ]
    },
    {
     "name": "stdout",
     "output_type": "stream",
     "text": [
      "Live Price:  9192.68\n",
      "[9192.43]\n"
     ]
    },
    {
     "name": "stderr",
     "output_type": "stream",
     "text": [
      "2020-05-28 15:14:58 darkdevil urllib3.connectionpool[11651] DEBUG https://api.binance.com:443 \"GET /api/v3/ticker/price?symbol=BTCUSDT HTTP/1.1\" 200 None\n"
     ]
    },
    {
     "name": "stdout",
     "output_type": "stream",
     "text": [
      "Live Price:  9193.32\n",
      "[9192.43]\n"
     ]
    },
    {
     "name": "stderr",
     "output_type": "stream",
     "text": [
      "2020-05-28 15:15:00 darkdevil urllib3.connectionpool[11651] DEBUG https://api.binance.com:443 \"GET /api/v3/ticker/price?symbol=BTCUSDT HTTP/1.1\" 200 None\n",
      "2020-05-28 15:15:01 darkdevil root[11651] DEBUG Sell at: $9193.32 | Position: +$0.89\n"
     ]
    },
    {
     "name": "stdout",
     "output_type": "stream",
     "text": [
      "Live Price:  9193.32\n",
      "[]\n"
     ]
    },
    {
     "name": "stderr",
     "output_type": "stream",
     "text": [
      "2020-05-28 15:15:01 darkdevil urllib3.connectionpool[11651] DEBUG https://api.binance.com:443 \"GET /api/v3/ticker/price?symbol=BTCUSDT HTTP/1.1\" 200 None\n"
     ]
    },
    {
     "name": "stdout",
     "output_type": "stream",
     "text": [
      "Live Price:  9193.14\n",
      "[]\n"
     ]
    },
    {
     "name": "stderr",
     "output_type": "stream",
     "text": [
      "2020-05-28 15:15:02 darkdevil urllib3.connectionpool[11651] DEBUG https://api.binance.com:443 \"GET /api/v3/ticker/price?symbol=BTCUSDT HTTP/1.1\" 200 None\n"
     ]
    },
    {
     "name": "stdout",
     "output_type": "stream",
     "text": [
      "Live Price:  9193.34\n",
      "[]\n"
     ]
    },
    {
     "name": "stderr",
     "output_type": "stream",
     "text": [
      "2020-05-28 15:15:03 darkdevil urllib3.connectionpool[11651] DEBUG https://api.binance.com:443 \"GET /api/v3/ticker/price?symbol=BTCUSDT HTTP/1.1\" 200 None\n"
     ]
    },
    {
     "name": "stdout",
     "output_type": "stream",
     "text": [
      "Live Price:  9193.28\n",
      "[]\n"
     ]
    },
    {
     "name": "stderr",
     "output_type": "stream",
     "text": [
      "2020-05-28 15:15:05 darkdevil urllib3.connectionpool[11651] DEBUG https://api.binance.com:443 \"GET /api/v3/ticker/price?symbol=BTCUSDT HTTP/1.1\" 200 None\n"
     ]
    },
    {
     "name": "stdout",
     "output_type": "stream",
     "text": [
      "Live Price:  9193.27\n",
      "[]\n"
     ]
    },
    {
     "name": "stderr",
     "output_type": "stream",
     "text": [
      "2020-05-28 15:15:06 darkdevil urllib3.connectionpool[11651] DEBUG https://api.binance.com:443 \"GET /api/v3/ticker/price?symbol=BTCUSDT HTTP/1.1\" 200 None\n"
     ]
    },
    {
     "name": "stdout",
     "output_type": "stream",
     "text": [
      "Live Price:  9192.28\n",
      "[]\n"
     ]
    },
    {
     "name": "stderr",
     "output_type": "stream",
     "text": [
      "2020-05-28 15:15:08 darkdevil urllib3.connectionpool[11651] DEBUG https://api.binance.com:443 \"GET /api/v3/ticker/price?symbol=BTCUSDT HTTP/1.1\" 200 None\n"
     ]
    },
    {
     "name": "stdout",
     "output_type": "stream",
     "text": [
      "Live Price:  9192.28\n",
      "[]\n"
     ]
    },
    {
     "name": "stderr",
     "output_type": "stream",
     "text": [
      "2020-05-28 15:15:09 darkdevil urllib3.connectionpool[11651] DEBUG https://api.binance.com:443 \"GET /api/v3/ticker/price?symbol=BTCUSDT HTTP/1.1\" 200 None\n",
      "2020-05-28 15:15:10 darkdevil root[11651] DEBUG Buy at: $9192.28\n"
     ]
    },
    {
     "name": "stdout",
     "output_type": "stream",
     "text": [
      "Live Price:  9193.06\n",
      "[9192.28]\n"
     ]
    },
    {
     "name": "stderr",
     "output_type": "stream",
     "text": [
      "2020-05-28 15:15:11 darkdevil urllib3.connectionpool[11651] DEBUG https://api.binance.com:443 \"GET /api/v3/ticker/price?symbol=BTCUSDT HTTP/1.1\" 200 None\n",
      "2020-05-28 15:15:12 darkdevil root[11651] DEBUG Sell at: $9193.06 | Position: +$0.78\n"
     ]
    },
    {
     "name": "stdout",
     "output_type": "stream",
     "text": [
      "Live Price:  9192.92\n",
      "[]\n"
     ]
    },
    {
     "name": "stderr",
     "output_type": "stream",
     "text": [
      "2020-05-28 15:15:12 darkdevil urllib3.connectionpool[11651] DEBUG https://api.binance.com:443 \"GET /api/v3/ticker/price?symbol=BTCUSDT HTTP/1.1\" 200 None\n"
     ]
    },
    {
     "name": "stdout",
     "output_type": "stream",
     "text": [
      "Live Price:  9193.36\n",
      "[]\n"
     ]
    },
    {
     "name": "stderr",
     "output_type": "stream",
     "text": [
      "2020-05-28 15:15:14 darkdevil urllib3.connectionpool[11651] DEBUG https://api.binance.com:443 \"GET /api/v3/ticker/price?symbol=BTCUSDT HTTP/1.1\" 200 None\n"
     ]
    },
    {
     "name": "stdout",
     "output_type": "stream",
     "text": [
      "Live Price:  9193.41\n",
      "[]\n"
     ]
    },
    {
     "name": "stderr",
     "output_type": "stream",
     "text": [
      "2020-05-28 15:15:15 darkdevil urllib3.connectionpool[11651] DEBUG https://api.binance.com:443 \"GET /api/v3/ticker/price?symbol=BTCUSDT HTTP/1.1\" 200 None\n",
      "2020-05-28 15:15:16 darkdevil root[11651] DEBUG Buy at: $9193.41\n"
     ]
    },
    {
     "name": "stdout",
     "output_type": "stream",
     "text": [
      "Live Price:  9192.37\n",
      "[9193.41]\n"
     ]
    },
    {
     "name": "stderr",
     "output_type": "stream",
     "text": [
      "2020-05-28 15:15:17 darkdevil urllib3.connectionpool[11651] DEBUG https://api.binance.com:443 \"GET /api/v3/ticker/price?symbol=BTCUSDT HTTP/1.1\" 200 None\n"
     ]
    },
    {
     "name": "stdout",
     "output_type": "stream",
     "text": [
      "Live Price:  9192.01\n",
      "[9193.41]\n"
     ]
    },
    {
     "name": "stderr",
     "output_type": "stream",
     "text": [
      "2020-05-28 15:15:18 darkdevil urllib3.connectionpool[11651] DEBUG https://api.binance.com:443 \"GET /api/v3/ticker/price?symbol=BTCUSDT HTTP/1.1\" 200 None\n",
      "2020-05-28 15:15:19 darkdevil root[11651] DEBUG Buy at: $9192.01\n"
     ]
    },
    {
     "name": "stdout",
     "output_type": "stream",
     "text": [
      "Live Price:  9192.0\n",
      "[9193.41, 9192.01]\n"
     ]
    },
    {
     "name": "stderr",
     "output_type": "stream",
     "text": [
      "2020-05-28 15:15:20 darkdevil urllib3.connectionpool[11651] DEBUG https://api.binance.com:443 \"GET /api/v3/ticker/price?symbol=BTCUSDT HTTP/1.1\" 200 None\n"
     ]
    },
    {
     "name": "stdout",
     "output_type": "stream",
     "text": [
      "Live Price:  9192.0\n",
      "[9193.41, 9192.01]\n"
     ]
    },
    {
     "name": "stderr",
     "output_type": "stream",
     "text": [
      "2020-05-28 15:15:21 darkdevil urllib3.connectionpool[11651] DEBUG https://api.binance.com:443 \"GET /api/v3/ticker/price?symbol=BTCUSDT HTTP/1.1\" 200 None\n"
     ]
    },
    {
     "name": "stdout",
     "output_type": "stream",
     "text": [
      "Live Price:  9192.01\n",
      "[9193.41, 9192.01]\n"
     ]
    },
    {
     "name": "stderr",
     "output_type": "stream",
     "text": [
      "2020-05-28 15:15:23 darkdevil urllib3.connectionpool[11651] DEBUG https://api.binance.com:443 \"GET /api/v3/ticker/price?symbol=BTCUSDT HTTP/1.1\" 200 None\n"
     ]
    },
    {
     "name": "stdout",
     "output_type": "stream",
     "text": [
      "Live Price:  9192.0\n",
      "[9193.41, 9192.01]\n"
     ]
    },
    {
     "name": "stderr",
     "output_type": "stream",
     "text": [
      "2020-05-28 15:15:24 darkdevil urllib3.connectionpool[11651] DEBUG https://api.binance.com:443 \"GET /api/v3/ticker/price?symbol=BTCUSDT HTTP/1.1\" 200 None\n",
      "2020-05-28 15:15:25 darkdevil urllib3.connectionpool[11651] DEBUG https://api.binance.com:443 \"GET /api/v3/ticker/price?symbol=BTCUSDT HTTP/1.1\" 200 None\n"
     ]
    },
    {
     "name": "stdout",
     "output_type": "stream",
     "text": [
      "Live Price:  9191.44\n",
      "[9193.41, 9192.01]\n",
      "Live Price:  9191.46\n",
      "[9193.41, 9192.01]\n"
     ]
    },
    {
     "name": "stderr",
     "output_type": "stream",
     "text": [
      "2020-05-28 15:15:27 darkdevil urllib3.connectionpool[11651] DEBUG https://api.binance.com:443 \"GET /api/v3/ticker/price?symbol=BTCUSDT HTTP/1.1\" 200 None\n"
     ]
    },
    {
     "name": "stdout",
     "output_type": "stream",
     "text": [
      "Live Price:  9191.46\n",
      "[9193.41, 9192.01]\n"
     ]
    },
    {
     "name": "stderr",
     "output_type": "stream",
     "text": [
      "2020-05-28 15:15:28 darkdevil urllib3.connectionpool[11651] DEBUG https://api.binance.com:443 \"GET /api/v3/ticker/price?symbol=BTCUSDT HTTP/1.1\" 200 None\n",
      "2020-05-28 15:15:29 darkdevil urllib3.connectionpool[11651] DEBUG https://api.binance.com:443 \"GET /api/v3/ticker/price?symbol=BTCUSDT HTTP/1.1\" 200 None\n"
     ]
    },
    {
     "name": "stdout",
     "output_type": "stream",
     "text": [
      "Live Price:  9191.3\n",
      "[9193.41, 9192.01]\n",
      "Live Price:  9191.3\n",
      "[9193.41, 9192.01]\n"
     ]
    },
    {
     "name": "stderr",
     "output_type": "stream",
     "text": [
      "2020-05-28 15:15:31 darkdevil urllib3.connectionpool[11651] DEBUG https://api.binance.com:443 \"GET /api/v3/ticker/price?symbol=BTCUSDT HTTP/1.1\" 200 None\n"
     ]
    },
    {
     "name": "stdout",
     "output_type": "stream",
     "text": [
      "Live Price:  9193.1\n",
      "[9193.41, 9192.01]\n"
     ]
    },
    {
     "name": "stderr",
     "output_type": "stream",
     "text": [
      "2020-05-28 15:15:32 darkdevil urllib3.connectionpool[11651] DEBUG https://api.binance.com:443 \"GET /api/v3/ticker/price?symbol=BTCUSDT HTTP/1.1\" 200 None\n",
      "2020-05-28 15:15:33 darkdevil root[11651] DEBUG Sell at: $9193.10 | Position: +$1.09\n"
     ]
    },
    {
     "name": "stdout",
     "output_type": "stream",
     "text": [
      "Live Price:  9192.27\n",
      "[9193.41]\n"
     ]
    },
    {
     "name": "stderr",
     "output_type": "stream",
     "text": [
      "2020-05-28 15:15:34 darkdevil urllib3.connectionpool[11651] DEBUG https://api.binance.com:443 \"GET /api/v3/ticker/price?symbol=BTCUSDT HTTP/1.1\" 200 None\n"
     ]
    },
    {
     "name": "stdout",
     "output_type": "stream",
     "text": [
      "Live Price:  9191.0\n",
      "[9193.41]\n"
     ]
    },
    {
     "name": "stderr",
     "output_type": "stream",
     "text": [
      "2020-05-28 15:15:35 darkdevil urllib3.connectionpool[11651] DEBUG https://api.binance.com:443 \"GET /api/v3/ticker/price?symbol=BTCUSDT HTTP/1.1\" 200 None\n",
      "2020-05-28 15:15:36 darkdevil root[11651] DEBUG Buy at: $9191.00\n"
     ]
    },
    {
     "name": "stdout",
     "output_type": "stream",
     "text": [
      "Live Price:  9192.39\n",
      "[9193.41, 9191.0]\n"
     ]
    },
    {
     "name": "stderr",
     "output_type": "stream",
     "text": [
      "2020-05-28 15:15:37 darkdevil urllib3.connectionpool[11651] DEBUG https://api.binance.com:443 \"GET /api/v3/ticker/price?symbol=BTCUSDT HTTP/1.1\" 200 None\n",
      "2020-05-28 15:15:38 darkdevil root[11651] DEBUG Sell at: $9192.39 | Position: +$1.39\n"
     ]
    },
    {
     "name": "stdout",
     "output_type": "stream",
     "text": [
      "Live Price:  9191.85\n",
      "[9193.41]\n"
     ]
    },
    {
     "name": "stderr",
     "output_type": "stream",
     "text": [
      "2020-05-28 15:15:38 darkdevil urllib3.connectionpool[11651] DEBUG https://api.binance.com:443 \"GET /api/v3/ticker/price?symbol=BTCUSDT HTTP/1.1\" 200 None\n",
      "2020-05-28 15:15:39 darkdevil urllib3.connectionpool[11651] DEBUG https://api.binance.com:443 \"GET /api/v3/ticker/price?symbol=BTCUSDT HTTP/1.1\" 200 None\n"
     ]
    },
    {
     "name": "stdout",
     "output_type": "stream",
     "text": [
      "Live Price:  9192.19\n",
      "[9193.41]\n"
     ]
    },
    {
     "name": "stderr",
     "output_type": "stream",
     "text": [
      "2020-05-28 15:15:40 darkdevil root[11651] DEBUG Buy at: $9192.19\n"
     ]
    },
    {
     "name": "stdout",
     "output_type": "stream",
     "text": [
      "Live Price:  9192.02\n",
      "[9193.41, 9192.19]\n"
     ]
    },
    {
     "name": "stderr",
     "output_type": "stream",
     "text": [
      "2020-05-28 15:15:40 darkdevil urllib3.connectionpool[11651] DEBUG https://api.binance.com:443 \"GET /api/v3/ticker/price?symbol=BTCUSDT HTTP/1.1\" 200 None\n"
     ]
    },
    {
     "name": "stdout",
     "output_type": "stream",
     "text": [
      "Live Price:  9192.05\n",
      "[9193.41, 9192.19]\n"
     ]
    },
    {
     "name": "stderr",
     "output_type": "stream",
     "text": [
      "2020-05-28 15:15:42 darkdevil urllib3.connectionpool[11651] DEBUG https://api.binance.com:443 \"GET /api/v3/ticker/price?symbol=BTCUSDT HTTP/1.1\" 200 None\n"
     ]
    },
    {
     "name": "stdout",
     "output_type": "stream",
     "text": [
      "Aborted\n"
     ]
    }
   ],
   "source": [
    "coloredlogs.install(level=\"DEBUG\")\n",
    "switch_k_backend_device()\n",
    "args = argparse.Namespace(ticker='BTCUSDT')\n",
    "symbol = \"BTCUSDT\"\n",
    "train_stock = symbol+\"_TRAINING.csv\"\n",
    "val_stock = symbol+\"_TESTING.csv\"\n",
    "window_size = 10\n",
    "batch_size = 32\n",
    "ep_count = 10\n",
    "model_name = \"model_double-dqn_GOOG_50\"\n",
    "pretrained = False\n",
    "debug = False\n",
    "try:\n",
    "    #make_csv_file(symbol)\n",
    "    #train(train_stock, val_stock, window_size, batch_size, ep_count, strategy, model_name, pretrained, debug)\n",
    "    main(args)\n",
    "except KeyboardInterrupt:\n",
    "    print(\"Aborted\")  "
   ]
  },
  {
   "cell_type": "code",
   "execution_count": null,
   "metadata": {},
   "outputs": [],
   "source": [
    "\n",
    "\n",
    "\n",
    "\n",
    "\n",
    "\n",
    "\n",
    "\n",
    "\n",
    "\n",
    "\n",
    "\n",
    "\n",
    "\n",
    "\n",
    "\n",
    "\n",
    "\n",
    "\n",
    "\n",
    "\n",
    "\n",
    "\n",
    "\n",
    "\n",
    "\n",
    "\n"
   ]
  }
 ],
 "metadata": {
  "kernelspec": {
   "display_name": "Python 3",
   "language": "python",
   "name": "python3"
  },
  "language_info": {
   "codemirror_mode": {
    "name": "ipython",
    "version": 3
   },
   "file_extension": ".py",
   "mimetype": "text/x-python",
   "name": "python",
   "nbconvert_exporter": "python",
   "pygments_lexer": "ipython3",
   "version": "3.7.6"
  }
 },
 "nbformat": 4,
 "nbformat_minor": 4
}

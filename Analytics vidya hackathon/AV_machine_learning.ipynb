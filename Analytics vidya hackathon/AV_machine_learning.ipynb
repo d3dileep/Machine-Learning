{
  "nbformat": 4,
  "nbformat_minor": 0,
  "metadata": {
    "colab": {
      "name": "analytics vidya jobathon",
      "provenance": [],
      "collapsed_sections": []
    },
    "kernelspec": {
      "name": "python3",
      "display_name": "Python 3"
    },
    "language_info": {
      "name": "python"
    }
  },
  "cells": [
    {
      "cell_type": "code",
      "metadata": {
        "id": "dfKaYKwFbef9",
        "colab": {
          "base_uri": "https://localhost:8080/"
        },
        "outputId": "cc9acddf-34a7-492f-c036-0aaa4edce1f4"
      },
      "source": [
        "# import the packages\n",
        "from tensorflow import keras\n",
        "from tensorflow.keras import Sequential\n",
        "from tensorflow.keras.layers import Dense,Dropout\n",
        "import pandas as pd \n",
        "import numpy as np\n",
        "import seaborn as sns\n",
        "from matplotlib import pyplot\n",
        "\n",
        "import lightgbm as lgb\n",
        "from sklearn.model_selection import train_test_split, GridSearchCV\n",
        "from sklearn.metrics import confusion_matrix,accuracy_score, roc_curve, auc\n",
        "from sklearn.experimental import enable_iterative_imputer\n",
        "from sklearn.impute import KNNImputer, IterativeImputer\n",
        "from sklearn.preprocessing import OneHotEncoder, OrdinalEncoder\n",
        "from sklearn.compose import ColumnTransformer\n",
        "from sklearn.preprocessing import StandardScaler\n",
        "from sklearn.model_selection import train_test_split\n",
        "from sklearn.model_selection import KFold, RepeatedStratifiedKFold\n",
        "from sklearn.model_selection import cross_val_score\n",
        "from sklearn.model_selection import GridSearchCV\n",
        "from sklearn.inspection import permutation_importance\n",
        "from sklearn.metrics import accuracy_score\n",
        "from sklearn.pipeline import Pipeline\n",
        "from sklearn.linear_model import LogisticRegression\n",
        "from sklearn.tree import DecisionTreeClassifier\n",
        "from sklearn.neighbors import KNeighborsClassifier\n",
        "\n",
        "from sklearn.ensemble import GradientBoostingClassifier\n",
        "from sklearn.ensemble import RandomForestClassifier\n",
        "\n",
        "from xgboost import XGBClassifier\n",
        "from imblearn.combine import SMOTEENN\n",
        "sns.set_style(\"whitegrid\")\n",
        "pd.set_option('display.max_columns', None)"
      ],
      "execution_count": 1,
      "outputs": [
        {
          "output_type": "stream",
          "text": [
            "/usr/local/lib/python3.7/dist-packages/sklearn/externals/six.py:31: FutureWarning: The module is deprecated in version 0.21 and will be removed in version 0.23 since we've dropped support for Python 2.7. Please rely on the official version of six (https://pypi.org/project/six/).\n",
            "  \"(https://pypi.org/project/six/).\", FutureWarning)\n",
            "/usr/local/lib/python3.7/dist-packages/sklearn/utils/deprecation.py:144: FutureWarning: The sklearn.neighbors.base module is  deprecated in version 0.22 and will be removed in version 0.24. The corresponding classes / functions should instead be imported from sklearn.neighbors. Anything that cannot be imported from sklearn.neighbors is now part of the private API.\n",
            "  warnings.warn(message, FutureWarning)\n"
          ],
          "name": "stderr"
        }
      ]
    },
    {
      "cell_type": "code",
      "metadata": {
        "id": "NMixEIF9es0m",
        "colab": {
          "base_uri": "https://localhost:8080/"
        },
        "outputId": "3ce47c62-acd1-401a-e922-563860610ca2"
      },
      "source": [
        "#download training and test data\n",
        "!wget -cO - https://datahack-prod.s3.amazonaws.com/train_file/train_s3TEQDk.csv > train_data.csv\n",
        "!wget -cO - https://datahack-prod.s3.amazonaws.com/test_file/test_mSzZ8RL.csv > test_data.csv"
      ],
      "execution_count": 2,
      "outputs": [
        {
          "output_type": "stream",
          "text": [
            "--2021-05-30 13:52:17--  https://datahack-prod.s3.amazonaws.com/train_file/train_s3TEQDk.csv\n",
            "Resolving datahack-prod.s3.amazonaws.com (datahack-prod.s3.amazonaws.com)... 52.219.156.47\n",
            "Connecting to datahack-prod.s3.amazonaws.com (datahack-prod.s3.amazonaws.com)|52.219.156.47|:443... connected.\n",
            "HTTP request sent, awaiting response... 200 OK\n",
            "Length: 13782835 (13M) [text/csv]\n",
            "Saving to: ‘STDOUT’\n",
            "\n",
            "-                   100%[===================>]  13.14M  10.1MB/s    in 1.3s    \n",
            "\n",
            "2021-05-30 13:52:19 (10.1 MB/s) - written to stdout [13782835/13782835]\n",
            "\n",
            "--2021-05-30 13:52:19--  https://datahack-prod.s3.amazonaws.com/test_file/test_mSzZ8RL.csv\n",
            "Resolving datahack-prod.s3.amazonaws.com (datahack-prod.s3.amazonaws.com)... 52.219.156.47\n",
            "Connecting to datahack-prod.s3.amazonaws.com (datahack-prod.s3.amazonaws.com)|52.219.156.47|:443... connected.\n",
            "HTTP request sent, awaiting response... 200 OK\n",
            "Length: 5696419 (5.4M) [text/csv]\n",
            "Saving to: ‘STDOUT’\n",
            "\n",
            "-                   100%[===================>]   5.43M  5.52MB/s    in 1.0s    \n",
            "\n",
            "2021-05-30 13:52:21 (5.52 MB/s) - written to stdout [5696419/5696419]\n",
            "\n"
          ],
          "name": "stdout"
        }
      ]
    },
    {
      "cell_type": "code",
      "metadata": {
        "colab": {
          "base_uri": "https://localhost:8080/"
        },
        "id": "w71tcJc2ZrUg",
        "outputId": "0b7cf2ee-7b10-42ab-83e1-c3e3949747c3"
      },
      "source": [
        "# remove ID and Is_Lead column from train data and separate out y_train\n",
        "train_data = pd.read_csv('train_data.csv')\n",
        "train_data.drop(['ID'],axis=1,inplace=True)\n",
        "Y_train = train_data['Is_Lead']\n",
        "train_data.drop(['Is_Lead'], axis=1, inplace=True)\n",
        "\n",
        "# remove ID column from test data\n",
        "test_data= pd.read_csv('test_data.csv')\n",
        "z1 = test_data.drop(['ID'], axis=1)\n",
        "dataframe = pd.concat([train_data, z1], axis=0)\n",
        "print(train_data.shape, train_data.columns)\n"
      ],
      "execution_count": 3,
      "outputs": [
        {
          "output_type": "stream",
          "text": [
            "(245725, 9) Index(['Gender', 'Age', 'Region_Code', 'Occupation', 'Channel_Code', 'Vintage',\n",
            "       'Credit_Product', 'Avg_Account_Balance', 'Is_Active'],\n",
            "      dtype='object')\n"
          ],
          "name": "stdout"
        }
      ]
    },
    {
      "cell_type": "code",
      "metadata": {
        "colab": {
          "base_uri": "https://localhost:8080/"
        },
        "id": "1fYte24nZzY_",
        "outputId": "539c3fe6-453a-4d81-c1b3-5bc834b125bc"
      },
      "source": [
        "# checking out for imbalance dataset\n",
        "dataframe['Credit_Product'] = dataframe['Credit_Product'].map({'Yes':1 ,'No':0})\n",
        "train_data = dataframe.iloc[:train_data.shape[0],:]\n",
        "print(\"percentage of imbalance data\", Y_train.astype(bool).sum(axis=0)/Y_train.shape[0], Y_train[Y_train == 1].shape)\n",
        "z1 = dataframe.iloc[train_data.shape[0]:,:]\n",
        "print(train_data.shape, z1.shape)"
      ],
      "execution_count": 4,
      "outputs": [
        {
          "output_type": "stream",
          "text": [
            "percentage of imbalance data 0.23720826126767727 (58288,)\n",
            "(245725, 9) (105312, 9)\n"
          ],
          "name": "stdout"
        }
      ]
    },
    {
      "cell_type": "code",
      "metadata": {
        "colab": {
          "base_uri": "https://localhost:8080/",
          "height": 622
        },
        "id": "Dp8ybWhDB4Tk",
        "outputId": "1728da9d-7d30-47d2-ab10-f4a0e0772793"
      },
      "source": [
        "import matplotlib.pyplot as plt\n",
        "# correlation and heatmap\n",
        "columnTransformer = ColumnTransformer([('encoder', OrdinalEncoder(), ['Region_Code','Occupation','Channel_Code','Is_Active','Gender'])])\n",
        "X = pd.concat([pd.DataFrame(columnTransformer.fit_transform(train_data)), train_data.drop(['Region_Code','Occupation','Channel_Code','Is_Active','Gender','Credit_Product'],axis=1)], axis=1)\n",
        "y=Y_train\n",
        "\n",
        "data = pd.concat([X,y], axis=1)\n",
        "corr = data.corr()\n",
        "plt.figure(figsize=(10, 10))\n",
        "ax = sns.heatmap(\n",
        "    corr, \n",
        "    vmin=-1, vmax=1, center=0,\n",
        "    cmap=sns.diverging_palette(20, 220, n=200),\n",
        "    square=True\n",
        ")\n",
        "ax.set_xticklabels(\n",
        "    ax.get_xticklabels(),\n",
        "    rotation=45,\n",
        "    horizontalalignment='right'\n",
        ");"
      ],
      "execution_count": 7,
      "outputs": [
        {
          "output_type": "display_data",
          "data": {
            "image/png": "[encoded data removed]",
            "text/plain": [
              "<Figure size 720x720 with 2 Axes>"
            ]
          },
          "metadata": {
            "tags": [],
            "needs_background": "light"
          }
        }
      ]
    },
    {
      "cell_type": "code",
      "metadata": {
        "colab": {
          "base_uri": "https://localhost:8080/"
        },
        "id": "XJgAGiYgTgCI",
        "outputId": "0b4153e1-3a8a-4bbc-c284-66cdae8e0b31"
      },
      "source": [
        "# data fit transformation using onehot encoding and log transformation\n",
        "cols = ['Region_Code','Occupation','Channel_Code','Is_Active','Gender']\n",
        "columnTransformer = ColumnTransformer([('encoder', OneHotEncoder(drop='first', sparse=False), cols)])\n",
        "transformed = pd.concat([pd.DataFrame(columnTransformer.fit_transform(train_data)), train_data.drop(cols,axis=1)], axis=1)\n",
        "transformed['Avg_Account_Balance'] = np.log(transformed['Avg_Account_Balance'])\n",
        "\n",
        "# fit imputer on the dataset\n",
        "imputer = IterativeImputer()\n",
        "imputer.fit(transformed)\n",
        "transformed = imputer.transform(transformed)\n",
        "\n",
        "# Scaling of data\n",
        "scaler = StandardScaler()\n",
        "trans_train = scaler.fit_transform(transformed)\n",
        "\n",
        "# test data transform\n",
        "test_trans = pd.concat([pd.DataFrame(columnTransformer.transform(z1)), z1.drop(cols,axis=1)], axis=1)\n",
        "test_trans['Avg_Account_Balance'] = np.log(test_trans['Avg_Account_Balance'])\n",
        "test_trans = imputer.transform(test_trans)\n",
        "trans_test = scaler.transform(test_trans)\n",
        "\n",
        "# handle imbalance dataset using resampling\n",
        "# sme = SMOTEENN(random_state=42)\n",
        "# trans_train, Y_train = sme.fit_resample(trans_train, Y_train)\n",
        "print(trans_test.shape, trans_train.shape, Y_train.shape)"
      ],
      "execution_count": 8,
      "outputs": [
        {
          "output_type": "stream",
          "text": [
            "(105312, 46) (245725, 46) (245725,)\n"
          ],
          "name": "stdout"
        }
      ]
    },
    {
      "cell_type": "code",
      "metadata": {
        "colab": {
          "base_uri": "https://localhost:8080/"
        },
        "id": "CBCoHmjc4t4B",
        "outputId": "f37024d0-bc4f-42eb-a6f4-3f035e24bac5"
      },
      "source": [
        "\n",
        "# Test options and evaluation metric\n",
        "num_folds = 10\n",
        "seed = 7\n",
        "scoring = 'roc_auc'\n",
        "\n",
        "# Spot-Check Algorithms\n",
        "models = []\n",
        "models.append(('LGBM', lgb.LGBMClassifier()))\n",
        "models.append(('XGB', XGBClassifier()))\n",
        "models.append(('GBM', GradientBoostingClassifier()))\n",
        "models.append(('Rd', RandomForestClassifier()))\n",
        "\n",
        "\n",
        "results = []\n",
        "names = []\n",
        "for name, model in models:\n",
        "    kfold = KFold(n_splits=num_folds, random_state=seed, shuffle=True)\n",
        "    cv_results = cross_val_score(model, trans_train, Y_train, cv=kfold, scoring=scoring)\n",
        "    results.append(cv_results)\n",
        "    names.append(name)\n",
        "    msg = \"%s: %f (%f)\" % (name, cv_results.mean(), cv_results.std())\n",
        "    print(msg)"
      ],
      "execution_count": 9,
      "outputs": [
        {
          "output_type": "stream",
          "text": [
            "LGBM: 0.873795 (0.002537)\n",
            "XGB: 0.872539 (0.002927)\n",
            "GBM: 0.872513 (0.002853)\n",
            "Rd: 0.853365 (0.003292)\n"
          ],
          "name": "stdout"
        }
      ]
    },
    {
      "cell_type": "code",
      "metadata": {
        "colab": {
          "base_uri": "https://localhost:8080/",
          "height": 294
        },
        "id": "vfRX-IH87Ipa",
        "outputId": "8e424a8f-4cc3-49e5-b21f-f87451219d5c"
      },
      "source": [
        "# Compare Algorithms using whisker plot\n",
        "fig = pyplot.figure()\n",
        "fig.suptitle('Algorithm Comparison')\n",
        "ax = fig.add_subplot(111)\n",
        "pyplot.boxplot(results)\n",
        "ax.set_xticklabels(names)\n",
        "pyplot.show()"
      ],
      "execution_count": 10,
      "outputs": [
        {
          "output_type": "display_data",
          "data": {
            "image/png": "[encoded data removed]",
            "text/plain": [
              "<Figure size 432x288 with 1 Axes>"
            ]
          },
          "metadata": {
            "tags": [],
            "needs_background": "light"
          }
        }
      ]
    },
    {
      "cell_type": "code",
      "metadata": {
        "id": "3AaEcZ0eloDl",
        "colab": {
          "base_uri": "https://localhost:8080/",
          "height": 370
        },
        "outputId": "8266ec4d-22fa-4226-f259-c5a4a787a06f"
      },
      "source": [
        "\n",
        "#Split in 75% train and 25% test set\n",
        "train_x,test_x,train_y,test_y = train_test_split(trans_train, Y_train, test_size = 0.25, random_state= 1984)\n",
        "\n",
        "\n",
        "#------------------------Build LightGBM Model-----------------------\n",
        "train_data=lgb.Dataset(train_x, label=train_y)\n",
        "\n",
        "params = {'boosting_type': 'gbdt',\n",
        "          'max_depth' : -1,\n",
        "          'objective': 'binary',\n",
        "          'nthread': 3, # Updated from nthread\n",
        "          'num_leaves': 64,\n",
        "          'learning_rate': 0.05,\n",
        "          'max_bin': 512,\n",
        "          'subsample_for_bin': 200,\n",
        "          'subsample': 1,\n",
        "          'subsample_freq': 1,\n",
        "          'colsample_bytree': 0.8,\n",
        "          'reg_alpha': 5,\n",
        "          'reg_lambda': 10,\n",
        "          'min_split_gain': 0.5,\n",
        "          'min_child_weight': 1,\n",
        "          'min_child_samples': 5,\n",
        "          'scale_pos_weight': 1,\n",
        "          'num_class' : 1,\n",
        "          'random_state' : 501, # Updated from 'seed'\n",
        "          'metric' : 'binary_error'}\n",
        "\n",
        "# Create parameters to search\n",
        "gridParams = {\n",
        "    'learning_rate': [0.05,0.1],\n",
        "    'n_estimators': [200, 500],\n",
        "    'num_leaves': [6,16],\n",
        "    'colsample_bytree' : [0.6, 0.9],\n",
        "    'subsample' : [0.6,0.75],\n",
        "    # 'reg_alpha' : [1,1.4],\n",
        "    # 'reg_lambda' : [1,1.4],\n",
        "    }\n",
        "\n",
        "# Create classifier to use. Note that parameters have to be input manually\n",
        "# not as a dict!\n",
        "mdl = lgb.LGBMClassifier(boosting_type= 'gbdt',\n",
        "          objective = 'binary',\n",
        "          n_jobs = 3, # Updated from 'nthread'\n",
        "          silent = True,\n",
        "          max_depth = params['max_depth'],\n",
        "          max_bin = params['max_bin'],\n",
        "          subsample_for_bin = params['subsample_for_bin'],\n",
        "          subsample = params['subsample'],\n",
        "          subsample_freq = params['subsample_freq'],\n",
        "          min_split_gain = params['min_split_gain'],\n",
        "          min_child_weight = params['min_child_weight'],\n",
        "          min_child_samples = params['min_child_samples'],\n",
        "          scale_pos_weight = params['scale_pos_weight'])\n",
        "\n",
        "# To view the default model params:\n",
        "mdl.get_params().keys()\n",
        "\n",
        "# Create the grid\n",
        "grid = GridSearchCV(mdl, gridParams,\n",
        "                    verbose=4,\n",
        "                    cv=4,\n",
        "                    n_jobs=2)\n",
        "# Run the grid\n",
        "grid.fit(train_x, train_y)\n",
        "\n",
        "# Print the best parameters found\n",
        "print(grid.best_params_)\n",
        "print(grid.best_score_)\n",
        "\n",
        "# Using parameters already set above, replace in the best from the grid search\n",
        "params['colsample_bytree'] = grid.best_params_['colsample_bytree']\n",
        "params['learning_rate'] = grid.best_params_['learning_rate']\n",
        "# params['max_bin'] = grid.best_params_['max_bin']\n",
        "params['num_leaves'] = grid.best_params_['num_leaves']\n",
        "params['reg_alpha'] = grid.best_params_['reg_alpha']\n",
        "params['reg_lambda'] = grid.best_params_['reg_lambda']\n",
        "params['subsample'] = grid.best_params_['subsample']\n",
        "# params['subsample_for_bin'] = grid.best_params_['subsample_for_bin']\n",
        "\n",
        "print('Fitting with params: ')\n",
        "print(params)\n",
        "\n",
        "#Train model on selected parameters and number of iterations\n",
        "lgbm = lgb.train(params,\n",
        "                 train_data,\n",
        "                 280,\n",
        "                 verbose_eval= 4\n",
        "                 )\n",
        "\n",
        "#Predict on test set\n",
        "predictions_lgbm_prob = lgbm.predict(test_x)\n",
        "predictions_lgbm_01 = np.where(predictions_lgbm_prob > 0.5, 1, 0) #Turn probability to 0-1 binary output\n",
        "\n",
        "#--------------------------Print accuracy measures and variable importances----------------------\n",
        "#Plot Variable Importances\n",
        "lgb.plot_importance(lgbm, max_num_features=21, importance_type='split')\n",
        "\n",
        "#Print accuracy\n",
        "acc_lgbm = accuracy_score(test_y,predictions_lgbm_01)\n",
        "print('Overall accuracy of Light GBM model:', acc_lgbm)\n",
        "\n",
        "#Print Area Under Curve\n",
        "plt.figure()\n",
        "false_positive_rate, recall, thresholds = roc_curve(test_y, predictions_lgbm_prob)\n",
        "roc_auc = auc(false_positive_rate, recall)\n",
        "plt.title('Receiver Operating Characteristic (ROC)')\n",
        "plt.plot(false_positive_rate, recall, 'b', label = 'AUC = %0.3f' %roc_auc)\n",
        "plt.legend(loc='lower right')\n",
        "plt.plot([0,1], [0,1], 'r--')\n",
        "plt.xlim([0.0,1.0])\n",
        "plt.ylim([0.0,1.0])\n",
        "plt.ylabel('Recall')\n",
        "plt.xlabel('Fall-out (1-Specificity)')\n",
        "plt.show()\n",
        "\n",
        "print('AUC score:', roc_auc)\n",
        "\n",
        "#Print Confusion Matrix\n",
        "plt.figure()\n",
        "cm = confusion_matrix(test_y, predictions_lgbm_01)\n",
        "labels = ['No Default', 'Default']\n",
        "plt.figure(figsize=(8,6))\n",
        "sns.heatmap(cm, xticklabels = labels, yticklabels = labels, annot = True, fmt='d', cmap=\"Blues\", vmin = 0.2);\n",
        "plt.title('Confusion Matrix')\n",
        "plt.ylabel('True Class')\n",
        "plt.xlabel('Predicted Class')\n",
        "plt.show()"
      ],
      "execution_count": 12,
      "outputs": [
        {
          "output_type": "stream",
          "text": [
            "Fitting 4 folds for each of 32 candidates, totalling 128 fits\n"
          ],
          "name": "stdout"
        },
        {
          "output_type": "stream",
          "text": [
            "[Parallel(n_jobs=2)]: Using backend LokyBackend with 2 concurrent workers.\n",
            "[Parallel(n_jobs=2)]: Done  21 tasks      | elapsed:  1.8min\n",
            "[Parallel(n_jobs=2)]: Done  94 tasks      | elapsed:  9.7min\n",
            "[Parallel(n_jobs=2)]: Done 128 out of 128 | elapsed: 13.8min finished\n"
          ],
          "name": "stderr"
        },
        {
          "output_type": "stream",
          "text": [
            "{'colsample_bytree': 0.6, 'learning_rate': 0.1, 'n_estimators': 200, 'num_leaves': 16, 'subsample': 0.6}\n",
            "0.8559033777267322\n"
          ],
          "name": "stdout"
        },
        {
          "output_type": "error",
          "ename": "KeyError",
          "evalue": "ignored",
          "traceback": [
            "\u001b[0;31m---------------------------------------------------------------------------\u001b[0m",
            "\u001b[0;31mKeyError\u001b[0m                                  Traceback (most recent call last)",
            "\u001b[0;32m<ipython-input-12-81ced27f4c4f>\u001b[0m in \u001b[0;36m<module>\u001b[0;34m()\u001b[0m\n\u001b[1;32m     75\u001b[0m \u001b[0;31m# params['max_bin'] = grid.best_params_['max_bin']\u001b[0m\u001b[0;34m\u001b[0m\u001b[0;34m\u001b[0m\u001b[0;34m\u001b[0m\u001b[0m\n\u001b[1;32m     76\u001b[0m \u001b[0mparams\u001b[0m\u001b[0;34m[\u001b[0m\u001b[0;34m'num_leaves'\u001b[0m\u001b[0;34m]\u001b[0m \u001b[0;34m=\u001b[0m \u001b[0mgrid\u001b[0m\u001b[0;34m.\u001b[0m\u001b[0mbest_params_\u001b[0m\u001b[0;34m[\u001b[0m\u001b[0;34m'num_leaves'\u001b[0m\u001b[0;34m]\u001b[0m\u001b[0;34m\u001b[0m\u001b[0;34m\u001b[0m\u001b[0m\n\u001b[0;32m---> 77\u001b[0;31m \u001b[0mparams\u001b[0m\u001b[0;34m[\u001b[0m\u001b[0;34m'reg_alpha'\u001b[0m\u001b[0;34m]\u001b[0m \u001b[0;34m=\u001b[0m \u001b[0mgrid\u001b[0m\u001b[0;34m.\u001b[0m\u001b[0mbest_params_\u001b[0m\u001b[0;34m[\u001b[0m\u001b[0;34m'reg_alpha'\u001b[0m\u001b[0;34m]\u001b[0m\u001b[0;34m\u001b[0m\u001b[0;34m\u001b[0m\u001b[0m\n\u001b[0m\u001b[1;32m     78\u001b[0m \u001b[0mparams\u001b[0m\u001b[0;34m[\u001b[0m\u001b[0;34m'reg_lambda'\u001b[0m\u001b[0;34m]\u001b[0m \u001b[0;34m=\u001b[0m \u001b[0mgrid\u001b[0m\u001b[0;34m.\u001b[0m\u001b[0mbest_params_\u001b[0m\u001b[0;34m[\u001b[0m\u001b[0;34m'reg_lambda'\u001b[0m\u001b[0;34m]\u001b[0m\u001b[0;34m\u001b[0m\u001b[0;34m\u001b[0m\u001b[0m\n\u001b[1;32m     79\u001b[0m \u001b[0mparams\u001b[0m\u001b[0;34m[\u001b[0m\u001b[0;34m'subsample'\u001b[0m\u001b[0;34m]\u001b[0m \u001b[0;34m=\u001b[0m \u001b[0mgrid\u001b[0m\u001b[0;34m.\u001b[0m\u001b[0mbest_params_\u001b[0m\u001b[0;34m[\u001b[0m\u001b[0;34m'subsample'\u001b[0m\u001b[0;34m]\u001b[0m\u001b[0;34m\u001b[0m\u001b[0;34m\u001b[0m\u001b[0m\n",
            "\u001b[0;31mKeyError\u001b[0m: 'reg_alpha'"
          ]
        }
      ]
    },
    {
      "cell_type": "code",
      "metadata": {
        "id": "DbJzoFKY0lc_",
        "colab": {
          "base_uri": "https://localhost:8080/"
        },
        "outputId": "e8c85d24-d732-4545-e8ca-c33b3cc4aefe"
      },
      "source": [
        "print(params)"
      ],
      "execution_count": 16,
      "outputs": [
        {
          "output_type": "stream",
          "text": [
            "{'boosting_type': 'gbdt', 'max_depth': -1, 'objective': 'binary', 'nthread': 3, 'num_leaves': 6, 'learning_rate': 0.05, 'max_bin': 512, 'subsample_for_bin': 200, 'subsample': 0.75, 'subsample_freq': 1, 'colsample_bytree': 0.6, 'reg_alpha': 1, 'reg_lambda': 1.4, 'min_split_gain': 0.5, 'min_child_weight': 1, 'min_child_samples': 5, 'scale_pos_weight': 1, 'num_class': 1, 'metric': 'binary_error'}\n"
          ],
          "name": "stdout"
        }
      ]
    },
    {
      "cell_type": "code",
      "metadata": {
        "id": "cXaRVvnW4Xib",
        "colab": {
          "base_uri": "https://localhost:8080/"
        },
        "outputId": "beb2789a-45ce-4eb7-8c15-88267666bafa"
      },
      "source": [
        "\n",
        "#------------------------Build LightGBM Model on gridsearch values trained on multiple instances-----------------------\n",
        "train_data=lgb.Dataset(trans_train, label= Y_train)\n",
        "\n",
        "\n",
        "params = {'boosting_type': 'gbdt', 'max_depth': -1, 'objective': 'binary', 'nthread': 3, 'num_leaves': 16, 'learning_rate': 0.1,\n",
        "          'max_bin': 512, 'subsample_for_bin': 200, 'subsample': 0.6, 'subsample_freq': 1, 'colsample_bytree': 0.6, 'reg_alpha': 1,\n",
        "          'reg_lambda': 1.6, 'min_split_gain': 0.5, 'min_child_weight': 1, 'min_child_samples': 5, 'num_class': 1,\n",
        "          'metric': 'binary_error', 'is_unbalance':'true', 'n_estimators': 300}\n",
        "\n",
        "\n",
        "#Train model on selected parameters and number of iterations\n",
        "model1 = lgb.train(params,\n",
        "                 train_data,\n",
        "                 verbose_eval= 4\n",
        "                 )\n",
        "\n"
      ],
      "execution_count": 13,
      "outputs": [
        {
          "output_type": "stream",
          "text": [
            "/usr/local/lib/python3.7/dist-packages/lightgbm/engine.py:118: UserWarning: Found `n_estimators` in params. Will use it instead of argument\n",
            "  warnings.warn(\"Found `{}` in params. Will use it instead of argument\".format(alias))\n"
          ],
          "name": "stderr"
        }
      ]
    },
    {
      "cell_type": "code",
      "metadata": {
        "colab": {
          "base_uri": "https://localhost:8080/"
        },
        "id": "mQRjqTZrZPSp",
        "outputId": "612ec569-67c0-4965-dfe4-a8dd789d842f"
      },
      "source": [
        "pred = model1.predict(trans_test)\n",
        "final1=pd.DataFrame()\n",
        "final1['Is_Lead'] = pred.reshape(-1,)\n",
        "final=pd.DataFrame()\n",
        "final['ID'] = test_data['ID']\n",
        "final=final.join(final1)\n",
        "print(final.info())\n",
        "\n",
        "final.to_csv('prediction.csv',index=False)"
      ],
      "execution_count": 14,
      "outputs": [
        {
          "output_type": "stream",
          "text": [
            "<class 'pandas.core.frame.DataFrame'>\n",
            "RangeIndex: 105312 entries, 0 to 105311\n",
            "Data columns (total 2 columns):\n",
            " #   Column   Non-Null Count   Dtype  \n",
            "---  ------   --------------   -----  \n",
            " 0   ID       105312 non-null  object \n",
            " 1   Is_Lead  105312 non-null  float64\n",
            "dtypes: float64(1), object(1)\n",
            "memory usage: 1.6+ MB\n",
            "None\n"
          ],
          "name": "stdout"
        }
      ]
    },
    {
      "cell_type": "code",
      "metadata": {
        "id": "L-6hdKZtq7Zm"
      },
      "source": [
        ""
      ],
      "execution_count": null,
      "outputs": []
    }
  ]
}
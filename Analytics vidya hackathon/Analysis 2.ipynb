{
 "cells": [
  {
   "cell_type": "code",
   "execution_count": 17,
   "id": "stopped-concert",
   "metadata": {
    "executionInfo": {
     "elapsed": 1673,
     "status": "ok",
     "timestamp": 1622382778712,
     "user": {
      "displayName": "Mohit Ranawat",
      "photoUrl": "",
      "userId": "09553679997904294165"
     },
     "user_tz": -330
    },
    "id": "stopped-concert"
   },
   "outputs": [],
   "source": [
    "import pandas as pd\n",
    "import matplotlib.pyplot as plt\n",
    "import seaborn as sns\n",
    "from sklearn.preprocessing import StandardScaler"
   ]
  },
  {
   "cell_type": "code",
   "execution_count": 18,
   "id": "fitted-table",
   "metadata": {
    "executionInfo": {
     "elapsed": 15,
     "status": "ok",
     "timestamp": 1622382778715,
     "user": {
      "displayName": "Mohit Ranawat",
      "photoUrl": "",
      "userId": "09553679997904294165"
     },
     "user_tz": -330
    },
    "id": "fitted-table"
   },
   "outputs": [],
   "source": [
    "train_data = pd.read_csv('train.csv')\n",
    "test_data = pd.read_csv('test.csv')\n",
    "ss = pd.read_csv('sample_submission.csv')"
   ]
  },
  {
   "cell_type": "code",
   "execution_count": 19,
   "id": "coated-longer",
   "metadata": {
    "executionInfo": {
     "elapsed": 8,
     "status": "ok",
     "timestamp": 1622382782023,
     "user": {
      "displayName": "Mohit Ranawat",
      "photoUrl": "",
      "userId": "09553679997904294165"
     },
     "user_tz": -330
    },
    "id": "coated-longer"
   },
   "outputs": [],
   "source": [
    "def download_preds(preds_test, file_name = 'hacklive_sub.csv'):\n",
    "\n",
    "  ## 1. Setting the target column with our obtained predictions\n",
    "  ss[TARGET_COL] = preds_test\n",
    "\n",
    "  ## 2. Saving our predictions to a csv file\n",
    "\n",
    "  ss.to_csv(file_name, index = False)\n",
    "  from google.colab import files\n",
    "  files.download(file_name)\n",
    "\n",
    "  "
   ]
  },
  {
   "cell_type": "code",
   "execution_count": 20,
   "id": "careful-surveillance",
   "metadata": {
    "executionInfo": {
     "elapsed": 7,
     "status": "ok",
     "timestamp": 1622382782788,
     "user": {
      "displayName": "Mohit Ranawat",
      "photoUrl": "",
      "userId": "09553679997904294165"
     },
     "user_tz": -330
    },
    "id": "careful-surveillance"
   },
   "outputs": [],
   "source": [
    "import numpy as np"
   ]
  },
  {
   "cell_type": "code",
   "execution_count": 21,
   "id": "tutorial-passenger",
   "metadata": {
    "executionInfo": {
     "elapsed": 1654,
     "status": "ok",
     "timestamp": 1622382791494,
     "user": {
      "displayName": "Mohit Ranawat",
      "photoUrl": "",
      "userId": "09553679997904294165"
     },
     "user_tz": -330
    },
    "id": "tutorial-passenger"
   },
   "outputs": [],
   "source": [
    "from sklearn.model_selection import train_test_split, StratifiedKFold"
   ]
  },
  {
   "cell_type": "code",
   "execution_count": 22,
   "id": "quiet-provision",
   "metadata": {
    "executionInfo": {
     "elapsed": 1503,
     "status": "ok",
     "timestamp": 1622382797554,
     "user": {
      "displayName": "Mohit Ranawat",
      "photoUrl": "",
      "userId": "09553679997904294165"
     },
     "user_tz": -330
    },
    "id": "quiet-provision"
   },
   "outputs": [],
   "source": [
    "from sklearn.metrics import accuracy_score, f1_score\n",
    "\n",
    "from sklearn.tree import DecisionTreeClassifier\n",
    "from sklearn.ensemble import RandomForestClassifier\n",
    "\n",
    "from sklearn.linear_model import LogisticRegression\n",
    "\n",
    "from lightgbm import LGBMClassifier\n",
    "from catboost import CatBoostClassifier\n",
    "from xgboost import XGBClassifier\n",
    "from sklearn.metrics import roc_auc_score\n",
    "from sklearn.metrics import roc_curve\n",
    "from imblearn.over_sampling import SMOTE\n"
   ]
  },
  {
   "cell_type": "code",
   "execution_count": 23,
   "id": "processed-incentive",
   "metadata": {
    "executionInfo": {
     "elapsed": 9,
     "status": "ok",
     "timestamp": 1622382798627,
     "user": {
      "displayName": "Mohit Ranawat",
      "photoUrl": "",
      "userId": "09553679997904294165"
     },
     "user_tz": -330
    },
    "id": "processed-incentive"
   },
   "outputs": [],
   "source": [
    "from sklearn.model_selection import StratifiedKFold"
   ]
  },
  {
   "cell_type": "code",
   "execution_count": 24,
   "id": "processed-seller",
   "metadata": {
    "executionInfo": {
     "elapsed": 8,
     "status": "ok",
     "timestamp": 1622382823965,
     "user": {
      "displayName": "Mohit Ranawat",
      "photoUrl": "",
      "userId": "09553679997904294165"
     },
     "user_tz": -330
    },
    "id": "processed-seller"
   },
   "outputs": [],
   "source": [
    "#Function for running cross validation\n",
    "def run_gradient_boosting(clf, fit_params, train, test, features):\n",
    "  N_SPLITS = 10\n",
    "  oofs = np.zeros(len(train_proc))\n",
    "  preds = np.zeros((len(test_proc)))\n",
    "\n",
    "  folds = StratifiedKFold(n_splits = N_SPLITS)\n",
    "\n",
    "  for fold_, (trn_idx, val_idx) in enumerate(folds.split(train, train[TARGET_COL])):\n",
    "    print(f'\\n------------- Fold {fold_ + 1} -------------')\n",
    "\n",
    "    ### Training Set\n",
    "    X_trn, y_trn = train[features].iloc[trn_idx], target.iloc[trn_idx]\n",
    "\n",
    "    ### Validation Set\n",
    "    X_val, y_val = train[features].iloc[val_idx], target.iloc[val_idx]\n",
    "\n",
    "    ### Test Set\n",
    "    X_test = test[features]\n",
    "    scaler = StandardScaler()\n",
    "    _ = scaler.fit(X_trn)\n",
    "\n",
    "    X_trn = scaler.transform(X_trn)\n",
    "    X_val = scaler.transform(X_val)\n",
    "    X_test = scaler.transform(X_test)\n",
    "    #print(X_trn)\n",
    "    #exit(0)\n",
    "    \n",
    "    _ = clf.fit(X_trn, y_trn, eval_set = [(X_val, y_val)], **fit_params)\n",
    "\n",
    "    ### Instead of directly predicting the classes we will obtain the probability of positive class.\n",
    "    preds_val = clf.predict_proba(X_val)[:, 1]\n",
    "    preds_test = clf.predict_proba(X_test)[:, 1]\n",
    "\n",
    "    roc_score = roc_auc_score(y_val,preds_val)\n",
    "    print(\"ROC for validation set is {}\".format(roc_score))\n",
    "\n",
    "    oofs[val_idx] = preds_val\n",
    "    preds += preds_test / N_SPLITS\n",
    "\n",
    "\n",
    "  oofs_score = roc_auc_score(target, oofs.round())\n",
    "  print('ROC score for oofs is {}'.format(oofs_score))\n",
    "  \n",
    "\n",
    "  return oofs, preds"
   ]
  },
  {
   "cell_type": "code",
   "execution_count": 27,
   "id": "legislative-democrat",
   "metadata": {},
   "outputs": [],
   "source": [
    "ID_COL,TARGET_COL = 'ID','Is_Lead'"
   ]
  },
  {
   "cell_type": "code",
   "execution_count": 26,
   "id": "similar-characteristic",
   "metadata": {
    "executionInfo": {
     "elapsed": 1376,
     "status": "ok",
     "timestamp": 1622382831183,
     "user": {
      "displayName": "Mohit Ranawat",
      "photoUrl": "",
      "userId": "09553679997904294165"
     },
     "user_tz": -330
    },
    "id": "similar-characteristic"
   },
   "outputs": [],
   "source": [
    "def join_df(train, test):\n",
    "\n",
    "  df = pd.concat([train, test], axis=0).reset_index(drop = True)\n",
    "  features = [c for c in df.columns if c not in [ID_COL, TARGET_COL]]\n",
    "\n",
    "  return df, features\n",
    "\n",
    "def split_df_and_get_features(df, train_nrows):\n",
    "\n",
    "  train, test = df[:train_nrows].reset_index(drop = True), df[train_nrows:].reset_index(drop = True)\n",
    "  features = [c for c in train.columns if c not in [ID_COL, TARGET_COL]]\n",
    "  \n",
    "  return train, test, features"
   ]
  },
  {
   "cell_type": "code",
   "execution_count": 16,
   "id": "micro-maine",
   "metadata": {
    "colab": {
     "base_uri": "https://localhost:8080/",
     "height": 224
    },
    "executionInfo": {
     "elapsed": 37,
     "status": "ok",
     "timestamp": 1622382831185,
     "user": {
      "displayName": "Mohit Ranawat",
      "photoUrl": "",
      "userId": "09553679997904294165"
     },
     "user_tz": -330
    },
    "id": "micro-maine",
    "outputId": "63246a4d-4293-4183-feba-b924dd0324c7"
   },
   "outputs": [
    {
     "data": {
      "text/html": [
       "<div>\n",
       "<style scoped>\n",
       "    .dataframe tbody tr th:only-of-type {\n",
       "        vertical-align: middle;\n",
       "    }\n",
       "\n",
       "    .dataframe tbody tr th {\n",
       "        vertical-align: top;\n",
       "    }\n",
       "\n",
       "    .dataframe thead th {\n",
       "        text-align: right;\n",
       "    }\n",
       "</style>\n",
       "<table border=\"1\" class=\"dataframe\">\n",
       "  <thead>\n",
       "    <tr style=\"text-align: right;\">\n",
       "      <th></th>\n",
       "      <th>ID</th>\n",
       "      <th>Gender</th>\n",
       "      <th>Age</th>\n",
       "      <th>Region_Code</th>\n",
       "      <th>Occupation</th>\n",
       "      <th>Channel_Code</th>\n",
       "      <th>Vintage</th>\n",
       "      <th>Credit_Product</th>\n",
       "      <th>Avg_Account_Balance</th>\n",
       "      <th>Is_Active</th>\n",
       "      <th>Is_Lead</th>\n",
       "    </tr>\n",
       "  </thead>\n",
       "  <tbody>\n",
       "    <tr>\n",
       "      <th>0</th>\n",
       "      <td>NNVBBKZB</td>\n",
       "      <td>Female</td>\n",
       "      <td>73</td>\n",
       "      <td>RG268</td>\n",
       "      <td>Other</td>\n",
       "      <td>X3</td>\n",
       "      <td>43</td>\n",
       "      <td>No</td>\n",
       "      <td>1045696</td>\n",
       "      <td>No</td>\n",
       "      <td>0.0</td>\n",
       "    </tr>\n",
       "    <tr>\n",
       "      <th>1</th>\n",
       "      <td>IDD62UNG</td>\n",
       "      <td>Female</td>\n",
       "      <td>30</td>\n",
       "      <td>RG277</td>\n",
       "      <td>Salaried</td>\n",
       "      <td>X1</td>\n",
       "      <td>32</td>\n",
       "      <td>No</td>\n",
       "      <td>581988</td>\n",
       "      <td>No</td>\n",
       "      <td>0.0</td>\n",
       "    </tr>\n",
       "    <tr>\n",
       "      <th>2</th>\n",
       "      <td>HD3DSEMC</td>\n",
       "      <td>Female</td>\n",
       "      <td>56</td>\n",
       "      <td>RG268</td>\n",
       "      <td>Self_Employed</td>\n",
       "      <td>X3</td>\n",
       "      <td>26</td>\n",
       "      <td>No</td>\n",
       "      <td>1484315</td>\n",
       "      <td>Yes</td>\n",
       "      <td>0.0</td>\n",
       "    </tr>\n",
       "    <tr>\n",
       "      <th>3</th>\n",
       "      <td>BF3NC7KV</td>\n",
       "      <td>Male</td>\n",
       "      <td>34</td>\n",
       "      <td>RG270</td>\n",
       "      <td>Salaried</td>\n",
       "      <td>X1</td>\n",
       "      <td>19</td>\n",
       "      <td>No</td>\n",
       "      <td>470454</td>\n",
       "      <td>No</td>\n",
       "      <td>0.0</td>\n",
       "    </tr>\n",
       "    <tr>\n",
       "      <th>4</th>\n",
       "      <td>TEASRWXV</td>\n",
       "      <td>Female</td>\n",
       "      <td>30</td>\n",
       "      <td>RG282</td>\n",
       "      <td>Salaried</td>\n",
       "      <td>X1</td>\n",
       "      <td>33</td>\n",
       "      <td>No</td>\n",
       "      <td>886787</td>\n",
       "      <td>No</td>\n",
       "      <td>0.0</td>\n",
       "    </tr>\n",
       "  </tbody>\n",
       "</table>\n",
       "</div>"
      ],
      "text/plain": [
       "         ID  Gender  Age Region_Code     Occupation Channel_Code  Vintage  \\\n",
       "0  NNVBBKZB  Female   73       RG268          Other           X3       43   \n",
       "1  IDD62UNG  Female   30       RG277       Salaried           X1       32   \n",
       "2  HD3DSEMC  Female   56       RG268  Self_Employed           X3       26   \n",
       "3  BF3NC7KV    Male   34       RG270       Salaried           X1       19   \n",
       "4  TEASRWXV  Female   30       RG282       Salaried           X1       33   \n",
       "\n",
       "  Credit_Product  Avg_Account_Balance Is_Active  Is_Lead  \n",
       "0             No              1045696        No      0.0  \n",
       "1             No               581988        No      0.0  \n",
       "2             No              1484315       Yes      0.0  \n",
       "3             No               470454        No      0.0  \n",
       "4             No               886787        No      0.0  "
      ]
     },
     "execution_count": 16,
     "metadata": {},
     "output_type": "execute_result"
    }
   ],
   "source": [
    "df, features = join_df(train_data,test_data)\n",
    "df.head()"
   ]
  },
  {
   "cell_type": "code",
   "execution_count": 97,
   "id": "expired-sydney",
   "metadata": {
    "executionInfo": {
     "elapsed": 966,
     "status": "ok",
     "timestamp": 1622382930174,
     "user": {
      "displayName": "Mohit Ranawat",
      "photoUrl": "",
      "userId": "09553679997904294165"
     },
     "user_tz": -330
    },
    "id": "expired-sydney"
   },
   "outputs": [],
   "source": [
    "#Feature engineering on the complete dataset\n",
    "df['occupation_mean_balance'] = df.groupby('Occupation')['Avg_Account_Balance'].transform('mean')\n",
    "df['is_active_avg_balance'] = df.groupby('Is_Active')['Avg_Account_Balance'].transform('mean')\n",
    "df['gender_avg_balance'] = df.groupby('Gender')['Avg_Account_Balance'].transform('mean')\n",
    "df['gender_avg_age'] = df.groupby('Gender')['Age'].transform('mean')\n",
    "df['gender_and_channelcode'] = df['Gender'].astype('str') + df['Channel_Code'].astype('str')\n",
    "df['gender_and_occupation'] = df['Gender'].astype('str') + df['Occupation'].astype('str')\n",
    "df['gender_and_active'] = df['Gender'].astype('str') + df['Is_Active'].astype('str')\n",
    "\n"
   ]
  },
  {
   "cell_type": "code",
   "execution_count": 98,
   "id": "emotional-compact",
   "metadata": {
    "executionInfo": {
     "elapsed": 453,
     "status": "ok",
     "timestamp": 1622382935599,
     "user": {
      "displayName": "Mohit Ranawat",
      "photoUrl": "",
      "userId": "09553679997904294165"
     },
     "user_tz": -330
    },
    "id": "emotional-compact"
   },
   "outputs": [],
   "source": [
    "from category_encoders import CountEncoder"
   ]
  },
  {
   "cell_type": "code",
   "execution_count": 99,
   "id": "broadband-remedy",
   "metadata": {
    "executionInfo": {
     "elapsed": 1669,
     "status": "ok",
     "timestamp": 1622382944091,
     "user": {
      "displayName": "Mohit Ranawat",
      "photoUrl": "",
      "userId": "09553679997904294165"
     },
     "user_tz": -330
    },
    "id": "broadband-remedy"
   },
   "outputs": [],
   "source": [
    "#dropping Avg account balance and preparin the datset for training and validation\n",
    "df.drop('Avg_Account_Balance',axis=1,inplace=True)\n",
    "\n",
    "categorical_col = ['gender_and_active','Region_Code','Gender','Credit_Product','Is_Active','Occupation','Channel_Code','gender_and_channelcode','gender_and_occupation']\n",
    "#Applying feature encoding\n",
    "ce = CountEncoder()\n",
    "count_encoded = ce.fit_transform(df[categorical_col])\n",
    "df = df.join(count_encoded.add_suffix(\"_count\"))\n",
    "df.drop(categorical_col,axis=1,inplace=True)\n",
    "\n",
    "\n",
    "ID_COL , TARGET_COL = 'ID','Is_Lead'\n",
    "features = [c for c in train_data.columns if c not in [ID_COL,TARGET_COL]]\n",
    "\n",
    "train_proc, test_proc , features = split_df_and_get_features(df,train_data.shape[0])\n",
    "\n",
    "\n",
    "target = train_data[TARGET_COL]\n"
   ]
  },
  {
   "cell_type": "code",
   "execution_count": 102,
   "id": "oriented-history",
   "metadata": {
    "colab": {
     "base_uri": "https://localhost:8080/"
    },
    "executionInfo": {
     "elapsed": 1092502,
     "status": "ok",
     "timestamp": 1622384821323,
     "user": {
      "displayName": "Mohit Ranawat",
      "photoUrl": "",
      "userId": "09553679997904294165"
     },
     "user_tz": -330
    },
    "id": "oriented-history",
    "outputId": "37272451-b72e-4541-bdf6-7b36aa896a16",
    "scrolled": false
   },
   "outputs": [
    {
     "name": "stdout",
     "output_type": "stream",
     "text": [
      "\n",
      "------------- Fold 1 -------------\n",
      "0:\tlearn: 0.6763171\ttest: 0.6764365\tbest: 0.6764365 (0)\ttotal: 83.8ms\tremaining: 4m 11s\n",
      "200:\tlearn: 0.3458747\ttest: 0.3482469\tbest: 0.3482469 (200)\ttotal: 15.2s\tremaining: 3m 32s\n",
      "400:\tlearn: 0.3431044\ttest: 0.3460274\tbest: 0.3460274 (400)\ttotal: 30.1s\tremaining: 3m 15s\n",
      "600:\tlearn: 0.3418284\ttest: 0.3453588\tbest: 0.3453588 (600)\ttotal: 45.1s\tremaining: 3m\n",
      "800:\tlearn: 0.3406374\ttest: 0.3449334\tbest: 0.3449334 (800)\ttotal: 1m\tremaining: 2m 46s\n",
      "1000:\tlearn: 0.3395704\ttest: 0.3447927\tbest: 0.3447911 (972)\ttotal: 1m 16s\tremaining: 2m 32s\n",
      "1200:\tlearn: 0.3386386\ttest: 0.3447620\tbest: 0.3447435 (1132)\ttotal: 1m 31s\tremaining: 2m 17s\n",
      "1400:\tlearn: 0.3377591\ttest: 0.3447264\tbest: 0.3447182 (1366)\ttotal: 1m 47s\tremaining: 2m 2s\n",
      "1600:\tlearn: 0.3369332\ttest: 0.3446922\tbest: 0.3446770 (1539)\ttotal: 2m 2s\tremaining: 1m 47s\n",
      "1800:\tlearn: 0.3361592\ttest: 0.3447178\tbest: 0.3446770 (1539)\ttotal: 2m 18s\tremaining: 1m 32s\n",
      "Stopped by overfitting detector  (300 iterations wait)\n",
      "\n",
      "bestTest = 0.3446770113\n",
      "bestIteration = 1539\n",
      "\n",
      "Shrink model to first 1540 iterations.\n",
      "ROC for validation set is 0.8729759566407737\n",
      "\n",
      "------------- Fold 2 -------------\n",
      "0:\tlearn: 0.6763474\ttest: 0.6763172\tbest: 0.6763172 (0)\ttotal: 74.8ms\tremaining: 3m 44s\n",
      "200:\tlearn: 0.3458925\ttest: 0.3465075\tbest: 0.3465075 (200)\ttotal: 15.2s\tremaining: 3m 31s\n",
      "400:\tlearn: 0.3430612\ttest: 0.3446924\tbest: 0.3446924 (400)\ttotal: 29.9s\tremaining: 3m 13s\n",
      "600:\tlearn: 0.3417537\ttest: 0.3441975\tbest: 0.3441975 (600)\ttotal: 45s\tremaining: 2m 59s\n",
      "800:\tlearn: 0.3405912\ttest: 0.3439177\tbest: 0.3439177 (800)\ttotal: 1m\tremaining: 2m 45s\n",
      "1000:\tlearn: 0.3395656\ttest: 0.3438606\tbest: 0.3438551 (963)\ttotal: 1m 15s\tremaining: 2m 31s\n",
      "1200:\tlearn: 0.3386276\ttest: 0.3439013\tbest: 0.3438483 (1031)\ttotal: 1m 31s\tremaining: 2m 16s\n",
      "Stopped by overfitting detector  (300 iterations wait)\n",
      "\n",
      "bestTest = 0.34384832\n",
      "bestIteration = 1031\n",
      "\n",
      "Shrink model to first 1032 iterations.\n",
      "ROC for validation set is 0.8728747977187663\n",
      "\n",
      "------------- Fold 3 -------------\n",
      "0:\tlearn: 0.6762806\ttest: 0.6762834\tbest: 0.6762834 (0)\ttotal: 75.8ms\tremaining: 3m 47s\n",
      "200:\tlearn: 0.3457894\ttest: 0.3485513\tbest: 0.3485513 (200)\ttotal: 15.1s\tremaining: 3m 30s\n",
      "400:\tlearn: 0.3429261\ttest: 0.3459273\tbest: 0.3459273 (400)\ttotal: 30.1s\tremaining: 3m 15s\n",
      "600:\tlearn: 0.3417328\ttest: 0.3453642\tbest: 0.3453642 (600)\ttotal: 45.1s\tremaining: 3m\n",
      "800:\tlearn: 0.3405754\ttest: 0.3449447\tbest: 0.3449447 (800)\ttotal: 1m\tremaining: 2m 45s\n",
      "1000:\tlearn: 0.3395776\ttest: 0.3448591\tbest: 0.3448591 (1000)\ttotal: 1m 15s\tremaining: 2m 31s\n",
      "1200:\tlearn: 0.3386576\ttest: 0.3448658\tbest: 0.3448406 (1067)\ttotal: 1m 31s\tremaining: 2m 16s\n",
      "1400:\tlearn: 0.3377934\ttest: 0.3448713\tbest: 0.3448385 (1318)\ttotal: 1m 46s\tremaining: 2m 1s\n",
      "1600:\tlearn: 0.3369571\ttest: 0.3449481\tbest: 0.3448385 (1318)\ttotal: 2m 1s\tremaining: 1m 46s\n",
      "Stopped by overfitting detector  (300 iterations wait)\n",
      "\n",
      "bestTest = 0.3448385292\n",
      "bestIteration = 1318\n",
      "\n",
      "Shrink model to first 1319 iterations.\n",
      "ROC for validation set is 0.8735954583639121\n",
      "\n",
      "------------- Fold 4 -------------\n",
      "0:\tlearn: 0.6763691\ttest: 0.6762233\tbest: 0.6762233 (0)\ttotal: 75.9ms\tremaining: 3m 47s\n",
      "200:\tlearn: 0.3463805\ttest: 0.3450435\tbest: 0.3450435 (200)\ttotal: 15.1s\tremaining: 3m 29s\n",
      "400:\tlearn: 0.3433767\ttest: 0.3426652\tbest: 0.3426639 (399)\ttotal: 30s\tremaining: 3m 14s\n",
      "600:\tlearn: 0.3420684\ttest: 0.3421730\tbest: 0.3421708 (596)\ttotal: 45s\tremaining: 2m 59s\n",
      "800:\tlearn: 0.3408728\ttest: 0.3419310\tbest: 0.3419217 (787)\ttotal: 1m\tremaining: 2m 45s\n",
      "1000:\tlearn: 0.3398508\ttest: 0.3417975\tbest: 0.3417708 (923)\ttotal: 1m 15s\tremaining: 2m 31s\n",
      "1200:\tlearn: 0.3389145\ttest: 0.3417740\tbest: 0.3417591 (1131)\ttotal: 1m 31s\tremaining: 2m 16s\n",
      "1400:\tlearn: 0.3380422\ttest: 0.3417917\tbest: 0.3417591 (1131)\ttotal: 1m 46s\tremaining: 2m 1s\n",
      "Stopped by overfitting detector  (300 iterations wait)\n",
      "\n",
      "bestTest = 0.3417591021\n",
      "bestIteration = 1131\n",
      "\n",
      "Shrink model to first 1132 iterations.\n",
      "ROC for validation set is 0.8750066218936957\n",
      "\n",
      "------------- Fold 5 -------------\n",
      "0:\tlearn: 0.6763158\ttest: 0.6763842\tbest: 0.6763842 (0)\ttotal: 81.1ms\tremaining: 4m 3s\n",
      "200:\tlearn: 0.3456690\ttest: 0.3511959\tbest: 0.3511959 (200)\ttotal: 15.2s\tremaining: 3m 31s\n",
      "400:\tlearn: 0.3426037\ttest: 0.3491458\tbest: 0.3491439 (397)\ttotal: 30.2s\tremaining: 3m 15s\n",
      "600:\tlearn: 0.3413483\ttest: 0.3486606\tbest: 0.3486606 (600)\ttotal: 45.4s\tremaining: 3m 1s\n",
      "800:\tlearn: 0.3401338\ttest: 0.3484028\tbest: 0.3483992 (798)\ttotal: 1m\tremaining: 2m 46s\n",
      "1000:\tlearn: 0.3391035\ttest: 0.3484609\tbest: 0.3483792 (857)\ttotal: 1m 16s\tremaining: 2m 32s\n",
      "Stopped by overfitting detector  (300 iterations wait)\n",
      "\n",
      "bestTest = 0.3483791655\n",
      "bestIteration = 857\n",
      "\n",
      "Shrink model to first 858 iterations.\n",
      "ROC for validation set is 0.8698443638065285\n",
      "\n",
      "------------- Fold 6 -------------\n",
      "0:\tlearn: 0.6763491\ttest: 0.6762880\tbest: 0.6762880 (0)\ttotal: 76.5ms\tremaining: 3m 49s\n",
      "200:\tlearn: 0.3465217\ttest: 0.3436715\tbest: 0.3436715 (200)\ttotal: 15s\tremaining: 3m 29s\n",
      "400:\tlearn: 0.3434327\ttest: 0.3414017\tbest: 0.3414017 (400)\ttotal: 30.1s\tremaining: 3m 14s\n",
      "600:\tlearn: 0.3422243\ttest: 0.3409279\tbest: 0.3409279 (600)\ttotal: 45.2s\tremaining: 3m\n",
      "800:\tlearn: 0.3409907\ttest: 0.3406813\tbest: 0.3406777 (795)\ttotal: 1m\tremaining: 2m 46s\n",
      "1000:\tlearn: 0.3399484\ttest: 0.3406232\tbest: 0.3405926 (963)\ttotal: 1m 15s\tremaining: 2m 31s\n",
      "1200:\tlearn: 0.3390413\ttest: 0.3406197\tbest: 0.3405926 (963)\ttotal: 1m 31s\tremaining: 2m 16s\n",
      "Stopped by overfitting detector  (300 iterations wait)\n",
      "\n",
      "bestTest = 0.3405925535\n",
      "bestIteration = 963\n",
      "\n",
      "Shrink model to first 964 iterations.\n",
      "ROC for validation set is 0.8781428496835301\n",
      "\n",
      "------------- Fold 7 -------------\n",
      "0:\tlearn: 0.6763368\ttest: 0.6763884\tbest: 0.6763884 (0)\ttotal: 76ms\tremaining: 3m 47s\n",
      "200:\tlearn: 0.3458815\ttest: 0.3492675\tbest: 0.3492675 (200)\ttotal: 15.1s\tremaining: 3m 29s\n",
      "400:\tlearn: 0.3428874\ttest: 0.3468416\tbest: 0.3468416 (400)\ttotal: 30.1s\tremaining: 3m 14s\n",
      "600:\tlearn: 0.3415827\ttest: 0.3463304\tbest: 0.3463304 (600)\ttotal: 45.3s\tremaining: 3m\n",
      "800:\tlearn: 0.3403944\ttest: 0.3461219\tbest: 0.3461170 (779)\ttotal: 1m\tremaining: 2m 46s\n",
      "1000:\tlearn: 0.3393509\ttest: 0.3461248\tbest: 0.3460796 (883)\ttotal: 1m 16s\tremaining: 2m 32s\n",
      "Stopped by overfitting detector  (300 iterations wait)\n",
      "\n",
      "bestTest = 0.3460795768\n",
      "bestIteration = 883\n",
      "\n",
      "Shrink model to first 884 iterations.\n",
      "ROC for validation set is 0.8738983434204779\n",
      "\n",
      "------------- Fold 8 -------------\n",
      "0:\tlearn: 0.6763270\ttest: 0.6763754\tbest: 0.6763754 (0)\ttotal: 75.1ms\tremaining: 3m 45s\n",
      "200:\tlearn: 0.3461725\ttest: 0.3452520\tbest: 0.3452520 (200)\ttotal: 15.1s\tremaining: 3m 30s\n",
      "400:\tlearn: 0.3433054\ttest: 0.3430703\tbest: 0.3430693 (399)\ttotal: 30s\tremaining: 3m 14s\n",
      "600:\tlearn: 0.3420006\ttest: 0.3424934\tbest: 0.3424934 (600)\ttotal: 45.2s\tremaining: 3m\n",
      "800:\tlearn: 0.3408328\ttest: 0.3421836\tbest: 0.3421836 (800)\ttotal: 1m\tremaining: 2m 46s\n",
      "1000:\tlearn: 0.3398131\ttest: 0.3421001\tbest: 0.3420894 (971)\ttotal: 1m 16s\tremaining: 2m 31s\n",
      "1200:\tlearn: 0.3389079\ttest: 0.3421297\tbest: 0.3420864 (1063)\ttotal: 1m 31s\tremaining: 2m 17s\n",
      "Stopped by overfitting detector  (300 iterations wait)\n",
      "\n",
      "bestTest = 0.3420863733\n",
      "bestIteration = 1063\n",
      "\n",
      "Shrink model to first 1064 iterations.\n",
      "ROC for validation set is 0.8750985682793526\n",
      "\n",
      "------------- Fold 9 -------------\n",
      "0:\tlearn: 0.6763519\ttest: 0.6762698\tbest: 0.6762698 (0)\ttotal: 76.3ms\tremaining: 3m 48s\n",
      "200:\tlearn: 0.3465310\ttest: 0.3423509\tbest: 0.3423509 (200)\ttotal: 15.3s\tremaining: 3m 32s\n",
      "400:\tlearn: 0.3436635\ttest: 0.3397607\tbest: 0.3397604 (399)\ttotal: 30.4s\tremaining: 3m 16s\n",
      "600:\tlearn: 0.3423543\ttest: 0.3390683\tbest: 0.3390683 (600)\ttotal: 45.5s\tremaining: 3m 1s\n",
      "800:\tlearn: 0.3411439\ttest: 0.3387231\tbest: 0.3387159 (795)\ttotal: 1m\tremaining: 2m 47s\n",
      "1000:\tlearn: 0.3401029\ttest: 0.3386189\tbest: 0.3386163 (992)\ttotal: 1m 16s\tremaining: 2m 32s\n",
      "1200:\tlearn: 0.3391686\ttest: 0.3385859\tbest: 0.3385727 (1079)\ttotal: 1m 32s\tremaining: 2m 17s\n",
      "1400:\tlearn: 0.3382781\ttest: 0.3385905\tbest: 0.3385587 (1324)\ttotal: 1m 47s\tremaining: 2m 2s\n",
      "1600:\tlearn: 0.3374595\ttest: 0.3386310\tbest: 0.3385587 (1324)\ttotal: 2m 3s\tremaining: 1m 47s\n",
      "Stopped by overfitting detector  (300 iterations wait)\n",
      "\n",
      "bestTest = 0.3385587056\n",
      "bestIteration = 1324\n",
      "\n",
      "Shrink model to first 1325 iterations.\n",
      "ROC for validation set is 0.8769794603343743\n",
      "\n",
      "------------- Fold 10 -------------\n",
      "0:\tlearn: 0.6763357\ttest: 0.6763882\tbest: 0.6763882 (0)\ttotal: 78.6ms\tremaining: 3m 55s\n",
      "200:\tlearn: 0.3461529\ttest: 0.3461190\tbest: 0.3461190 (200)\ttotal: 15.1s\tremaining: 3m 30s\n",
      "400:\tlearn: 0.3432127\ttest: 0.3437123\tbest: 0.3437123 (400)\ttotal: 30.2s\tremaining: 3m 15s\n",
      "600:\tlearn: 0.3419859\ttest: 0.3431042\tbest: 0.3431042 (600)\ttotal: 45.5s\tremaining: 3m 1s\n",
      "800:\tlearn: 0.3408631\ttest: 0.3428363\tbest: 0.3428363 (800)\ttotal: 1m\tremaining: 2m 47s\n",
      "1000:\tlearn: 0.3398115\ttest: 0.3426461\tbest: 0.3426369 (986)\ttotal: 1m 16s\tremaining: 2m 32s\n",
      "1200:\tlearn: 0.3388851\ttest: 0.3426425\tbest: 0.3426185 (1063)\ttotal: 1m 32s\tremaining: 2m 17s\n",
      "Stopped by overfitting detector  (300 iterations wait)\n",
      "\n",
      "bestTest = 0.3426185058\n",
      "bestIteration = 1063\n",
      "\n",
      "Shrink model to first 1064 iterations.\n",
      "ROC for validation set is 0.8756255334695913\n",
      "ROC score for oofs is 0.7538542495525088\n",
      "Optimized ROC is 0.8743429062180446\n"
     ]
    }
   ],
   "source": [
    "#catboost model training\n",
    "clf = CatBoostClassifier(n_estimators = 3000,\n",
    "                       learning_rate = 0.02,\n",
    "                       rsm = 0.4, ## Analogous to colsample_bytree\n",
    "                       random_state=2054,\n",
    "                       \n",
    "                       )\n",
    "\n",
    "fit_params = {'verbose': 200, 'early_stopping_rounds': 300}\n",
    "\n",
    "cb_oofs, cb_preds = run_gradient_boosting(clf, fit_params, train_proc, test_proc, features)\n",
    "\n",
    "optimized_roc = roc_auc_score(target, (cb_oofs  * 1))\n",
    "print(f'Optimized ROC is {optimized_roc}')"
   ]
  },
  {
   "cell_type": "code",
   "execution_count": null,
   "id": "proved-harvey",
   "metadata": {
    "id": "proved-harvey"
   },
   "outputs": [],
   "source": []
  },
  {
   "cell_type": "code",
   "execution_count": 103,
   "id": "plain-steps",
   "metadata": {
    "colab": {
     "base_uri": "https://localhost:8080/"
    },
    "executionInfo": {
     "elapsed": 74916,
     "status": "ok",
     "timestamp": 1622384910372,
     "user": {
      "displayName": "Mohit Ranawat",
      "photoUrl": "",
      "userId": "09553679997904294165"
     },
     "user_tz": -330
    },
    "id": "plain-steps",
    "outputId": "2a88be67-017b-4524-b245-13a3d6bf94e7"
   },
   "outputs": [
    {
     "name": "stdout",
     "output_type": "stream",
     "text": [
      "\n",
      "------------- Fold 1 -------------\n",
      "Training until validation scores don't improve for 100 rounds.\n",
      "[100]\tvalid_0's binary_logloss: 0.345848\n",
      "[200]\tvalid_0's binary_logloss: 0.344697\n",
      "Did not meet early stopping. Best iteration is:\n",
      "[197]\tvalid_0's binary_logloss: 0.344681\n",
      "ROC for validation set is 0.8728690773544818\n",
      "\n",
      "------------- Fold 2 -------------\n",
      "Training until validation scores don't improve for 100 rounds.\n",
      "[100]\tvalid_0's binary_logloss: 0.345081\n",
      "[200]\tvalid_0's binary_logloss: 0.344377\n",
      "Did not meet early stopping. Best iteration is:\n",
      "[191]\tvalid_0's binary_logloss: 0.34436\n",
      "ROC for validation set is 0.8726673223943127\n",
      "\n",
      "------------- Fold 3 -------------\n",
      "Training until validation scores don't improve for 100 rounds.\n",
      "[100]\tvalid_0's binary_logloss: 0.34626\n",
      "[200]\tvalid_0's binary_logloss: 0.344958\n",
      "Did not meet early stopping. Best iteration is:\n",
      "[200]\tvalid_0's binary_logloss: 0.344958\n",
      "ROC for validation set is 0.8734977957285555\n",
      "\n",
      "------------- Fold 4 -------------\n",
      "Training until validation scores don't improve for 100 rounds.\n",
      "[100]\tvalid_0's binary_logloss: 0.342875\n",
      "[200]\tvalid_0's binary_logloss: 0.341693\n",
      "Did not meet early stopping. Best iteration is:\n",
      "[197]\tvalid_0's binary_logloss: 0.341689\n",
      "ROC for validation set is 0.8752548216355636\n",
      "\n",
      "------------- Fold 5 -------------\n",
      "Training until validation scores don't improve for 100 rounds.\n",
      "[100]\tvalid_0's binary_logloss: 0.348984\n",
      "[200]\tvalid_0's binary_logloss: 0.348238\n",
      "Did not meet early stopping. Best iteration is:\n",
      "[191]\tvalid_0's binary_logloss: 0.348206\n",
      "ROC for validation set is 0.8701182731536367\n",
      "\n",
      "------------- Fold 6 -------------\n",
      "Training until validation scores don't improve for 100 rounds.\n",
      "[100]\tvalid_0's binary_logloss: 0.341768\n",
      "[200]\tvalid_0's binary_logloss: 0.340811\n",
      "Did not meet early stopping. Best iteration is:\n",
      "[194]\tvalid_0's binary_logloss: 0.340802\n",
      "ROC for validation set is 0.8775598720073607\n",
      "\n",
      "------------- Fold 7 -------------\n",
      "Training until validation scores don't improve for 100 rounds.\n",
      "[100]\tvalid_0's binary_logloss: 0.346617\n",
      "[200]\tvalid_0's binary_logloss: 0.345849\n",
      "Did not meet early stopping. Best iteration is:\n",
      "[189]\tvalid_0's binary_logloss: 0.345839\n",
      "ROC for validation set is 0.8744657132652617\n",
      "\n",
      "------------- Fold 8 -------------\n",
      "Training until validation scores don't improve for 100 rounds.\n",
      "[100]\tvalid_0's binary_logloss: 0.342925\n",
      "[200]\tvalid_0's binary_logloss: 0.342053\n",
      "Did not meet early stopping. Best iteration is:\n",
      "[197]\tvalid_0's binary_logloss: 0.34203\n",
      "ROC for validation set is 0.8748295503644401\n",
      "\n",
      "------------- Fold 9 -------------\n",
      "Training until validation scores don't improve for 100 rounds.\n",
      "[100]\tvalid_0's binary_logloss: 0.339943\n",
      "[200]\tvalid_0's binary_logloss: 0.338793\n",
      "Did not meet early stopping. Best iteration is:\n",
      "[197]\tvalid_0's binary_logloss: 0.338782\n",
      "ROC for validation set is 0.8764597809887911\n",
      "\n",
      "------------- Fold 10 -------------\n",
      "Training until validation scores don't improve for 100 rounds.\n",
      "[100]\tvalid_0's binary_logloss: 0.3441\n",
      "[200]\tvalid_0's binary_logloss: 0.342966\n",
      "Did not meet early stopping. Best iteration is:\n",
      "[197]\tvalid_0's binary_logloss: 0.342958\n",
      "ROC for validation set is 0.8755271425309928\n",
      "ROC score for oofs is 0.7534677633476413\n",
      "Optimized ROC is 0.8742549765455752\n"
     ]
    }
   ],
   "source": [
    "#training LightGBM model \n",
    "clf = LGBMClassifier(n_estimators = 200,\n",
    "                        learning_rate = 0.05,\n",
    "                        colsample_bytree = 0.5,\n",
    "                        )\n",
    "fit_params = {'verbose': 100, 'early_stopping_rounds': 100}\n",
    "\n",
    "lgb_oofs, lgb_preds = run_gradient_boosting(clf, fit_params, train_proc, test_proc, features)\n",
    "\n",
    "\n",
    "optimized_roc = roc_auc_score(target, (lgb_oofs * 1))\n",
    "print(f'Optimized ROC is {optimized_roc}')"
   ]
  },
  {
   "cell_type": "code",
   "execution_count": 104,
   "id": "bearing-discussion",
   "metadata": {
    "colab": {
     "base_uri": "https://localhost:8080/"
    },
    "executionInfo": {
     "elapsed": 703340,
     "status": "ok",
     "timestamp": 1622385641881,
     "user": {
      "displayName": "Mohit Ranawat",
      "photoUrl": "",
      "userId": "09553679997904294165"
     },
     "user_tz": -330
    },
    "id": "bearing-discussion",
    "outputId": "bcc107ae-92d8-41e1-81b9-ffd112500245"
   },
   "outputs": [
    {
     "name": "stdout",
     "output_type": "stream",
     "text": [
      "\n",
      "------------- Fold 1 -------------\n",
      "[0]\tvalidation_0-error:0.215521\n",
      "Will train until validation_0-error hasn't improved in 200 rounds.\n",
      "[200]\tvalidation_0-error:0.139625\n",
      "[400]\tvalidation_0-error:0.139299\n",
      "Stopping. Best iteration:\n",
      "[337]\tvalidation_0-error:0.13877\n",
      "\n",
      "ROC for validation set is 0.8730797789643918\n",
      "\n",
      "------------- Fold 2 -------------\n",
      "[0]\tvalidation_0-error:0.215358\n",
      "Will train until validation_0-error hasn't improved in 200 rounds.\n",
      "[200]\tvalidation_0-error:0.138811\n",
      "Stopping. Best iteration:\n",
      "[146]\tvalidation_0-error:0.13816\n",
      "\n",
      "ROC for validation set is 0.8724101531212467\n",
      "\n",
      "------------- Fold 3 -------------\n",
      "[0]\tvalidation_0-error:0.211899\n",
      "Will train until validation_0-error hasn't improved in 200 rounds.\n",
      "[200]\tvalidation_0-error:0.140601\n",
      "Stopping. Best iteration:\n",
      "[165]\tvalidation_0-error:0.139991\n",
      "\n",
      "ROC for validation set is 0.8736284534251052\n",
      "\n",
      "------------- Fold 4 -------------\n",
      "[0]\tvalidation_0-error:0.212591\n",
      "Will train until validation_0-error hasn't improved in 200 rounds.\n",
      "[200]\tvalidation_0-error:0.137834\n",
      "[400]\tvalidation_0-error:0.138038\n",
      "Stopping. Best iteration:\n",
      "[224]\tvalidation_0-error:0.137712\n",
      "\n",
      "ROC for validation set is 0.8755503768411246\n",
      "\n",
      "------------- Fold 5 -------------\n",
      "[0]\tvalidation_0-error:0.213486\n",
      "Will train until validation_0-error hasn't improved in 200 rounds.\n",
      "[200]\tvalidation_0-error:0.141456\n",
      "Stopping. Best iteration:\n",
      "[77]\tvalidation_0-error:0.140764\n",
      "\n",
      "ROC for validation set is 0.8690735744650846\n",
      "\n",
      "------------- Fold 6 -------------\n",
      "[0]\tvalidation_0-error:0.214838\n",
      "Will train until validation_0-error hasn't improved in 200 rounds.\n",
      "[200]\tvalidation_0-error:0.139956\n",
      "Stopping. Best iteration:\n",
      "[80]\tvalidation_0-error:0.138532\n",
      "\n",
      "ROC for validation set is 0.876887737455075\n",
      "\n",
      "------------- Fold 7 -------------\n",
      "[0]\tvalidation_0-error:0.213332\n",
      "Will train until validation_0-error hasn't improved in 200 rounds.\n",
      "[200]\tvalidation_0-error:0.14134\n",
      "Stopping. Best iteration:\n",
      "[132]\tvalidation_0-error:0.141096\n",
      "\n",
      "ROC for validation set is 0.8737864247421679\n",
      "\n",
      "------------- Fold 8 -------------\n",
      "[0]\tvalidation_0-error:0.214635\n",
      "Will train until validation_0-error hasn't improved in 200 rounds.\n",
      "[200]\tvalidation_0-error:0.138532\n",
      "Stopping. Best iteration:\n",
      "[65]\tvalidation_0-error:0.138369\n",
      "\n",
      "ROC for validation set is 0.8742360926886485\n",
      "\n",
      "------------- Fold 9 -------------\n",
      "[0]\tvalidation_0-error:0.213454\n",
      "Will train until validation_0-error hasn't improved in 200 rounds.\n",
      "[200]\tvalidation_0-error:0.135479\n",
      "Stopping. Best iteration:\n",
      "[149]\tvalidation_0-error:0.134869\n",
      "\n",
      "ROC for validation set is 0.8767074310590451\n",
      "\n",
      "------------- Fold 10 -------------\n",
      "[0]\tvalidation_0-error:0.215001\n",
      "Will train until validation_0-error hasn't improved in 200 rounds.\n",
      "[200]\tvalidation_0-error:0.13841\n",
      "Stopping. Best iteration:\n",
      "[154]\tvalidation_0-error:0.13784\n",
      "\n",
      "ROC for validation set is 0.8755224973473714\n",
      "ROC score for oofs is 0.7508942213111376\n",
      "Optimized F1 is 0.8734712038192222\n"
     ]
    }
   ],
   "source": [
    "#training XGB Classifier\n",
    "clf = XGBClassifier(n_estimators = 1000,\n",
    "                    max_depth = 6,\n",
    "                    learning_rate = 0.05,\n",
    "                    colsample_bytree = 0.5,\n",
    "                    random_state=1452,\n",
    "                    )\n",
    "\n",
    "fit_params = {'verbose': 200, 'early_stopping_rounds': 200}\n",
    "\n",
    "xgb_oofs, xgb_preds = run_gradient_boosting(clf, fit_params, train_proc, test_proc, features)\n",
    "\n",
    "\n",
    "optimized_f1 = roc_auc_score(target, (xgb_oofs * 1))\n",
    "print(f'Optimized F1 is {optimized_f1}')"
   ]
  },
  {
   "cell_type": "code",
   "execution_count": 105,
   "id": "bored-nerve",
   "metadata": {
    "colab": {
     "base_uri": "https://localhost:8080/"
    },
    "executionInfo": {
     "elapsed": 725,
     "status": "ok",
     "timestamp": 1622385649842,
     "user": {
      "displayName": "Mohit Ranawat",
      "photoUrl": "",
      "userId": "09553679997904294165"
     },
     "user_tz": -330
    },
    "id": "bored-nerve",
    "outputId": "6698e785-13bf-4c77-dd65-b1464f2c7278"
   },
   "outputs": [
    {
     "name": "stderr",
     "output_type": "stream",
     "text": [
      "/usr/local/lib/python3.7/dist-packages/ipykernel_launcher.py:4: SettingWithCopyWarning: \n",
      "A value is trying to be set on a copy of a slice from a DataFrame.\n",
      "Try using .loc[row_indexer,col_indexer] = value instead\n",
      "\n",
      "See the caveats in the documentation: https://pandas.pydata.org/pandas-docs/stable/user_guide/indexing.html#returning-a-view-versus-a-copy\n",
      "  after removing the cwd from sys.path.\n",
      "/usr/local/lib/python3.7/dist-packages/ipykernel_launcher.py:5: SettingWithCopyWarning: \n",
      "A value is trying to be set on a copy of a slice from a DataFrame.\n",
      "Try using .loc[row_indexer,col_indexer] = value instead\n",
      "\n",
      "See the caveats in the documentation: https://pandas.pydata.org/pandas-docs/stable/user_guide/indexing.html#returning-a-view-versus-a-copy\n",
      "  \"\"\"\n",
      "/usr/local/lib/python3.7/dist-packages/ipykernel_launcher.py:7: SettingWithCopyWarning: \n",
      "A value is trying to be set on a copy of a slice from a DataFrame.\n",
      "Try using .loc[row_indexer,col_indexer] = value instead\n",
      "\n",
      "See the caveats in the documentation: https://pandas.pydata.org/pandas-docs/stable/user_guide/indexing.html#returning-a-view-versus-a-copy\n",
      "  import sys\n",
      "/usr/local/lib/python3.7/dist-packages/ipykernel_launcher.py:8: SettingWithCopyWarning: \n",
      "A value is trying to be set on a copy of a slice from a DataFrame.\n",
      "Try using .loc[row_indexer,col_indexer] = value instead\n",
      "\n",
      "See the caveats in the documentation: https://pandas.pydata.org/pandas-docs/stable/user_guide/indexing.html#returning-a-view-versus-a-copy\n",
      "  \n",
      "/usr/local/lib/python3.7/dist-packages/ipykernel_launcher.py:10: SettingWithCopyWarning: \n",
      "A value is trying to be set on a copy of a slice from a DataFrame.\n",
      "Try using .loc[row_indexer,col_indexer] = value instead\n",
      "\n",
      "See the caveats in the documentation: https://pandas.pydata.org/pandas-docs/stable/user_guide/indexing.html#returning-a-view-versus-a-copy\n",
      "  # Remove the CWD from sys.path while we load stuff.\n",
      "/usr/local/lib/python3.7/dist-packages/ipykernel_launcher.py:11: SettingWithCopyWarning: \n",
      "A value is trying to be set on a copy of a slice from a DataFrame.\n",
      "Try using .loc[row_indexer,col_indexer] = value instead\n",
      "\n",
      "See the caveats in the documentation: https://pandas.pydata.org/pandas-docs/stable/user_guide/indexing.html#returning-a-view-versus-a-copy\n",
      "  # This is added back by InteractiveShellApp.init_path()\n"
     ]
    }
   ],
   "source": [
    "#preparing the input from CatBoost, LightGBM , XGBoost\n",
    "train_new = train_data[[ID_COL, TARGET_COL]]\n",
    "test_new = test_data[[ID_COL]]\n",
    "\n",
    "train_new['lgb'] = lgb_oofs\n",
    "test_new['lgb'] = lgb_preds\n",
    "\n",
    "train_new['cb'] = cb_oofs\n",
    "test_new['cb'] = cb_preds\n",
    "\n",
    "train_new['xgb'] = xgb_oofs\n",
    "test_new['xgb'] = xgb_preds\n",
    "\n",
    "features = [c for c in train_new.columns if c not in [ID_COL, TARGET_COL]]"
   ]
  },
  {
   "cell_type": "code",
   "execution_count": 107,
   "id": "english-passport",
   "metadata": {
    "colab": {
     "base_uri": "https://localhost:8080/"
    },
    "executionInfo": {
     "elapsed": 497805,
     "status": "ok",
     "timestamp": 1622386152869,
     "user": {
      "displayName": "Mohit Ranawat",
      "photoUrl": "",
      "userId": "09553679997904294165"
     },
     "user_tz": -330
    },
    "id": "english-passport",
    "outputId": "34a8b3dc-d113-4f15-acb3-bc161b669e21"
   },
   "outputs": [
    {
     "name": "stdout",
     "output_type": "stream",
     "text": [
      "\n",
      "------------- Fold 1 -------------\n",
      "0:\tlearn: 0.6811419\ttest: 0.6811420\tbest: 0.6811420 (0)\ttotal: 49.7ms\tremaining: 2m 29s\n",
      "200:\tlearn: 0.3431813\ttest: 0.3444260\tbest: 0.3444260 (200)\ttotal: 11.4s\tremaining: 2m 39s\n",
      "400:\tlearn: 0.3426966\ttest: 0.3444138\tbest: 0.3444026 (224)\ttotal: 23.1s\tremaining: 2m 29s\n",
      "Stopped by overfitting detector  (300 iterations wait)\n",
      "\n",
      "bestTest = 0.3444026339\n",
      "bestIteration = 224\n",
      "\n",
      "Shrink model to first 225 iterations.\n",
      "ROC for validation set is 0.8731569581193186\n",
      "\n",
      "------------- Fold 2 -------------\n",
      "0:\tlearn: 0.6811419\ttest: 0.6811420\tbest: 0.6811420 (0)\ttotal: 48.9ms\tremaining: 2m 26s\n",
      "200:\tlearn: 0.3433219\ttest: 0.3440693\tbest: 0.3440668 (199)\ttotal: 11.2s\tremaining: 2m 35s\n",
      "400:\tlearn: 0.3428063\ttest: 0.3439520\tbest: 0.3439410 (378)\ttotal: 22.7s\tremaining: 2m 27s\n",
      "600:\tlearn: 0.3423262\ttest: 0.3439443\tbest: 0.3439387 (539)\ttotal: 34.4s\tremaining: 2m 17s\n",
      "800:\tlearn: 0.3418952\ttest: 0.3439748\tbest: 0.3439352 (717)\ttotal: 46.2s\tremaining: 2m 6s\n",
      "1000:\tlearn: 0.3415365\ttest: 0.3440349\tbest: 0.3439352 (717)\ttotal: 57.9s\tremaining: 1m 55s\n",
      "Stopped by overfitting detector  (300 iterations wait)\n",
      "\n",
      "bestTest = 0.3439352089\n",
      "bestIteration = 717\n",
      "\n",
      "Shrink model to first 718 iterations.\n",
      "ROC for validation set is 0.8726319751193259\n",
      "\n",
      "------------- Fold 3 -------------\n",
      "0:\tlearn: 0.6811419\ttest: 0.6811420\tbest: 0.6811420 (0)\ttotal: 45.9ms\tremaining: 2m 17s\n",
      "200:\tlearn: 0.3431112\ttest: 0.3450606\tbest: 0.3450565 (197)\ttotal: 11.6s\tremaining: 2m 41s\n",
      "400:\tlearn: 0.3426551\ttest: 0.3448309\tbest: 0.3448286 (397)\ttotal: 23.3s\tremaining: 2m 30s\n",
      "600:\tlearn: 0.3421916\ttest: 0.3447684\tbest: 0.3447684 (600)\ttotal: 35.1s\tremaining: 2m 20s\n",
      "800:\tlearn: 0.3417817\ttest: 0.3447253\tbest: 0.3447066 (745)\ttotal: 46.9s\tremaining: 2m 8s\n",
      "1000:\tlearn: 0.3414384\ttest: 0.3447829\tbest: 0.3447066 (745)\ttotal: 58.5s\tremaining: 1m 56s\n",
      "Stopped by overfitting detector  (300 iterations wait)\n",
      "\n",
      "bestTest = 0.3447066488\n",
      "bestIteration = 745\n",
      "\n",
      "Shrink model to first 746 iterations.\n",
      "ROC for validation set is 0.8738759392655103\n",
      "\n",
      "------------- Fold 4 -------------\n",
      "0:\tlearn: 0.6811419\ttest: 0.6811420\tbest: 0.6811420 (0)\ttotal: 46.4ms\tremaining: 2m 19s\n",
      "200:\tlearn: 0.3435370\ttest: 0.3418496\tbest: 0.3418496 (200)\ttotal: 11.4s\tremaining: 2m 38s\n",
      "400:\tlearn: 0.3430925\ttest: 0.3415989\tbest: 0.3415989 (400)\ttotal: 22.8s\tremaining: 2m 27s\n",
      "600:\tlearn: 0.3426017\ttest: 0.3415682\tbest: 0.3415527 (522)\ttotal: 34.5s\tremaining: 2m 17s\n",
      "800:\tlearn: 0.3421481\ttest: 0.3415625\tbest: 0.3415527 (522)\ttotal: 46.4s\tremaining: 2m 7s\n",
      "1000:\tlearn: 0.3417371\ttest: 0.3415898\tbest: 0.3415508 (812)\ttotal: 58.3s\tremaining: 1m 56s\n",
      "Stopped by overfitting detector  (300 iterations wait)\n",
      "\n",
      "bestTest = 0.3415507991\n",
      "bestIteration = 812\n",
      "\n",
      "Shrink model to first 813 iterations.\n",
      "ROC for validation set is 0.8750483073323098\n",
      "\n",
      "------------- Fold 5 -------------\n",
      "0:\tlearn: 0.6811419\ttest: 0.6811420\tbest: 0.6811420 (0)\ttotal: 55.5ms\tremaining: 2m 46s\n",
      "200:\tlearn: 0.3428503\ttest: 0.3487001\tbest: 0.3487001 (200)\ttotal: 11.3s\tremaining: 2m 37s\n",
      "400:\tlearn: 0.3423063\ttest: 0.3483471\tbest: 0.3483471 (400)\ttotal: 23s\tremaining: 2m 29s\n",
      "600:\tlearn: 0.3418214\ttest: 0.3483296\tbest: 0.3483103 (504)\ttotal: 34.8s\tremaining: 2m 18s\n",
      "800:\tlearn: 0.3413960\ttest: 0.3483444\tbest: 0.3483103 (504)\ttotal: 46.6s\tremaining: 2m 7s\n",
      "Stopped by overfitting detector  (300 iterations wait)\n",
      "\n",
      "bestTest = 0.3483102912\n",
      "bestIteration = 504\n",
      "\n",
      "Shrink model to first 505 iterations.\n",
      "ROC for validation set is 0.8699653929859144\n",
      "\n",
      "------------- Fold 6 -------------\n",
      "0:\tlearn: 0.6811422\ttest: 0.6811408\tbest: 0.6811408 (0)\ttotal: 45.7ms\tremaining: 2m 17s\n",
      "200:\tlearn: 0.3436576\ttest: 0.3409833\tbest: 0.3409833 (200)\ttotal: 11.6s\tremaining: 2m 40s\n",
      "400:\tlearn: 0.3431606\ttest: 0.3407398\tbest: 0.3407392 (395)\ttotal: 23.2s\tremaining: 2m 30s\n",
      "600:\tlearn: 0.3427209\ttest: 0.3407039\tbest: 0.3407018 (583)\ttotal: 34.7s\tremaining: 2m 18s\n",
      "800:\tlearn: 0.3422705\ttest: 0.3407350\tbest: 0.3406808 (628)\ttotal: 46.7s\tremaining: 2m 8s\n",
      "Stopped by overfitting detector  (300 iterations wait)\n",
      "\n",
      "bestTest = 0.3406807512\n",
      "bestIteration = 628\n",
      "\n",
      "Shrink model to first 629 iterations.\n",
      "ROC for validation set is 0.8780314711002648\n",
      "\n",
      "------------- Fold 7 -------------\n",
      "0:\tlearn: 0.6811422\ttest: 0.6811408\tbest: 0.6811408 (0)\ttotal: 45.9ms\tremaining: 2m 17s\n",
      "200:\tlearn: 0.3430352\ttest: 0.3462820\tbest: 0.3462820 (200)\ttotal: 11.4s\tremaining: 2m 38s\n",
      "400:\tlearn: 0.3425309\ttest: 0.3461178\tbest: 0.3461116 (390)\ttotal: 23.1s\tremaining: 2m 29s\n",
      "600:\tlearn: 0.3421142\ttest: 0.3461175\tbest: 0.3461092 (410)\ttotal: 34.7s\tremaining: 2m 18s\n",
      "Stopped by overfitting detector  (300 iterations wait)\n",
      "\n",
      "bestTest = 0.3461092088\n",
      "bestIteration = 410\n",
      "\n",
      "Shrink model to first 411 iterations.\n",
      "ROC for validation set is 0.8742117495901136\n",
      "\n",
      "------------- Fold 8 -------------\n",
      "0:\tlearn: 0.6811418\ttest: 0.6811424\tbest: 0.6811424 (0)\ttotal: 50.5ms\tremaining: 2m 31s\n",
      "200:\tlearn: 0.3434926\ttest: 0.3424360\tbest: 0.3424360 (200)\ttotal: 11.4s\tremaining: 2m 38s\n",
      "400:\tlearn: 0.3430307\ttest: 0.3423258\tbest: 0.3423086 (320)\ttotal: 22.9s\tremaining: 2m 28s\n",
      "600:\tlearn: 0.3425439\ttest: 0.3423881\tbest: 0.3423086 (320)\ttotal: 34.8s\tremaining: 2m 18s\n",
      "Stopped by overfitting detector  (300 iterations wait)\n",
      "\n",
      "bestTest = 0.3423086268\n",
      "bestIteration = 320\n",
      "\n",
      "Shrink model to first 321 iterations.\n",
      "ROC for validation set is 0.8750940970040837\n",
      "\n",
      "------------- Fold 9 -------------\n",
      "0:\tlearn: 0.6811418\ttest: 0.6811424\tbest: 0.6811424 (0)\ttotal: 48.1ms\tremaining: 2m 24s\n",
      "200:\tlearn: 0.3438716\ttest: 0.3385763\tbest: 0.3385763 (200)\ttotal: 11.4s\tremaining: 2m 38s\n",
      "400:\tlearn: 0.3433980\ttest: 0.3383772\tbest: 0.3383772 (400)\ttotal: 23s\tremaining: 2m 28s\n",
      "600:\tlearn: 0.3429100\ttest: 0.3384003\tbest: 0.3383680 (456)\ttotal: 34.6s\tremaining: 2m 17s\n",
      "Stopped by overfitting detector  (300 iterations wait)\n",
      "\n",
      "bestTest = 0.3383679565\n",
      "bestIteration = 456\n",
      "\n",
      "Shrink model to first 457 iterations.\n",
      "ROC for validation set is 0.8770275185345799\n",
      "\n",
      "------------- Fold 10 -------------\n",
      "0:\tlearn: 0.6811418\ttest: 0.6811424\tbest: 0.6811424 (0)\ttotal: 49.2ms\tremaining: 2m 27s\n",
      "200:\tlearn: 0.3434308\ttest: 0.3431934\tbest: 0.3431934 (200)\ttotal: 11.3s\tremaining: 2m 37s\n",
      "400:\tlearn: 0.3429334\ttest: 0.3429083\tbest: 0.3429083 (400)\ttotal: 22.8s\tremaining: 2m 27s\n",
      "600:\tlearn: 0.3424640\ttest: 0.3428674\tbest: 0.3428544 (588)\ttotal: 34.5s\tremaining: 2m 17s\n",
      "800:\tlearn: 0.3420394\ttest: 0.3428636\tbest: 0.3428440 (660)\ttotal: 46.1s\tremaining: 2m 6s\n",
      "Stopped by overfitting detector  (300 iterations wait)\n",
      "\n",
      "bestTest = 0.3428440034\n",
      "bestIteration = 660\n",
      "\n",
      "Shrink model to first 661 iterations.\n",
      "ROC for validation set is 0.8754813497159029\n",
      "ROC score for oofs is 0.7533395613368219\n",
      "Optimized ROC is 0.8741885533672905\n"
     ]
    }
   ],
   "source": [
    "#final ensembled model\n",
    "clf = CatBoostClassifier(n_estimators = 3000,\n",
    "                       learning_rate = 0.04,\n",
    "                       rsm = 0.4, ## Analogous to colsample_bytree\n",
    "                       random_state=2054,\n",
    "                       \n",
    "                       )\n",
    "\n",
    "fit_params = {'verbose': 200, 'early_stopping_rounds': 300}\n",
    "\n",
    "cb_oofs, cb_preds = run_gradient_boosting(clf, fit_params, train_new, test_new, features)\n",
    "\n",
    "optimized_f1 = roc_auc_score(target, (cb_oofs  * 1))\n",
    "print(f'Optimized ROC is {optimized_f1}')"
   ]
  },
  {
   "cell_type": "code",
   "execution_count": 108,
   "id": "vital-compression",
   "metadata": {
    "colab": {
     "base_uri": "https://localhost:8080/",
     "height": 17
    },
    "executionInfo": {
     "elapsed": 454,
     "status": "ok",
     "timestamp": 1622386163013,
     "user": {
      "displayName": "Mohit Ranawat",
      "photoUrl": "",
      "userId": "09553679997904294165"
     },
     "user_tz": -330
    },
    "id": "vital-compression",
    "outputId": "5925f866-5e11-4f14-da31-479c280540ed"
   },
   "outputs": [
    {
     "data": {
      "application/javascript": [
       "\n",
       "    async function download(id, filename, size) {\n",
       "      if (!google.colab.kernel.accessAllowed) {\n",
       "        return;\n",
       "      }\n",
       "      const div = document.createElement('div');\n",
       "      const label = document.createElement('label');\n",
       "      label.textContent = `Downloading \"${filename}\": `;\n",
       "      div.appendChild(label);\n",
       "      const progress = document.createElement('progress');\n",
       "      progress.max = size;\n",
       "      div.appendChild(progress);\n",
       "      document.body.appendChild(div);\n",
       "\n",
       "      const buffers = [];\n",
       "      let downloaded = 0;\n",
       "\n",
       "      const channel = await google.colab.kernel.comms.open(id);\n",
       "      // Send a message to notify the kernel that we're ready.\n",
       "      channel.send({})\n",
       "\n",
       "      for await (const message of channel.messages) {\n",
       "        // Send a message to notify the kernel that we're ready.\n",
       "        channel.send({})\n",
       "        if (message.buffers) {\n",
       "          for (const buffer of message.buffers) {\n",
       "            buffers.push(buffer);\n",
       "            downloaded += buffer.byteLength;\n",
       "            progress.value = downloaded;\n",
       "          }\n",
       "        }\n",
       "      }\n",
       "      const blob = new Blob(buffers, {type: 'application/binary'});\n",
       "      const a = document.createElement('a');\n",
       "      a.href = window.URL.createObjectURL(blob);\n",
       "      a.download = filename;\n",
       "      div.appendChild(a);\n",
       "      a.click();\n",
       "      div.remove();\n",
       "    }\n",
       "  "
      ],
      "text/plain": [
       "<IPython.core.display.Javascript object>"
      ]
     },
     "metadata": {
      "tags": []
     },
     "output_type": "display_data"
    },
    {
     "data": {
      "application/javascript": [
       "download(\"download_7e1a6754-3195-4715-abe0-598b721d693f\", \"JobathonExperimentalPredictions_new.csv\", 3032573)"
      ],
      "text/plain": [
       "<IPython.core.display.Javascript object>"
      ]
     },
     "metadata": {
      "tags": []
     },
     "output_type": "display_data"
    }
   ],
   "source": [
    "cb_preds_rounded = (cb_preds) * 1\n",
    "download_preds(cb_preds_rounded, file_name = 'final.csv')"
   ]
  },
  {
   "cell_type": "code",
   "execution_count": null,
   "id": "SXBmN9VVI1sb",
   "metadata": {
    "id": "SXBmN9VVI1sb"
   },
   "outputs": [],
   "source": []
  }
 ],
 "metadata": {
  "colab": {
   "collapsed_sections": [],
   "name": "Analysis.ipynb",
   "provenance": []
  },
  "kernelspec": {
   "display_name": "Python 3",
   "language": "python",
   "name": "python3"
  },
  "language_info": {
   "codemirror_mode": {
    "name": "ipython",
    "version": 3
   },
   "file_extension": ".py",
   "mimetype": "text/x-python",
   "name": "python",
   "nbconvert_exporter": "python",
   "pygments_lexer": "ipython3",
   "version": "3.8.5"
  }
 },
 "nbformat": 4,
 "nbformat_minor": 5
}
